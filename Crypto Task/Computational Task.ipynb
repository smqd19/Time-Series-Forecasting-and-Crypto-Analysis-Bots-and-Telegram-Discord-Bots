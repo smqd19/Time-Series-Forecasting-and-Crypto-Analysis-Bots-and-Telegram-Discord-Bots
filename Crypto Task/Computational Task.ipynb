{
 "cells": [
  {
   "cell_type": "markdown",
   "metadata": {},
   "source": [
    "#  <font color='red'>ADA Predictive Analysis</font> \n",
    "\n",
    "\n",
    "\n",
    "\n",
    "\n",
    " "
   ]
  },
  {
   "cell_type": "code",
   "execution_count": 1,
   "metadata": {},
   "outputs": [
    {
     "output_type": "stream",
     "name": "stdout",
     "text": [
      "Package                            Version\n",
      "---------------------------------- -------------------\n",
      "-                                  ikit-learn\n",
      "-cikit-learn                       0.23.2\n",
      "-ltk                               3.5\n",
      "absl-py                            0.12.0\n",
      "alabaster                          0.7.12\n",
      "anaconda-client                    1.7.2\n",
      "anaconda-navigator                 1.10.0\n",
      "anaconda-project                   0.8.3\n",
      "argh                               0.26.2\n",
      "argon2-cffi                        20.1.0\n",
      "asn1crypto                         1.4.0\n",
      "astroid                            2.4.2\n",
      "astropy                            4.0.2\n",
      "astunparse                         1.6.3\n",
      "async-generator                    1.10\n",
      "atomicwrites                       1.4.0\n",
      "attrs                              20.3.0\n",
      "autopep8                           1.5.4\n",
      "Babel                              2.8.1\n",
      "backcall                           0.2.0\n",
      "backports.functools-lru-cache      1.6.1\n",
      "backports.shutil-get-terminal-size 1.0.0\n",
      "backports.tempfile                 1.0\n",
      "backports.weakref                  1.0.post1\n",
      "bcrypt                             3.2.0\n",
      "beautifulsoup4                     4.9.3\n",
      "bitarray                           1.6.1\n",
      "bkcharts                           0.2\n",
      "bleach                             3.2.1\n",
      "bokeh                              2.2.3\n",
      "boto                               2.49.0\n",
      "Bottleneck                         1.3.2\n",
      "brotlipy                           0.7.0\n",
      "cachetools                         4.2.2\n",
      "certifi                            2020.6.20\n",
      "cffi                               1.14.3\n",
      "chardet                            3.0.4\n",
      "click                              7.1.2\n",
      "cloudpickle                        1.6.0\n",
      "clyent                             1.2.2\n",
      "colorama                           0.4.3\n",
      "comtypes                           1.1.7\n",
      "conda                              4.9.2\n",
      "conda-build                        3.20.5\n",
      "conda-package-handling             1.7.2\n",
      "conda-verify                       3.4.2\n",
      "contextlib2                        0.6.0.post1\n",
      "cryptography                       3.1.1\n",
      "cycler                             0.10.0\n",
      "Cython                             0.29.21\n",
      "cytoolz                            0.11.0\n",
      "dask                               2.30.0\n",
      "decorator                          5.0.7\n",
      "defusedxml                         0.6.0\n",
      "diff-match-patch                   20200713\n",
      "distributed                        2.30.1\n",
      "docutils                           0.16\n",
      "entrypoints                        0.3\n",
      "et-xmlfile                         1.0.1\n",
      "fastcache                          1.1.0\n",
      "filelock                           3.0.12\n",
      "findspark                          1.4.2\n",
      "flake8                             3.8.4\n",
      "Flask                              1.1.2\n",
      "flatbuffers                        1.12\n",
      "fsspec                             0.8.3\n",
      "future                             0.18.2\n",
      "gast                               0.4.0\n",
      "gevent                             20.9.0\n",
      "glob2                              0.7\n",
      "google-auth                        1.30.1\n",
      "google-auth-oauthlib               0.4.4\n",
      "google-pasta                       0.2.0\n",
      "greenlet                           0.4.17\n",
      "grpcio                             1.34.1\n",
      "h5py                               3.1.0\n",
      "HeapDict                           1.0.1\n",
      "html5lib                           1.1\n",
      "idna                               2.10\n",
      "imageio                            2.9.0\n",
      "imagesize                          1.2.0\n",
      "imbalanced-learn                   0.8.0\n",
      "imblearn                           0.0\n",
      "importlib-metadata                 2.0.0\n",
      "iniconfig                          1.1.1\n",
      "intervaltree                       3.1.0\n",
      "ipykernel                          5.5.3\n",
      "ipython                            7.22.0\n",
      "ipython-genutils                   0.2.0\n",
      "ipywidgets                         7.5.1\n",
      "isort                              5.5.1\n",
      "itsdangerous                       1.1.0\n",
      "jdcal                              1.4.1Note: you may need to restart the kernel to use updated packages.\n",
      "\n",
      "jedi                               0.18.0\n",
      "Jinja2                             2.11.2\n",
      "joblib                             0.17.0\n",
      "json5                              0.9.5\n",
      "jsonschema                         3.2.0\n",
      "jupyter                            1.0.0\n",
      "jupyter-client                     6.1.12\n",
      "jupyter-console                    6.2.0\n",
      "jupyter-core                       4.7.1\n",
      "jupyterlab                         2.2.6\n",
      "jupyterlab-pygments                0.1.2\n",
      "jupyterlab-server                  1.2.0\n",
      "keras-nightly                      2.5.0.dev2021032900\n",
      "Keras-Preprocessing                1.1.2\n",
      "keyring                            21.4.0\n",
      "kiwisolver                         1.3.0\n",
      "lazy-object-proxy                  1.4.3\n",
      "libarchive-c                       2.9\n",
      "llvmlite                           0.34.0\n",
      "locket                             0.2.0\n",
      "lxml                               4.6.1\n",
      "Markdown                           3.3.4\n",
      "MarkupSafe                         1.1.1\n",
      "matplotlib                         3.3.2\n",
      "mccabe                             0.6.1\n",
      "menuinst                           1.4.16\n",
      "mistune                            0.8.4\n",
      "mkl-fft                            1.2.0\n",
      "mkl-random                         1.1.1\n",
      "mkl-service                        2.3.0\n",
      "mlxtend                            0.18.0\n",
      "mock                               4.0.2\n",
      "more-itertools                     8.6.0\n",
      "mpmath                             1.1.0\n",
      "msgpack                            1.0.0\n",
      "multipledispatch                   0.6.0\n",
      "navigator-updater                  0.2.1\n",
      "nbclient                           0.5.1\n",
      "nbconvert                          6.0.7\n",
      "nbformat                           5.0.8\n",
      "nest-asyncio                       1.4.2\n",
      "networkx                           2.5\n",
      "nltk                               3.5\n",
      "nose                               1.3.7\n",
      "notebook                           6.1.4\n",
      "numba                              0.51.2\n",
      "numexpr                            2.7.1\n",
      "numpy                              1.19.2\n",
      "numpydoc                           1.1.0\n",
      "oauthlib                           3.1.0\n",
      "olefile                            0.46\n",
      "openpyxl                           3.0.5\n",
      "opt-einsum                         3.3.0\n",
      "packaging                          20.4\n",
      "pandas                             1.1.3\n",
      "pandocfilters                      1.4.3\n",
      "paramiko                           2.7.2\n",
      "parso                              0.8.2\n",
      "partd                              1.1.0\n",
      "path                               15.0.0\n",
      "pathlib2                           2.3.5\n",
      "pathtools                          0.1.2\n",
      "patsy                              0.5.1\n",
      "pep8                               1.7.1\n",
      "pexpect                            4.8.0\n",
      "pickleshare                        0.7.5\n",
      "Pillow                             8.0.1\n",
      "pip                                20.2.4\n",
      "pkginfo                            1.6.1\n",
      "pluggy                             0.13.1\n",
      "ply                                3.11\n",
      "pmdarima                           1.8.2\n",
      "prometheus-client                  0.8.0\n",
      "prompt-toolkit                     3.0.18\n",
      "protobuf                           3.17.1\n",
      "psutil                             5.7.2\n",
      "py                                 1.9.0\n",
      "py4j                               0.10.9\n",
      "pyasn1                             0.4.8\n",
      "pyasn1-modules                     0.2.8\n",
      "pycodestyle                        2.6.0\n",
      "pycosat                            0.6.3\n",
      "pycparser                          2.20\n",
      "pycurl                             7.43.0.6\n",
      "pydocstyle                         5.1.1\n",
      "pyflakes                           2.2.0\n",
      "Pygments                           2.8.1\n",
      "pylint                             2.6.0\n",
      "PyNaCl                             1.4.0\n",
      "pyodbc                             4.0.0-unsupported\n",
      "pyOpenSSL                          19.1.0\n",
      "pyparsing                          2.4.7\n",
      "pyreadline                         2.1\n",
      "pyrsistent                         0.17.3\n",
      "PySocks                            1.7.1\n",
      "pytest                             0.0.0\n",
      "python-dateutil                    2.8.1\n",
      "python-jsonrpc-server              0.4.0\n",
      "python-language-server             0.35.1\n",
      "pytz                               2020.1\n",
      "PyWavelets                         1.1.1\n",
      "pywin32                            300\n",
      "pywin32-ctypes                     0.2.0\n",
      "pywinpty                           0.5.7\n",
      "PyYAML                             5.3.1\n",
      "pyzmq                              22.0.3\n",
      "QDarkStyle                         2.8.1\n",
      "QtAwesome                          1.0.1\n",
      "qtconsole                          4.7.7\n",
      "QtPy                               1.9.0\n",
      "regex                              2020.10.15\n",
      "requests                           2.24.0\n",
      "requests-oauthlib                  1.3.0\n",
      "rope                               0.18.0\n",
      "rsa                                4.7.2\n",
      "Rtree                              0.9.4\n",
      "ruamel-yaml                        0.15.87\n",
      "scikit-image                       0.17.2\n",
      "scikit-learn                       0.24.2\n",
      "scipy                              1.5.2\n",
      "seaborn                            0.11.0\n",
      "Send2Trash                         1.5.0\n",
      "setuptools                         50.3.1.post20201107\n",
      "simplegeneric                      0.8.1\n",
      "singledispatch                     3.4.0.3\n",
      "sip                                4.19.13\n",
      "six                                1.15.0\n",
      "snowballstemmer                    2.0.0\n",
      "sortedcollections                  1.2.1\n",
      "sortedcontainers                   2.2.2\n",
      "soupsieve                          2.0.1\n",
      "Sphinx                             3.2.1\n",
      "sphinxcontrib-applehelp            1.0.2\n",
      "sphinxcontrib-devhelp              1.0.2\n",
      "sphinxcontrib-htmlhelp             1.0.3\n",
      "sphinxcontrib-jsmath               1.0.1\n",
      "sphinxcontrib-qthelp               1.0.3\n",
      "sphinxcontrib-serializinghtml      1.1.4\n",
      "sphinxcontrib-websupport           1.2.4\n",
      "spyder                             4.1.5\n",
      "spyder-kernels                     1.9.4\n",
      "SQLAlchemy                         1.3.20\n",
      "statsmodels                        0.12.2\n",
      "sympy                              1.6.2\n",
      "tables                             3.6.1\n",
      "tblib                              1.7.0\n",
      "tensorboard                        2.5.0\n",
      "tensorboard-data-server            0.6.1\n",
      "tensorboard-plugin-wit             1.8.0\n",
      "tensorflow                         2.5.0\n",
      "tensorflow-estimator               2.5.0\n",
      "tensorflow-gpu                     2.5.0\n",
      "termcolor                          1.1.0\n",
      "terminado                          0.9.1\n",
      "testpath                           0.4.4\n",
      "threadpoolctl                      2.1.0\n",
      "tifffile                           2020.10.1\n",
      "toml                               0.10.1\n",
      "toolz                              0.11.1\n",
      "tornado                            6.1\n",
      "tqdm                               4.50.2\n",
      "traitlets                          5.0.5\n",
      "typing-extensions                  3.7.4.3\n",
      "ujson                              4.0.1\n",
      "unicodecsv                         0.14.1\n",
      "urllib3                            1.25.11\n",
      "watchdog                           0.10.3\n",
      "wcwidth                            0.2.5\n",
      "webencodings                       0.5.1\n",
      "Werkzeug                           1.0.1\n",
      "wheel                              0.35.1\n",
      "widgetsnbextension                 3.5.1\n",
      "win-inet-pton                      1.1.0\n",
      "win-unicode-console                0.5\n",
      "wincertstore                       0.2\n",
      "wrapt                              1.12.1\n",
      "xlrd                               1.2.0\n",
      "XlsxWriter                         1.3.7\n",
      "xlwings                            0.20.8\n",
      "xlwt                               1.3.0\n",
      "xmltodict                          0.12.0\n",
      "yapf                               0.30.0\n",
      "zict                               2.0.0\n",
      "zipp                               3.4.0\n",
      "zope.event                         4.5.0\n",
      "zope.interface                     5.1.2\n"
     ]
    }
   ],
   "source": [
    "pip list"
   ]
  },
  {
   "cell_type": "markdown",
   "metadata": {},
   "source": [
    "# Importing Libraries"
   ]
  },
  {
   "cell_type": "code",
   "execution_count": 10,
   "metadata": {},
   "outputs": [],
   "source": [
    "%matplotlib inline\n",
    "\n",
    "import pandas as pd\n",
    "import numpy as np\n",
    "import matplotlib.pyplot as plt\n",
    "from scipy.stats import zscore\n",
    "from sklearn.preprocessing import MinMaxScaler\n",
    "import datetime\n",
    "from matplotlib.pylab import gca, figure, plot, subplot, title, xlabel, ylabel, xlim,show\n",
    "from matplotlib.lines import Line2D\n",
    "import tensorflow\n",
    "import segment\n",
    "import fit\n",
    "import os\n",
    "import warnings\n",
    "warnings.filterwarnings('ignore')\n",
    "import pandas as pd\n",
    "import numpy as np\n",
    "import matplotlib.pyplot as plt\n",
    "plt.style.use('fivethirtyeight')\n",
    "from pylab import rcParams\n",
    "rcParams['figure.figsize'] = 10, 6\n",
    "from datetime import datetime\n",
    "from statsmodels.tsa.stattools import adfuller\n",
    "from statsmodels.tsa.seasonal import seasonal_decompose\n",
    "from statsmodels.tsa.arima_model import ARIMA\n",
    "from pmdarima.arima import auto_arima\n",
    "from sklearn.metrics import mean_squared_error, mean_absolute_error\n",
    "import math\n",
    "from statsmodels.tsa.seasonal import seasonal_decompose\n",
    "from math import sqrt\n",
    "from sklearn.metrics import mean_squared_error\n",
    "import statsmodels.api as sm"
   ]
  },
  {
   "cell_type": "code",
   "execution_count": 11,
   "metadata": {},
   "outputs": [
    {
     "output_type": "execute_result",
     "data": {
      "text/plain": [
       "           unix            date    symbol    open    high     low   close  \\\n",
       "0  1.622070e+12  5/27/2021 0:00  ADA/USDT  1.7788  1.7790  1.7607  1.7710   \n",
       "1  1.621990e+12  5/26/2021 0:00  ADA/USDT  1.5525  1.8320  1.5520  1.7791   \n",
       "2  1.621900e+12  5/25/2021 0:00  ADA/USDT  1.5497  1.6499  1.4354  1.5532   \n",
       "3  1.621810e+12  5/24/2021 0:00  ADA/USDT  1.3135  1.5974  1.2476  1.5500   \n",
       "4  1.621730e+12  5/23/2021 0:00  ADA/USDT  1.4636  1.5397  1.0510  1.3139   \n",
       "\n",
       "     Volume ADA   Volume USDT  tradecount  \n",
       "0  3.240370e+06  5.732675e+06        6206  \n",
       "1  8.570805e+08  1.472383e+09     2010480  \n",
       "2  8.077173e+08  1.239076e+09     1776216  \n",
       "3  1.034256e+09  1.503761e+09     2078079  \n",
       "4  1.461270e+09  1.839006e+09     2445334  "
      ],
      "text/html": "<div>\n<style scoped>\n    .dataframe tbody tr th:only-of-type {\n        vertical-align: middle;\n    }\n\n    .dataframe tbody tr th {\n        vertical-align: top;\n    }\n\n    .dataframe thead th {\n        text-align: right;\n    }\n</style>\n<table border=\"1\" class=\"dataframe\">\n  <thead>\n    <tr style=\"text-align: right;\">\n      <th></th>\n      <th>unix</th>\n      <th>date</th>\n      <th>symbol</th>\n      <th>open</th>\n      <th>high</th>\n      <th>low</th>\n      <th>close</th>\n      <th>Volume ADA</th>\n      <th>Volume USDT</th>\n      <th>tradecount</th>\n    </tr>\n  </thead>\n  <tbody>\n    <tr>\n      <th>0</th>\n      <td>1.622070e+12</td>\n      <td>5/27/2021 0:00</td>\n      <td>ADA/USDT</td>\n      <td>1.7788</td>\n      <td>1.7790</td>\n      <td>1.7607</td>\n      <td>1.7710</td>\n      <td>3.240370e+06</td>\n      <td>5.732675e+06</td>\n      <td>6206</td>\n    </tr>\n    <tr>\n      <th>1</th>\n      <td>1.621990e+12</td>\n      <td>5/26/2021 0:00</td>\n      <td>ADA/USDT</td>\n      <td>1.5525</td>\n      <td>1.8320</td>\n      <td>1.5520</td>\n      <td>1.7791</td>\n      <td>8.570805e+08</td>\n      <td>1.472383e+09</td>\n      <td>2010480</td>\n    </tr>\n    <tr>\n      <th>2</th>\n      <td>1.621900e+12</td>\n      <td>5/25/2021 0:00</td>\n      <td>ADA/USDT</td>\n      <td>1.5497</td>\n      <td>1.6499</td>\n      <td>1.4354</td>\n      <td>1.5532</td>\n      <td>8.077173e+08</td>\n      <td>1.239076e+09</td>\n      <td>1776216</td>\n    </tr>\n    <tr>\n      <th>3</th>\n      <td>1.621810e+12</td>\n      <td>5/24/2021 0:00</td>\n      <td>ADA/USDT</td>\n      <td>1.3135</td>\n      <td>1.5974</td>\n      <td>1.2476</td>\n      <td>1.5500</td>\n      <td>1.034256e+09</td>\n      <td>1.503761e+09</td>\n      <td>2078079</td>\n    </tr>\n    <tr>\n      <th>4</th>\n      <td>1.621730e+12</td>\n      <td>5/23/2021 0:00</td>\n      <td>ADA/USDT</td>\n      <td>1.4636</td>\n      <td>1.5397</td>\n      <td>1.0510</td>\n      <td>1.3139</td>\n      <td>1.461270e+09</td>\n      <td>1.839006e+09</td>\n      <td>2445334</td>\n    </tr>\n  </tbody>\n</table>\n</div>"
     },
     "metadata": {},
     "execution_count": 11
    }
   ],
   "source": [
    "# Apple Dataset for 2018, 2019 and 2020\n",
    "#dataset1=  pd.read_csv('Binance_ADAUSDT_1h.csv') # Hourly\n",
    "dataset2=  pd.read_csv('Binance_ADAUSDT_d.csv') # Daily\n",
    "#dataset3=  pd.read_csv('Binance_ADAUSDT_minute.csv') #Minutes\n",
    "dataset2.head()"
   ]
  },
  {
   "cell_type": "code",
   "execution_count": 12,
   "metadata": {},
   "outputs": [
    {
     "output_type": "execute_result",
     "data": {
      "text/plain": [
       "              unix       date    symbol     open     high      low    close  \\\n",
       "1136  1.523920e+12 2018-04-17  ADA/USDT  0.25551  0.28800  0.23983  0.24260   \n",
       "1135  1.524010e+12 2018-04-18  ADA/USDT  0.24260  0.26460  0.24201  0.26200   \n",
       "1134  1.524100e+12 2018-04-19  ADA/USDT  0.26199  0.27500  0.25777  0.27004   \n",
       "1133  1.524180e+12 2018-04-20  ADA/USDT  0.27004  0.30442  0.26648  0.30108   \n",
       "1132  1.524270e+12 2018-04-21  ADA/USDT  0.30161  0.30700  0.26509  0.28668   \n",
       "...            ...        ...       ...      ...      ...      ...      ...   \n",
       "4     1.621730e+12 2021-05-23  ADA/USDT  1.46360  1.53970  1.05100  1.31390   \n",
       "3     1.621810e+12 2021-05-24  ADA/USDT  1.31350  1.59740  1.24760  1.55000   \n",
       "2     1.621900e+12 2021-05-25  ADA/USDT  1.54970  1.64990  1.43540  1.55320   \n",
       "1     1.621990e+12 2021-05-26  ADA/USDT  1.55250  1.83200  1.55200  1.77910   \n",
       "0     1.622070e+12 2021-05-27  ADA/USDT  1.77880  1.77900  1.76070  1.77100   \n",
       "\n",
       "        Volume ADA   Volume USDT  tradecount  \n",
       "1136  6.746229e+07  1.741182e+07       42568  \n",
       "1135  3.132810e+07  7.922134e+06       21684  \n",
       "1134  5.085998e+07  1.360991e+07       32600  \n",
       "1133  7.108428e+07  2.027089e+07       46506  \n",
       "1132  9.271984e+07  2.653939e+07       55256  \n",
       "...            ...           ...         ...  \n",
       "4     1.461270e+09  1.839006e+09     2445334  \n",
       "3     1.034256e+09  1.503761e+09     2078079  \n",
       "2     8.077173e+08  1.239076e+09     1776216  \n",
       "1     8.570805e+08  1.472383e+09     2010480  \n",
       "0     3.240370e+06  5.732675e+06        6206  \n",
       "\n",
       "[1137 rows x 10 columns]"
      ],
      "text/html": "<div>\n<style scoped>\n    .dataframe tbody tr th:only-of-type {\n        vertical-align: middle;\n    }\n\n    .dataframe tbody tr th {\n        vertical-align: top;\n    }\n\n    .dataframe thead th {\n        text-align: right;\n    }\n</style>\n<table border=\"1\" class=\"dataframe\">\n  <thead>\n    <tr style=\"text-align: right;\">\n      <th></th>\n      <th>unix</th>\n      <th>date</th>\n      <th>symbol</th>\n      <th>open</th>\n      <th>high</th>\n      <th>low</th>\n      <th>close</th>\n      <th>Volume ADA</th>\n      <th>Volume USDT</th>\n      <th>tradecount</th>\n    </tr>\n  </thead>\n  <tbody>\n    <tr>\n      <th>1136</th>\n      <td>1.523920e+12</td>\n      <td>2018-04-17</td>\n      <td>ADA/USDT</td>\n      <td>0.25551</td>\n      <td>0.28800</td>\n      <td>0.23983</td>\n      <td>0.24260</td>\n      <td>6.746229e+07</td>\n      <td>1.741182e+07</td>\n      <td>42568</td>\n    </tr>\n    <tr>\n      <th>1135</th>\n      <td>1.524010e+12</td>\n      <td>2018-04-18</td>\n      <td>ADA/USDT</td>\n      <td>0.24260</td>\n      <td>0.26460</td>\n      <td>0.24201</td>\n      <td>0.26200</td>\n      <td>3.132810e+07</td>\n      <td>7.922134e+06</td>\n      <td>21684</td>\n    </tr>\n    <tr>\n      <th>1134</th>\n      <td>1.524100e+12</td>\n      <td>2018-04-19</td>\n      <td>ADA/USDT</td>\n      <td>0.26199</td>\n      <td>0.27500</td>\n      <td>0.25777</td>\n      <td>0.27004</td>\n      <td>5.085998e+07</td>\n      <td>1.360991e+07</td>\n      <td>32600</td>\n    </tr>\n    <tr>\n      <th>1133</th>\n      <td>1.524180e+12</td>\n      <td>2018-04-20</td>\n      <td>ADA/USDT</td>\n      <td>0.27004</td>\n      <td>0.30442</td>\n      <td>0.26648</td>\n      <td>0.30108</td>\n      <td>7.108428e+07</td>\n      <td>2.027089e+07</td>\n      <td>46506</td>\n    </tr>\n    <tr>\n      <th>1132</th>\n      <td>1.524270e+12</td>\n      <td>2018-04-21</td>\n      <td>ADA/USDT</td>\n      <td>0.30161</td>\n      <td>0.30700</td>\n      <td>0.26509</td>\n      <td>0.28668</td>\n      <td>9.271984e+07</td>\n      <td>2.653939e+07</td>\n      <td>55256</td>\n    </tr>\n    <tr>\n      <th>...</th>\n      <td>...</td>\n      <td>...</td>\n      <td>...</td>\n      <td>...</td>\n      <td>...</td>\n      <td>...</td>\n      <td>...</td>\n      <td>...</td>\n      <td>...</td>\n      <td>...</td>\n    </tr>\n    <tr>\n      <th>4</th>\n      <td>1.621730e+12</td>\n      <td>2021-05-23</td>\n      <td>ADA/USDT</td>\n      <td>1.46360</td>\n      <td>1.53970</td>\n      <td>1.05100</td>\n      <td>1.31390</td>\n      <td>1.461270e+09</td>\n      <td>1.839006e+09</td>\n      <td>2445334</td>\n    </tr>\n    <tr>\n      <th>3</th>\n      <td>1.621810e+12</td>\n      <td>2021-05-24</td>\n      <td>ADA/USDT</td>\n      <td>1.31350</td>\n      <td>1.59740</td>\n      <td>1.24760</td>\n      <td>1.55000</td>\n      <td>1.034256e+09</td>\n      <td>1.503761e+09</td>\n      <td>2078079</td>\n    </tr>\n    <tr>\n      <th>2</th>\n      <td>1.621900e+12</td>\n      <td>2021-05-25</td>\n      <td>ADA/USDT</td>\n      <td>1.54970</td>\n      <td>1.64990</td>\n      <td>1.43540</td>\n      <td>1.55320</td>\n      <td>8.077173e+08</td>\n      <td>1.239076e+09</td>\n      <td>1776216</td>\n    </tr>\n    <tr>\n      <th>1</th>\n      <td>1.621990e+12</td>\n      <td>2021-05-26</td>\n      <td>ADA/USDT</td>\n      <td>1.55250</td>\n      <td>1.83200</td>\n      <td>1.55200</td>\n      <td>1.77910</td>\n      <td>8.570805e+08</td>\n      <td>1.472383e+09</td>\n      <td>2010480</td>\n    </tr>\n    <tr>\n      <th>0</th>\n      <td>1.622070e+12</td>\n      <td>2021-05-27</td>\n      <td>ADA/USDT</td>\n      <td>1.77880</td>\n      <td>1.77900</td>\n      <td>1.76070</td>\n      <td>1.77100</td>\n      <td>3.240370e+06</td>\n      <td>5.732675e+06</td>\n      <td>6206</td>\n    </tr>\n  </tbody>\n</table>\n<p>1137 rows × 10 columns</p>\n</div>"
     },
     "metadata": {},
     "execution_count": 12
    }
   ],
   "source": [
    "import datetime\n",
    "\n",
    "dataset2['date']= pd.to_datetime(dataset2['date'])\n",
    "\n",
    "dataset2 = dataset2.sort_values('date')\n",
    "dataset2"
   ]
  },
  {
   "cell_type": "code",
   "execution_count": 13,
   "metadata": {},
   "outputs": [
    {
     "output_type": "execute_result",
     "data": {
      "text/plain": [
       "Text(0, 0.5, 'Close Price (USDT)')"
      ]
     },
     "metadata": {},
     "execution_count": 13
    },
    {
     "output_type": "display_data",
     "data": {
      "text/plain": "<Figure size 720x432 with 1 Axes>",
      "image/svg+xml": "<?xml version=\"1.0\" encoding=\"utf-8\" standalone=\"no\"?>\r\n<!DOCTYPE svg PUBLIC \"-//W3C//DTD SVG 1.1//EN\"\r\n  \"http://www.w3.org/Graphics/SVG/1.1/DTD/svg11.dtd\">\r\n<!-- Created with matplotlib (https://matplotlib.org/) -->\r\n<svg height=\"417.305563pt\" version=\"1.1\" viewBox=\"0 0 686.823625 417.305563\" width=\"686.823625pt\" xmlns=\"http://www.w3.org/2000/svg\" xmlns:xlink=\"http://www.w3.org/1999/xlink\">\r\n <metadata>\r\n  <rdf:RDF xmlns:cc=\"http://creativecommons.org/ns#\" xmlns:dc=\"http://purl.org/dc/elements/1.1/\" xmlns:rdf=\"http://www.w3.org/1999/02/22-rdf-syntax-ns#\">\r\n   <cc:Work>\r\n    <dc:type rdf:resource=\"http://purl.org/dc/dcmitype/StillImage\"/>\r\n    <dc:date>2021-05-28T01:33:11.897398</dc:date>\r\n    <dc:format>image/svg+xml</dc:format>\r\n    <dc:creator>\r\n     <cc:Agent>\r\n      <dc:title>Matplotlib v3.3.2, https://matplotlib.org/</dc:title>\r\n     </cc:Agent>\r\n    </dc:creator>\r\n   </cc:Work>\r\n  </rdf:RDF>\r\n </metadata>\r\n <defs>\r\n  <style type=\"text/css\">*{stroke-linecap:butt;stroke-linejoin:round;}</style>\r\n </defs>\r\n <g id=\"figure_1\">\r\n  <g id=\"patch_1\">\r\n   <path d=\"M 0 417.305563 \r\nL 686.823625 417.305563 \r\nL 686.823625 0 \r\nL 0 0 \r\nz\r\n\" style=\"fill:#f0f0f0;\"/>\r\n  </g>\r\n  <g id=\"axes_1\">\r\n   <g id=\"patch_2\">\r\n    <path d=\"M 53.223625 357.12 \r\nL 679.623625 357.12 \r\nL 679.623625 7.2 \r\nL 53.223625 7.2 \r\nz\r\n\" style=\"fill:#f0f0f0;\"/>\r\n   </g>\r\n   <g id=\"matplotlib.axis_1\">\r\n    <g id=\"xtick_1\">\r\n     <g id=\"line2d_1\">\r\n      <path clip-path=\"url(#p51e6aea14b)\" d=\"M 53.223625 357.12 \r\nL 53.223625 7.2 \r\n\" style=\"fill:none;stroke:#cbcbcb;\"/>\r\n     </g>\r\n     <g id=\"line2d_2\"/>\r\n    </g>\r\n    <g id=\"xtick_2\">\r\n     <g id=\"line2d_3\">\r\n      <path clip-path=\"url(#p51e6aea14b)\" d=\"M 196.038414 357.12 \r\nL 196.038414 7.2 \r\n\" style=\"fill:none;stroke:#cbcbcb;\"/>\r\n     </g>\r\n     <g id=\"line2d_4\"/>\r\n     <g id=\"text_1\">\r\n      <!-- Jan -->\r\n      <g transform=\"translate(185.247476 371.257813)scale(0.14 -0.14)\">\r\n       <defs>\r\n        <path d=\"M 9.8125 72.90625 \r\nL 19.671875 72.90625 \r\nL 19.671875 5.078125 \r\nQ 19.671875 -8.109375 14.671875 -14.0625 \r\nQ 9.671875 -20.015625 -1.421875 -20.015625 \r\nL -5.171875 -20.015625 \r\nL -5.171875 -11.71875 \r\nL -2.09375 -11.71875 \r\nQ 4.4375 -11.71875 7.125 -8.046875 \r\nQ 9.8125 -4.390625 9.8125 5.078125 \r\nz\r\n\" id=\"DejaVuSans-74\"/>\r\n        <path d=\"M 34.28125 27.484375 \r\nQ 23.390625 27.484375 19.1875 25 \r\nQ 14.984375 22.515625 14.984375 16.5 \r\nQ 14.984375 11.71875 18.140625 8.90625 \r\nQ 21.296875 6.109375 26.703125 6.109375 \r\nQ 34.1875 6.109375 38.703125 11.40625 \r\nQ 43.21875 16.703125 43.21875 25.484375 \r\nL 43.21875 27.484375 \r\nz\r\nM 52.203125 31.203125 \r\nL 52.203125 0 \r\nL 43.21875 0 \r\nL 43.21875 8.296875 \r\nQ 40.140625 3.328125 35.546875 0.953125 \r\nQ 30.953125 -1.421875 24.3125 -1.421875 \r\nQ 15.921875 -1.421875 10.953125 3.296875 \r\nQ 6 8.015625 6 15.921875 \r\nQ 6 25.140625 12.171875 29.828125 \r\nQ 18.359375 34.515625 30.609375 34.515625 \r\nL 43.21875 34.515625 \r\nL 43.21875 35.40625 \r\nQ 43.21875 41.609375 39.140625 45 \r\nQ 35.0625 48.390625 27.6875 48.390625 \r\nQ 23 48.390625 18.546875 47.265625 \r\nQ 14.109375 46.140625 10.015625 43.890625 \r\nL 10.015625 52.203125 \r\nQ 14.9375 54.109375 19.578125 55.046875 \r\nQ 24.21875 56 28.609375 56 \r\nQ 40.484375 56 46.34375 49.84375 \r\nQ 52.203125 43.703125 52.203125 31.203125 \r\nz\r\n\" id=\"DejaVuSans-97\"/>\r\n        <path d=\"M 54.890625 33.015625 \r\nL 54.890625 0 \r\nL 45.90625 0 \r\nL 45.90625 32.71875 \r\nQ 45.90625 40.484375 42.875 44.328125 \r\nQ 39.84375 48.1875 33.796875 48.1875 \r\nQ 26.515625 48.1875 22.3125 43.546875 \r\nQ 18.109375 38.921875 18.109375 30.90625 \r\nL 18.109375 0 \r\nL 9.078125 0 \r\nL 9.078125 54.6875 \r\nL 18.109375 54.6875 \r\nL 18.109375 46.1875 \r\nQ 21.34375 51.125 25.703125 53.5625 \r\nQ 30.078125 56 35.796875 56 \r\nQ 45.21875 56 50.046875 50.171875 \r\nQ 54.890625 44.34375 54.890625 33.015625 \r\nz\r\n\" id=\"DejaVuSans-110\"/>\r\n       </defs>\r\n       <use xlink:href=\"#DejaVuSans-74\"/>\r\n       <use x=\"29.492188\" xlink:href=\"#DejaVuSans-97\"/>\r\n       <use x=\"90.771484\" xlink:href=\"#DejaVuSans-110\"/>\r\n      </g>\r\n      <!-- 2019 -->\r\n      <g transform=\"translate(178.223414 386.93475)scale(0.14 -0.14)\">\r\n       <defs>\r\n        <path d=\"M 19.1875 8.296875 \r\nL 53.609375 8.296875 \r\nL 53.609375 0 \r\nL 7.328125 0 \r\nL 7.328125 8.296875 \r\nQ 12.9375 14.109375 22.625 23.890625 \r\nQ 32.328125 33.6875 34.8125 36.53125 \r\nQ 39.546875 41.84375 41.421875 45.53125 \r\nQ 43.3125 49.21875 43.3125 52.78125 \r\nQ 43.3125 58.59375 39.234375 62.25 \r\nQ 35.15625 65.921875 28.609375 65.921875 \r\nQ 23.96875 65.921875 18.8125 64.3125 \r\nQ 13.671875 62.703125 7.8125 59.421875 \r\nL 7.8125 69.390625 \r\nQ 13.765625 71.78125 18.9375 73 \r\nQ 24.125 74.21875 28.421875 74.21875 \r\nQ 39.75 74.21875 46.484375 68.546875 \r\nQ 53.21875 62.890625 53.21875 53.421875 \r\nQ 53.21875 48.921875 51.53125 44.890625 \r\nQ 49.859375 40.875 45.40625 35.40625 \r\nQ 44.1875 33.984375 37.640625 27.21875 \r\nQ 31.109375 20.453125 19.1875 8.296875 \r\nz\r\n\" id=\"DejaVuSans-50\"/>\r\n        <path d=\"M 31.78125 66.40625 \r\nQ 24.171875 66.40625 20.328125 58.90625 \r\nQ 16.5 51.421875 16.5 36.375 \r\nQ 16.5 21.390625 20.328125 13.890625 \r\nQ 24.171875 6.390625 31.78125 6.390625 \r\nQ 39.453125 6.390625 43.28125 13.890625 \r\nQ 47.125 21.390625 47.125 36.375 \r\nQ 47.125 51.421875 43.28125 58.90625 \r\nQ 39.453125 66.40625 31.78125 66.40625 \r\nz\r\nM 31.78125 74.21875 \r\nQ 44.046875 74.21875 50.515625 64.515625 \r\nQ 56.984375 54.828125 56.984375 36.375 \r\nQ 56.984375 17.96875 50.515625 8.265625 \r\nQ 44.046875 -1.421875 31.78125 -1.421875 \r\nQ 19.53125 -1.421875 13.0625 8.265625 \r\nQ 6.59375 17.96875 6.59375 36.375 \r\nQ 6.59375 54.828125 13.0625 64.515625 \r\nQ 19.53125 74.21875 31.78125 74.21875 \r\nz\r\n\" id=\"DejaVuSans-48\"/>\r\n        <path d=\"M 12.40625 8.296875 \r\nL 28.515625 8.296875 \r\nL 28.515625 63.921875 \r\nL 10.984375 60.40625 \r\nL 10.984375 69.390625 \r\nL 28.421875 72.90625 \r\nL 38.28125 72.90625 \r\nL 38.28125 8.296875 \r\nL 54.390625 8.296875 \r\nL 54.390625 0 \r\nL 12.40625 0 \r\nz\r\n\" id=\"DejaVuSans-49\"/>\r\n        <path d=\"M 10.984375 1.515625 \r\nL 10.984375 10.5 \r\nQ 14.703125 8.734375 18.5 7.8125 \r\nQ 22.3125 6.890625 25.984375 6.890625 \r\nQ 35.75 6.890625 40.890625 13.453125 \r\nQ 46.046875 20.015625 46.78125 33.40625 \r\nQ 43.953125 29.203125 39.59375 26.953125 \r\nQ 35.25 24.703125 29.984375 24.703125 \r\nQ 19.046875 24.703125 12.671875 31.3125 \r\nQ 6.296875 37.9375 6.296875 49.421875 \r\nQ 6.296875 60.640625 12.9375 67.421875 \r\nQ 19.578125 74.21875 30.609375 74.21875 \r\nQ 43.265625 74.21875 49.921875 64.515625 \r\nQ 56.59375 54.828125 56.59375 36.375 \r\nQ 56.59375 19.140625 48.40625 8.859375 \r\nQ 40.234375 -1.421875 26.421875 -1.421875 \r\nQ 22.703125 -1.421875 18.890625 -0.6875 \r\nQ 15.09375 0.046875 10.984375 1.515625 \r\nz\r\nM 30.609375 32.421875 \r\nQ 37.25 32.421875 41.125 36.953125 \r\nQ 45.015625 41.5 45.015625 49.421875 \r\nQ 45.015625 57.28125 41.125 61.84375 \r\nQ 37.25 66.40625 30.609375 66.40625 \r\nQ 23.96875 66.40625 20.09375 61.84375 \r\nQ 16.21875 57.28125 16.21875 49.421875 \r\nQ 16.21875 41.5 20.09375 36.953125 \r\nQ 23.96875 32.421875 30.609375 32.421875 \r\nz\r\n\" id=\"DejaVuSans-57\"/>\r\n       </defs>\r\n       <use xlink:href=\"#DejaVuSans-50\"/>\r\n       <use x=\"63.623047\" xlink:href=\"#DejaVuSans-48\"/>\r\n       <use x=\"127.246094\" xlink:href=\"#DejaVuSans-49\"/>\r\n       <use x=\"190.869141\" xlink:href=\"#DejaVuSans-57\"/>\r\n      </g>\r\n     </g>\r\n    </g>\r\n    <g id=\"xtick_3\">\r\n     <g id=\"line2d_5\">\r\n      <path clip-path=\"url(#p51e6aea14b)\" d=\"M 397.302498 357.12 \r\nL 397.302498 7.2 \r\n\" style=\"fill:none;stroke:#cbcbcb;\"/>\r\n     </g>\r\n     <g id=\"line2d_6\"/>\r\n     <g id=\"text_2\">\r\n      <!-- Jan -->\r\n      <g transform=\"translate(386.511561 371.257813)scale(0.14 -0.14)\">\r\n       <use xlink:href=\"#DejaVuSans-74\"/>\r\n       <use x=\"29.492188\" xlink:href=\"#DejaVuSans-97\"/>\r\n       <use x=\"90.771484\" xlink:href=\"#DejaVuSans-110\"/>\r\n      </g>\r\n      <!-- 2020 -->\r\n      <g transform=\"translate(379.487498 386.93475)scale(0.14 -0.14)\">\r\n       <use xlink:href=\"#DejaVuSans-50\"/>\r\n       <use x=\"63.623047\" xlink:href=\"#DejaVuSans-48\"/>\r\n       <use x=\"127.246094\" xlink:href=\"#DejaVuSans-50\"/>\r\n       <use x=\"190.869141\" xlink:href=\"#DejaVuSans-48\"/>\r\n      </g>\r\n     </g>\r\n    </g>\r\n    <g id=\"xtick_4\">\r\n     <g id=\"line2d_7\">\r\n      <path clip-path=\"url(#p51e6aea14b)\" d=\"M 599.117991 357.12 \r\nL 599.117991 7.2 \r\n\" style=\"fill:none;stroke:#cbcbcb;\"/>\r\n     </g>\r\n     <g id=\"line2d_8\"/>\r\n     <g id=\"text_3\">\r\n      <!-- Jan -->\r\n      <g transform=\"translate(588.327054 371.257813)scale(0.14 -0.14)\">\r\n       <use xlink:href=\"#DejaVuSans-74\"/>\r\n       <use x=\"29.492188\" xlink:href=\"#DejaVuSans-97\"/>\r\n       <use x=\"90.771484\" xlink:href=\"#DejaVuSans-110\"/>\r\n      </g>\r\n      <!-- 2021 -->\r\n      <g transform=\"translate(581.302991 386.93475)scale(0.14 -0.14)\">\r\n       <use xlink:href=\"#DejaVuSans-50\"/>\r\n       <use x=\"63.623047\" xlink:href=\"#DejaVuSans-48\"/>\r\n       <use x=\"127.246094\" xlink:href=\"#DejaVuSans-50\"/>\r\n       <use x=\"190.869141\" xlink:href=\"#DejaVuSans-49\"/>\r\n      </g>\r\n     </g>\r\n    </g>\r\n    <g id=\"xtick_5\">\r\n     <g id=\"line2d_9\">\r\n      <path clip-path=\"url(#p51e6aea14b)\" d=\"M 679.623625 357.12 \r\nL 679.623625 7.2 \r\n\" style=\"fill:none;stroke:#cbcbcb;\"/>\r\n     </g>\r\n     <g id=\"line2d_10\"/>\r\n    </g>\r\n    <g id=\"xtick_6\">\r\n     <g id=\"line2d_11\"/>\r\n    </g>\r\n    <g id=\"xtick_7\">\r\n     <g id=\"line2d_12\"/>\r\n    </g>\r\n    <g id=\"xtick_8\">\r\n     <g id=\"line2d_13\"/>\r\n     <g id=\"text_4\">\r\n      <!-- Jul -->\r\n      <g transform=\"translate(86.133321 371.157813)scale(0.14 -0.14)\">\r\n       <defs>\r\n        <path d=\"M 8.5 21.578125 \r\nL 8.5 54.6875 \r\nL 17.484375 54.6875 \r\nL 17.484375 21.921875 \r\nQ 17.484375 14.15625 20.5 10.265625 \r\nQ 23.53125 6.390625 29.59375 6.390625 \r\nQ 36.859375 6.390625 41.078125 11.03125 \r\nQ 45.3125 15.671875 45.3125 23.6875 \r\nL 45.3125 54.6875 \r\nL 54.296875 54.6875 \r\nL 54.296875 0 \r\nL 45.3125 0 \r\nL 45.3125 8.40625 \r\nQ 42.046875 3.421875 37.71875 1 \r\nQ 33.40625 -1.421875 27.6875 -1.421875 \r\nQ 18.265625 -1.421875 13.375 4.4375 \r\nQ 8.5 10.296875 8.5 21.578125 \r\nz\r\nM 31.109375 56 \r\nz\r\n\" id=\"DejaVuSans-117\"/>\r\n        <path d=\"M 9.421875 75.984375 \r\nL 18.40625 75.984375 \r\nL 18.40625 0 \r\nL 9.421875 0 \r\nz\r\n\" id=\"DejaVuSans-108\"/>\r\n       </defs>\r\n       <use xlink:href=\"#DejaVuSans-74\"/>\r\n       <use x=\"29.492188\" xlink:href=\"#DejaVuSans-117\"/>\r\n       <use x=\"92.871094\" xlink:href=\"#DejaVuSans-108\"/>\r\n      </g>\r\n     </g>\r\n    </g>\r\n    <g id=\"xtick_9\">\r\n     <g id=\"line2d_14\"/>\r\n    </g>\r\n    <g id=\"xtick_10\">\r\n     <g id=\"line2d_15\"/>\r\n    </g>\r\n    <g id=\"xtick_11\">\r\n     <g id=\"line2d_16\"/>\r\n    </g>\r\n    <g id=\"xtick_12\">\r\n     <g id=\"line2d_17\"/>\r\n    </g>\r\n    <g id=\"xtick_13\">\r\n     <g id=\"line2d_18\"/>\r\n    </g>\r\n    <g id=\"xtick_14\">\r\n     <g id=\"line2d_19\"/>\r\n    </g>\r\n    <g id=\"xtick_15\">\r\n     <g id=\"line2d_20\"/>\r\n    </g>\r\n    <g id=\"xtick_16\">\r\n     <g id=\"line2d_21\"/>\r\n    </g>\r\n    <g id=\"xtick_17\">\r\n     <g id=\"line2d_22\"/>\r\n    </g>\r\n    <g id=\"xtick_18\">\r\n     <g id=\"line2d_23\"/>\r\n    </g>\r\n    <g id=\"xtick_19\">\r\n     <g id=\"line2d_24\"/>\r\n     <g id=\"text_5\">\r\n      <!-- Jul -->\r\n      <g transform=\"translate(287.397406 371.157813)scale(0.14 -0.14)\">\r\n       <use xlink:href=\"#DejaVuSans-74\"/>\r\n       <use x=\"29.492188\" xlink:href=\"#DejaVuSans-117\"/>\r\n       <use x=\"92.871094\" xlink:href=\"#DejaVuSans-108\"/>\r\n      </g>\r\n     </g>\r\n    </g>\r\n    <g id=\"xtick_20\">\r\n     <g id=\"line2d_25\"/>\r\n    </g>\r\n    <g id=\"xtick_21\">\r\n     <g id=\"line2d_26\"/>\r\n    </g>\r\n    <g id=\"xtick_22\">\r\n     <g id=\"line2d_27\"/>\r\n    </g>\r\n    <g id=\"xtick_23\">\r\n     <g id=\"line2d_28\"/>\r\n    </g>\r\n    <g id=\"xtick_24\">\r\n     <g id=\"line2d_29\"/>\r\n    </g>\r\n    <g id=\"xtick_25\">\r\n     <g id=\"line2d_30\"/>\r\n    </g>\r\n    <g id=\"xtick_26\">\r\n     <g id=\"line2d_31\"/>\r\n    </g>\r\n    <g id=\"xtick_27\">\r\n     <g id=\"line2d_32\"/>\r\n    </g>\r\n    <g id=\"xtick_28\">\r\n     <g id=\"line2d_33\"/>\r\n    </g>\r\n    <g id=\"xtick_29\">\r\n     <g id=\"line2d_34\"/>\r\n    </g>\r\n    <g id=\"xtick_30\">\r\n     <g id=\"line2d_35\"/>\r\n     <g id=\"text_6\">\r\n      <!-- Jul -->\r\n      <g transform=\"translate(489.212899 371.157813)scale(0.14 -0.14)\">\r\n       <use xlink:href=\"#DejaVuSans-74\"/>\r\n       <use x=\"29.492188\" xlink:href=\"#DejaVuSans-117\"/>\r\n       <use x=\"92.871094\" xlink:href=\"#DejaVuSans-108\"/>\r\n      </g>\r\n     </g>\r\n    </g>\r\n    <g id=\"xtick_31\">\r\n     <g id=\"line2d_36\"/>\r\n    </g>\r\n    <g id=\"xtick_32\">\r\n     <g id=\"line2d_37\"/>\r\n    </g>\r\n    <g id=\"xtick_33\">\r\n     <g id=\"line2d_38\"/>\r\n    </g>\r\n    <g id=\"xtick_34\">\r\n     <g id=\"line2d_39\"/>\r\n    </g>\r\n    <g id=\"xtick_35\">\r\n     <g id=\"line2d_40\"/>\r\n    </g>\r\n    <g id=\"xtick_36\">\r\n     <g id=\"line2d_41\"/>\r\n    </g>\r\n    <g id=\"xtick_37\">\r\n     <g id=\"line2d_42\"/>\r\n    </g>\r\n    <g id=\"xtick_38\">\r\n     <g id=\"line2d_43\"/>\r\n    </g>\r\n    <g id=\"xtick_39\">\r\n     <g id=\"line2d_44\"/>\r\n    </g>\r\n    <g id=\"text_7\">\r\n     <!-- Date -->\r\n     <g transform=\"translate(346.346313 406.611688)scale(0.168 -0.168)\">\r\n      <defs>\r\n       <path d=\"M 19.671875 64.796875 \r\nL 19.671875 8.109375 \r\nL 31.59375 8.109375 \r\nQ 46.6875 8.109375 53.6875 14.9375 \r\nQ 60.6875 21.78125 60.6875 36.53125 \r\nQ 60.6875 51.171875 53.6875 57.984375 \r\nQ 46.6875 64.796875 31.59375 64.796875 \r\nz\r\nM 9.8125 72.90625 \r\nL 30.078125 72.90625 \r\nQ 51.265625 72.90625 61.171875 64.09375 \r\nQ 71.09375 55.28125 71.09375 36.53125 \r\nQ 71.09375 17.671875 61.125 8.828125 \r\nQ 51.171875 0 30.078125 0 \r\nL 9.8125 0 \r\nz\r\n\" id=\"DejaVuSans-68\"/>\r\n       <path d=\"M 18.3125 70.21875 \r\nL 18.3125 54.6875 \r\nL 36.8125 54.6875 \r\nL 36.8125 47.703125 \r\nL 18.3125 47.703125 \r\nL 18.3125 18.015625 \r\nQ 18.3125 11.328125 20.140625 9.421875 \r\nQ 21.96875 7.515625 27.59375 7.515625 \r\nL 36.8125 7.515625 \r\nL 36.8125 0 \r\nL 27.59375 0 \r\nQ 17.1875 0 13.234375 3.875 \r\nQ 9.28125 7.765625 9.28125 18.015625 \r\nL 9.28125 47.703125 \r\nL 2.6875 47.703125 \r\nL 2.6875 54.6875 \r\nL 9.28125 54.6875 \r\nL 9.28125 70.21875 \r\nz\r\n\" id=\"DejaVuSans-116\"/>\r\n       <path d=\"M 56.203125 29.59375 \r\nL 56.203125 25.203125 \r\nL 14.890625 25.203125 \r\nQ 15.484375 15.921875 20.484375 11.0625 \r\nQ 25.484375 6.203125 34.421875 6.203125 \r\nQ 39.59375 6.203125 44.453125 7.46875 \r\nQ 49.3125 8.734375 54.109375 11.28125 \r\nL 54.109375 2.78125 \r\nQ 49.265625 0.734375 44.1875 -0.34375 \r\nQ 39.109375 -1.421875 33.890625 -1.421875 \r\nQ 20.796875 -1.421875 13.15625 6.1875 \r\nQ 5.515625 13.8125 5.515625 26.8125 \r\nQ 5.515625 40.234375 12.765625 48.109375 \r\nQ 20.015625 56 32.328125 56 \r\nQ 43.359375 56 49.78125 48.890625 \r\nQ 56.203125 41.796875 56.203125 29.59375 \r\nz\r\nM 47.21875 32.234375 \r\nQ 47.125 39.59375 43.09375 43.984375 \r\nQ 39.0625 48.390625 32.421875 48.390625 \r\nQ 24.90625 48.390625 20.390625 44.140625 \r\nQ 15.875 39.890625 15.1875 32.171875 \r\nz\r\n\" id=\"DejaVuSans-101\"/>\r\n      </defs>\r\n      <use xlink:href=\"#DejaVuSans-68\"/>\r\n      <use x=\"77.001953\" xlink:href=\"#DejaVuSans-97\"/>\r\n      <use x=\"138.28125\" xlink:href=\"#DejaVuSans-116\"/>\r\n      <use x=\"177.490234\" xlink:href=\"#DejaVuSans-101\"/>\r\n     </g>\r\n    </g>\r\n   </g>\r\n   <g id=\"matplotlib.axis_2\">\r\n    <g id=\"ytick_1\">\r\n     <g id=\"line2d_45\">\r\n      <path clip-path=\"url(#p51e6aea14b)\" d=\"M 53.223625 344.468412 \r\nL 679.623625 344.468412 \r\n\" style=\"fill:none;stroke:#cbcbcb;\"/>\r\n     </g>\r\n     <g id=\"line2d_46\"/>\r\n     <g id=\"text_8\">\r\n      <!-- 0.0 -->\r\n      <g transform=\"translate(27.45925 349.787318)scale(0.14 -0.14)\">\r\n       <defs>\r\n        <path d=\"M 10.6875 12.40625 \r\nL 21 12.40625 \r\nL 21 0 \r\nL 10.6875 0 \r\nz\r\n\" id=\"DejaVuSans-46\"/>\r\n       </defs>\r\n       <use xlink:href=\"#DejaVuSans-48\"/>\r\n       <use x=\"63.623047\" xlink:href=\"#DejaVuSans-46\"/>\r\n       <use x=\"95.410156\" xlink:href=\"#DejaVuSans-48\"/>\r\n      </g>\r\n     </g>\r\n    </g>\r\n    <g id=\"ytick_2\">\r\n     <g id=\"line2d_47\">\r\n      <path clip-path=\"url(#p51e6aea14b)\" d=\"M 53.223625 274.612974 \r\nL 679.623625 274.612974 \r\n\" style=\"fill:none;stroke:#cbcbcb;\"/>\r\n     </g>\r\n     <g id=\"line2d_48\"/>\r\n     <g id=\"text_9\">\r\n      <!-- 0.5 -->\r\n      <g transform=\"translate(27.45925 279.93188)scale(0.14 -0.14)\">\r\n       <defs>\r\n        <path d=\"M 10.796875 72.90625 \r\nL 49.515625 72.90625 \r\nL 49.515625 64.59375 \r\nL 19.828125 64.59375 \r\nL 19.828125 46.734375 \r\nQ 21.96875 47.46875 24.109375 47.828125 \r\nQ 26.265625 48.1875 28.421875 48.1875 \r\nQ 40.625 48.1875 47.75 41.5 \r\nQ 54.890625 34.8125 54.890625 23.390625 \r\nQ 54.890625 11.625 47.5625 5.09375 \r\nQ 40.234375 -1.421875 26.90625 -1.421875 \r\nQ 22.3125 -1.421875 17.546875 -0.640625 \r\nQ 12.796875 0.140625 7.71875 1.703125 \r\nL 7.71875 11.625 \r\nQ 12.109375 9.234375 16.796875 8.0625 \r\nQ 21.484375 6.890625 26.703125 6.890625 \r\nQ 35.15625 6.890625 40.078125 11.328125 \r\nQ 45.015625 15.765625 45.015625 23.390625 \r\nQ 45.015625 31 40.078125 35.4375 \r\nQ 35.15625 39.890625 26.703125 39.890625 \r\nQ 22.75 39.890625 18.8125 39.015625 \r\nQ 14.890625 38.140625 10.796875 36.28125 \r\nz\r\n\" id=\"DejaVuSans-53\"/>\r\n       </defs>\r\n       <use xlink:href=\"#DejaVuSans-48\"/>\r\n       <use x=\"63.623047\" xlink:href=\"#DejaVuSans-46\"/>\r\n       <use x=\"95.410156\" xlink:href=\"#DejaVuSans-53\"/>\r\n      </g>\r\n     </g>\r\n    </g>\r\n    <g id=\"ytick_3\">\r\n     <g id=\"line2d_49\">\r\n      <path clip-path=\"url(#p51e6aea14b)\" d=\"M 53.223625 204.757536 \r\nL 679.623625 204.757536 \r\n\" style=\"fill:none;stroke:#cbcbcb;\"/>\r\n     </g>\r\n     <g id=\"line2d_50\"/>\r\n     <g id=\"text_10\">\r\n      <!-- 1.0 -->\r\n      <g transform=\"translate(27.45925 210.076442)scale(0.14 -0.14)\">\r\n       <use xlink:href=\"#DejaVuSans-49\"/>\r\n       <use x=\"63.623047\" xlink:href=\"#DejaVuSans-46\"/>\r\n       <use x=\"95.410156\" xlink:href=\"#DejaVuSans-48\"/>\r\n      </g>\r\n     </g>\r\n    </g>\r\n    <g id=\"ytick_4\">\r\n     <g id=\"line2d_51\">\r\n      <path clip-path=\"url(#p51e6aea14b)\" d=\"M 53.223625 134.902098 \r\nL 679.623625 134.902098 \r\n\" style=\"fill:none;stroke:#cbcbcb;\"/>\r\n     </g>\r\n     <g id=\"line2d_52\"/>\r\n     <g id=\"text_11\">\r\n      <!-- 1.5 -->\r\n      <g transform=\"translate(27.45925 140.221004)scale(0.14 -0.14)\">\r\n       <use xlink:href=\"#DejaVuSans-49\"/>\r\n       <use x=\"63.623047\" xlink:href=\"#DejaVuSans-46\"/>\r\n       <use x=\"95.410156\" xlink:href=\"#DejaVuSans-53\"/>\r\n      </g>\r\n     </g>\r\n    </g>\r\n    <g id=\"ytick_5\">\r\n     <g id=\"line2d_53\">\r\n      <path clip-path=\"url(#p51e6aea14b)\" d=\"M 53.223625 65.04666 \r\nL 679.623625 65.04666 \r\n\" style=\"fill:none;stroke:#cbcbcb;\"/>\r\n     </g>\r\n     <g id=\"line2d_54\"/>\r\n     <g id=\"text_12\">\r\n      <!-- 2.0 -->\r\n      <g transform=\"translate(27.45925 70.365566)scale(0.14 -0.14)\">\r\n       <use xlink:href=\"#DejaVuSans-50\"/>\r\n       <use x=\"63.623047\" xlink:href=\"#DejaVuSans-46\"/>\r\n       <use x=\"95.410156\" xlink:href=\"#DejaVuSans-48\"/>\r\n      </g>\r\n     </g>\r\n    </g>\r\n    <g id=\"text_13\">\r\n     <!-- Close Price (USDT) -->\r\n     <g transform=\"translate(19.965375 260.508375)rotate(-90)scale(0.168 -0.168)\">\r\n      <defs>\r\n       <path d=\"M 64.40625 67.28125 \r\nL 64.40625 56.890625 \r\nQ 59.421875 61.53125 53.78125 63.8125 \r\nQ 48.140625 66.109375 41.796875 66.109375 \r\nQ 29.296875 66.109375 22.65625 58.46875 \r\nQ 16.015625 50.828125 16.015625 36.375 \r\nQ 16.015625 21.96875 22.65625 14.328125 \r\nQ 29.296875 6.6875 41.796875 6.6875 \r\nQ 48.140625 6.6875 53.78125 8.984375 \r\nQ 59.421875 11.28125 64.40625 15.921875 \r\nL 64.40625 5.609375 \r\nQ 59.234375 2.09375 53.4375 0.328125 \r\nQ 47.65625 -1.421875 41.21875 -1.421875 \r\nQ 24.65625 -1.421875 15.125 8.703125 \r\nQ 5.609375 18.84375 5.609375 36.375 \r\nQ 5.609375 53.953125 15.125 64.078125 \r\nQ 24.65625 74.21875 41.21875 74.21875 \r\nQ 47.75 74.21875 53.53125 72.484375 \r\nQ 59.328125 70.75 64.40625 67.28125 \r\nz\r\n\" id=\"DejaVuSans-67\"/>\r\n       <path d=\"M 30.609375 48.390625 \r\nQ 23.390625 48.390625 19.1875 42.75 \r\nQ 14.984375 37.109375 14.984375 27.296875 \r\nQ 14.984375 17.484375 19.15625 11.84375 \r\nQ 23.34375 6.203125 30.609375 6.203125 \r\nQ 37.796875 6.203125 41.984375 11.859375 \r\nQ 46.1875 17.53125 46.1875 27.296875 \r\nQ 46.1875 37.015625 41.984375 42.703125 \r\nQ 37.796875 48.390625 30.609375 48.390625 \r\nz\r\nM 30.609375 56 \r\nQ 42.328125 56 49.015625 48.375 \r\nQ 55.71875 40.765625 55.71875 27.296875 \r\nQ 55.71875 13.875 49.015625 6.21875 \r\nQ 42.328125 -1.421875 30.609375 -1.421875 \r\nQ 18.84375 -1.421875 12.171875 6.21875 \r\nQ 5.515625 13.875 5.515625 27.296875 \r\nQ 5.515625 40.765625 12.171875 48.375 \r\nQ 18.84375 56 30.609375 56 \r\nz\r\n\" id=\"DejaVuSans-111\"/>\r\n       <path d=\"M 44.28125 53.078125 \r\nL 44.28125 44.578125 \r\nQ 40.484375 46.53125 36.375 47.5 \r\nQ 32.28125 48.484375 27.875 48.484375 \r\nQ 21.1875 48.484375 17.84375 46.4375 \r\nQ 14.5 44.390625 14.5 40.28125 \r\nQ 14.5 37.15625 16.890625 35.375 \r\nQ 19.28125 33.59375 26.515625 31.984375 \r\nL 29.59375 31.296875 \r\nQ 39.15625 29.25 43.1875 25.515625 \r\nQ 47.21875 21.78125 47.21875 15.09375 \r\nQ 47.21875 7.46875 41.1875 3.015625 \r\nQ 35.15625 -1.421875 24.609375 -1.421875 \r\nQ 20.21875 -1.421875 15.453125 -0.5625 \r\nQ 10.6875 0.296875 5.421875 2 \r\nL 5.421875 11.28125 \r\nQ 10.40625 8.6875 15.234375 7.390625 \r\nQ 20.0625 6.109375 24.8125 6.109375 \r\nQ 31.15625 6.109375 34.5625 8.28125 \r\nQ 37.984375 10.453125 37.984375 14.40625 \r\nQ 37.984375 18.0625 35.515625 20.015625 \r\nQ 33.0625 21.96875 24.703125 23.78125 \r\nL 21.578125 24.515625 \r\nQ 13.234375 26.265625 9.515625 29.90625 \r\nQ 5.8125 33.546875 5.8125 39.890625 \r\nQ 5.8125 47.609375 11.28125 51.796875 \r\nQ 16.75 56 26.8125 56 \r\nQ 31.78125 56 36.171875 55.265625 \r\nQ 40.578125 54.546875 44.28125 53.078125 \r\nz\r\n\" id=\"DejaVuSans-115\"/>\r\n       <path id=\"DejaVuSans-32\"/>\r\n       <path d=\"M 19.671875 64.796875 \r\nL 19.671875 37.40625 \r\nL 32.078125 37.40625 \r\nQ 38.96875 37.40625 42.71875 40.96875 \r\nQ 46.484375 44.53125 46.484375 51.125 \r\nQ 46.484375 57.671875 42.71875 61.234375 \r\nQ 38.96875 64.796875 32.078125 64.796875 \r\nz\r\nM 9.8125 72.90625 \r\nL 32.078125 72.90625 \r\nQ 44.34375 72.90625 50.609375 67.359375 \r\nQ 56.890625 61.8125 56.890625 51.125 \r\nQ 56.890625 40.328125 50.609375 34.8125 \r\nQ 44.34375 29.296875 32.078125 29.296875 \r\nL 19.671875 29.296875 \r\nL 19.671875 0 \r\nL 9.8125 0 \r\nz\r\n\" id=\"DejaVuSans-80\"/>\r\n       <path d=\"M 41.109375 46.296875 \r\nQ 39.59375 47.171875 37.8125 47.578125 \r\nQ 36.03125 48 33.890625 48 \r\nQ 26.265625 48 22.1875 43.046875 \r\nQ 18.109375 38.09375 18.109375 28.8125 \r\nL 18.109375 0 \r\nL 9.078125 0 \r\nL 9.078125 54.6875 \r\nL 18.109375 54.6875 \r\nL 18.109375 46.1875 \r\nQ 20.953125 51.171875 25.484375 53.578125 \r\nQ 30.03125 56 36.53125 56 \r\nQ 37.453125 56 38.578125 55.875 \r\nQ 39.703125 55.765625 41.0625 55.515625 \r\nz\r\n\" id=\"DejaVuSans-114\"/>\r\n       <path d=\"M 9.421875 54.6875 \r\nL 18.40625 54.6875 \r\nL 18.40625 0 \r\nL 9.421875 0 \r\nz\r\nM 9.421875 75.984375 \r\nL 18.40625 75.984375 \r\nL 18.40625 64.59375 \r\nL 9.421875 64.59375 \r\nz\r\n\" id=\"DejaVuSans-105\"/>\r\n       <path d=\"M 48.78125 52.59375 \r\nL 48.78125 44.1875 \r\nQ 44.96875 46.296875 41.140625 47.34375 \r\nQ 37.3125 48.390625 33.40625 48.390625 \r\nQ 24.65625 48.390625 19.8125 42.84375 \r\nQ 14.984375 37.3125 14.984375 27.296875 \r\nQ 14.984375 17.28125 19.8125 11.734375 \r\nQ 24.65625 6.203125 33.40625 6.203125 \r\nQ 37.3125 6.203125 41.140625 7.25 \r\nQ 44.96875 8.296875 48.78125 10.40625 \r\nL 48.78125 2.09375 \r\nQ 45.015625 0.34375 40.984375 -0.53125 \r\nQ 36.96875 -1.421875 32.421875 -1.421875 \r\nQ 20.0625 -1.421875 12.78125 6.34375 \r\nQ 5.515625 14.109375 5.515625 27.296875 \r\nQ 5.515625 40.671875 12.859375 48.328125 \r\nQ 20.21875 56 33.015625 56 \r\nQ 37.15625 56 41.109375 55.140625 \r\nQ 45.0625 54.296875 48.78125 52.59375 \r\nz\r\n\" id=\"DejaVuSans-99\"/>\r\n       <path d=\"M 31 75.875 \r\nQ 24.46875 64.65625 21.28125 53.65625 \r\nQ 18.109375 42.671875 18.109375 31.390625 \r\nQ 18.109375 20.125 21.3125 9.0625 \r\nQ 24.515625 -2 31 -13.1875 \r\nL 23.1875 -13.1875 \r\nQ 15.875 -1.703125 12.234375 9.375 \r\nQ 8.59375 20.453125 8.59375 31.390625 \r\nQ 8.59375 42.28125 12.203125 53.3125 \r\nQ 15.828125 64.359375 23.1875 75.875 \r\nz\r\n\" id=\"DejaVuSans-40\"/>\r\n       <path d=\"M 8.6875 72.90625 \r\nL 18.609375 72.90625 \r\nL 18.609375 28.609375 \r\nQ 18.609375 16.890625 22.84375 11.734375 \r\nQ 27.09375 6.59375 36.625 6.59375 \r\nQ 46.09375 6.59375 50.34375 11.734375 \r\nQ 54.59375 16.890625 54.59375 28.609375 \r\nL 54.59375 72.90625 \r\nL 64.5 72.90625 \r\nL 64.5 27.390625 \r\nQ 64.5 13.140625 57.4375 5.859375 \r\nQ 50.390625 -1.421875 36.625 -1.421875 \r\nQ 22.796875 -1.421875 15.734375 5.859375 \r\nQ 8.6875 13.140625 8.6875 27.390625 \r\nz\r\n\" id=\"DejaVuSans-85\"/>\r\n       <path d=\"M 53.515625 70.515625 \r\nL 53.515625 60.890625 \r\nQ 47.90625 63.578125 42.921875 64.890625 \r\nQ 37.9375 66.21875 33.296875 66.21875 \r\nQ 25.25 66.21875 20.875 63.09375 \r\nQ 16.5 59.96875 16.5 54.203125 \r\nQ 16.5 49.359375 19.40625 46.890625 \r\nQ 22.3125 44.4375 30.421875 42.921875 \r\nL 36.375 41.703125 \r\nQ 47.40625 39.59375 52.65625 34.296875 \r\nQ 57.90625 29 57.90625 20.125 \r\nQ 57.90625 9.515625 50.796875 4.046875 \r\nQ 43.703125 -1.421875 29.984375 -1.421875 \r\nQ 24.8125 -1.421875 18.96875 -0.25 \r\nQ 13.140625 0.921875 6.890625 3.21875 \r\nL 6.890625 13.375 \r\nQ 12.890625 10.015625 18.65625 8.296875 \r\nQ 24.421875 6.59375 29.984375 6.59375 \r\nQ 38.421875 6.59375 43.015625 9.90625 \r\nQ 47.609375 13.234375 47.609375 19.390625 \r\nQ 47.609375 24.75 44.3125 27.78125 \r\nQ 41.015625 30.8125 33.5 32.328125 \r\nL 27.484375 33.5 \r\nQ 16.453125 35.6875 11.515625 40.375 \r\nQ 6.59375 45.0625 6.59375 53.421875 \r\nQ 6.59375 63.09375 13.40625 68.65625 \r\nQ 20.21875 74.21875 32.171875 74.21875 \r\nQ 37.3125 74.21875 42.625 73.28125 \r\nQ 47.953125 72.359375 53.515625 70.515625 \r\nz\r\n\" id=\"DejaVuSans-83\"/>\r\n       <path d=\"M -0.296875 72.90625 \r\nL 61.375 72.90625 \r\nL 61.375 64.59375 \r\nL 35.5 64.59375 \r\nL 35.5 0 \r\nL 25.59375 0 \r\nL 25.59375 64.59375 \r\nL -0.296875 64.59375 \r\nz\r\n\" id=\"DejaVuSans-84\"/>\r\n       <path d=\"M 8.015625 75.875 \r\nL 15.828125 75.875 \r\nQ 23.140625 64.359375 26.78125 53.3125 \r\nQ 30.421875 42.28125 30.421875 31.390625 \r\nQ 30.421875 20.453125 26.78125 9.375 \r\nQ 23.140625 -1.703125 15.828125 -13.1875 \r\nL 8.015625 -13.1875 \r\nQ 14.5 -2 17.703125 9.0625 \r\nQ 20.90625 20.125 20.90625 31.390625 \r\nQ 20.90625 42.671875 17.703125 53.65625 \r\nQ 14.5 64.65625 8.015625 75.875 \r\nz\r\n\" id=\"DejaVuSans-41\"/>\r\n      </defs>\r\n      <use xlink:href=\"#DejaVuSans-67\"/>\r\n      <use x=\"69.824219\" xlink:href=\"#DejaVuSans-108\"/>\r\n      <use x=\"97.607422\" xlink:href=\"#DejaVuSans-111\"/>\r\n      <use x=\"158.789062\" xlink:href=\"#DejaVuSans-115\"/>\r\n      <use x=\"210.888672\" xlink:href=\"#DejaVuSans-101\"/>\r\n      <use x=\"272.412109\" xlink:href=\"#DejaVuSans-32\"/>\r\n      <use x=\"304.199219\" xlink:href=\"#DejaVuSans-80\"/>\r\n      <use x=\"362.751953\" xlink:href=\"#DejaVuSans-114\"/>\r\n      <use x=\"403.865234\" xlink:href=\"#DejaVuSans-105\"/>\r\n      <use x=\"431.648438\" xlink:href=\"#DejaVuSans-99\"/>\r\n      <use x=\"486.628906\" xlink:href=\"#DejaVuSans-101\"/>\r\n      <use x=\"548.152344\" xlink:href=\"#DejaVuSans-32\"/>\r\n      <use x=\"579.939453\" xlink:href=\"#DejaVuSans-40\"/>\r\n      <use x=\"618.953125\" xlink:href=\"#DejaVuSans-85\"/>\r\n      <use x=\"692.146484\" xlink:href=\"#DejaVuSans-83\"/>\r\n      <use x=\"755.623047\" xlink:href=\"#DejaVuSans-68\"/>\r\n      <use x=\"832.625\" xlink:href=\"#DejaVuSans-84\"/>\r\n      <use x=\"893.708984\" xlink:href=\"#DejaVuSans-41\"/>\r\n     </g>\r\n    </g>\r\n   </g>\r\n   <g id=\"line2d_55\">\r\n    <path clip-path=\"url(#p51e6aea14b)\" d=\"M 53.223625 310.574553 \r\nL 53.775033 307.864162 \r\nL 54.326442 306.740887 \r\nL 54.87785 302.404261 \r\nL 55.429259 304.416098 \r\nL 55.980667 305.125829 \r\nL 56.532076 304.248445 \r\nL 57.083484 301.363415 \r\nL 57.634893 306.928099 \r\nL 58.186301 303.4968 \r\nL 58.73771 304.727653 \r\nL 59.289118 294.62516 \r\nL 59.840526 293.817631 \r\nL 60.391935 296.764133 \r\nL 60.943343 294.865462 \r\nL 61.494752 292.497363 \r\nL 62.04616 293.172166 \r\nL 62.597569 294.451918 \r\nL 63.148977 293.471148 \r\nL 64.251794 298.299556 \r\nL 64.803202 299.463347 \r\nL 65.354611 299.922996 \r\nL 65.906019 303.783208 \r\nL 66.457428 308.740149 \r\nL 67.560245 305.743351 \r\nL 68.663062 308.990232 \r\nL 69.21447 309.209578 \r\nL 69.765879 311.050967 \r\nL 70.317287 310.485138 \r\nL 70.868695 310.775737 \r\nL 71.420104 308.7639 \r\nL 71.971512 310.151229 \r\nL 73.074329 316.8336 \r\nL 73.625738 315.506347 \r\nL 74.177146 316.822424 \r\nL 75.279963 317.663483 \r\nL 75.831371 320.369683 \r\nL 76.38278 316.297111 \r\nL 76.934188 315.437889 \r\nL 77.485597 313.270973 \r\nL 78.037005 313.678929 \r\nL 78.588414 312.826693 \r\nL 79.139822 312.811324 \r\nL 79.691231 314.78963 \r\nL 80.242639 313.956954 \r\nL 81.345456 315.102583 \r\nL 81.896864 315.92548 \r\nL 82.448273 316.372555 \r\nL 82.999681 320.234163 \r\nL 83.55109 319.464356 \r\nL 84.102498 321.69973 \r\nL 84.653907 322.406667 \r\nL 85.205315 320.630942 \r\nL 85.756724 321.979152 \r\nL 86.308132 321.847824 \r\nL 86.85954 322.053199 \r\nL 87.962357 321.136695 \r\nL 89.065174 322.423433 \r\nL 89.616583 325.128235 \r\nL 90.167991 325.314051 \r\nL 90.7194 326.176067 \r\nL 91.270808 325.578104 \r\nL 91.822217 326.978007 \r\nL 92.373625 326.652481 \r\nL 92.925033 327.947601 \r\nL 93.476442 326.957051 \r\nL 94.02785 325.210665 \r\nL 94.579259 324.614099 \r\nL 95.130667 322.885876 \r\nL 95.682076 323.559282 \r\nL 96.233484 323.355304 \r\nL 96.784893 323.880617 \r\nL 97.336301 324.208938 \r\nL 97.88771 323.814953 \r\nL 98.439118 324.23688 \r\nL 98.990526 324.999701 \r\nL 99.541935 326.56586 \r\nL 100.093343 326.104814 \r\nL 100.644752 326.655275 \r\nL 101.19616 325.233018 \r\nL 101.747569 325.397877 \r\nL 102.298977 324.591745 \r\nL 103.401794 320.527556 \r\nL 103.953202 319.246407 \r\nL 104.504611 319.053606 \r\nL 105.056019 321.934445 \r\nL 105.607428 321.657817 \r\nL 106.158836 320.83492 \r\nL 106.710245 321.523695 \r\nL 107.261653 320.229972 \r\nL 107.813062 320.333358 \r\nL 108.36447 321.555828 \r\nL 108.915879 321.290377 \r\nL 110.018695 321.740246 \r\nL 110.570104 323.054926 \r\nL 111.121512 324.664395 \r\nL 111.672921 324.931243 \r\nL 112.224329 326.251511 \r\nL 112.775738 326.380045 \r\nL 113.327146 326.810354 \r\nL 113.878555 326.272467 \r\nL 114.429963 326.394016 \r\nL 114.981371 327.193162 \r\nL 115.53278 328.69226 \r\nL 116.084188 327.405522 \r\nL 116.635597 328.422618 \r\nL 117.187005 329.069479 \r\nL 117.738414 328.886458 \r\nL 118.289822 330.352025 \r\nL 118.841231 331.405445 \r\nL 119.392639 331.390077 \r\nL 119.944048 331.251763 \r\nL 120.495456 329.100215 \r\nL 121.046864 330.733436 \r\nL 121.598273 330.297538 \r\nL 122.149681 331.651336 \r\nL 122.70109 331.239189 \r\nL 123.252498 331.957303 \r\nL 123.803907 331.570304 \r\nL 124.355315 331.362134 \r\nL 124.906724 331.317427 \r\nL 125.458132 331.466918 \r\nL 126.00954 330.426072 \r\nL 126.560949 329.721929 \r\nL 127.112357 329.749871 \r\nL 127.663766 330.405115 \r\nL 128.215174 330.259816 \r\nL 128.766583 329.520745 \r\nL 129.8694 330.005542 \r\nL 130.420808 329.76943 \r\nL 130.972217 332.401583 \r\nL 131.523625 332.11797 \r\nL 132.626442 333.642216 \r\nL 133.17785 333.848988 \r\nL 134.280667 334.674679 \r\nL 134.832076 335.209772 \r\nL 135.383484 334.757109 \r\nL 135.934893 335.039325 \r\nL 137.03771 334.705416 \r\nL 137.589118 335.600962 \r\nL 138.140526 334.828361 \r\nL 138.691935 334.384081 \r\nL 139.794752 332.211577 \r\nL 140.34616 332.819319 \r\nL 140.897569 331.913992 \r\nL 141.448977 332.954838 \r\nL 142.551794 333.41309 \r\nL 143.103202 332.41276 \r\nL 143.654611 332.746669 \r\nL 144.757428 332.577619 \r\nL 145.308836 332.639092 \r\nL 145.860245 332.978589 \r\nL 146.411653 333.168596 \r\nL 146.963062 333.062416 \r\nL 147.51447 332.817922 \r\nL 148.065879 333.080578 \r\nL 149.168695 332.31636 \r\nL 150.271512 332.534309 \r\nL 150.822921 334.578279 \r\nL 151.374329 334.241576 \r\nL 151.925738 334.166132 \r\nL 152.477146 334.451142 \r\nL 153.028555 333.75119 \r\nL 153.579963 333.603097 \r\nL 154.131371 333.299924 \r\nL 154.68278 333.755382 \r\nL 156.888414 333.667364 \r\nL 157.991231 333.935609 \r\nL 160.196864 334.180103 \r\nL 160.748273 334.662105 \r\nL 161.85109 334.603427 \r\nL 162.402498 334.511218 \r\nL 162.953907 334.25415 \r\nL 163.505315 334.441362 \r\nL 164.056724 333.668761 \r\nL 164.608132 333.731631 \r\nL 165.15954 333.056827 \r\nL 166.262357 333.733028 \r\nL 166.813766 334.041789 \r\nL 168.467991 333.728837 \r\nL 169.0194 334.038995 \r\nL 169.570808 335.167859 \r\nL 170.673625 335.883178 \r\nL 171.225033 335.913915 \r\nL 171.776442 335.758836 \r\nL 172.32785 337.105649 \r\nL 172.879259 338.059874 \r\nL 173.430667 337.707802 \r\nL 173.982076 338.311353 \r\nL 174.533484 338.349075 \r\nL 175.084893 339.019688 \r\nL 175.636301 339.114691 \r\nL 176.18771 339.366171 \r\nL 176.739118 339.308889 \r\nL 177.290526 338.569819 \r\nL 177.841935 338.608938 \r\nL 178.393343 339.009908 \r\nL 178.944752 338.687176 \r\nL 179.49616 338.618717 \r\nL 180.047569 339.092337 \r\nL 180.598977 339.22646 \r\nL 181.701794 340.176494 \r\nL 182.253202 340.312013 \r\nL 183.356019 340.123404 \r\nL 183.907428 340.309219 \r\nL 184.458836 340.373486 \r\nL 185.010245 340.236569 \r\nL 186.113062 340.5118 \r\nL 186.66447 340.546727 \r\nL 187.215879 340.416796 \r\nL 187.767287 339.940382 \r\nL 188.318695 339.676329 \r\nL 188.870104 339.762949 \r\nL 189.421512 339.060204 \r\nL 191.627146 338.182819 \r\nL 192.178555 338.730486 \r\nL 192.729963 338.79615 \r\nL 193.281371 339.423452 \r\nL 193.83278 338.724898 \r\nL 194.384188 338.811518 \r\nL 194.935597 338.512537 \r\nL 195.487005 338.804533 \r\nL 196.038414 338.603349 \r\nL 196.589822 338.275029 \r\nL 197.141231 338.593569 \r\nL 198.244048 338.316942 \r\nL 198.795456 337.731553 \r\nL 199.346864 337.82516 \r\nL 199.898273 337.790232 \r\nL 200.449681 337.281684 \r\nL 201.00109 338.368635 \r\nL 202.103907 338.477609 \r\nL 202.655315 338.958215 \r\nL 203.206724 338.400768 \r\nL 203.758132 338.599158 \r\nL 204.30954 338.294588 \r\nL 204.860949 338.221938 \r\nL 205.412357 338.360252 \r\nL 205.963766 338.160466 \r\nL 206.515174 338.479007 \r\nL 207.066583 338.529302 \r\nL 207.617991 338.413342 \r\nL 208.1694 338.508346 \r\nL 209.823625 338.543274 \r\nL 211.47785 339.164987 \r\nL 212.029259 338.945641 \r\nL 212.580667 339.125868 \r\nL 213.683484 338.979171 \r\nL 214.786301 339.160796 \r\nL 215.33771 339.152413 \r\nL 215.889118 339.345214 \r\nL 216.440526 339.374553 \r\nL 216.991935 338.779385 \r\nL 217.543343 338.716515 \r\nL 218.094752 338.474815 \r\nL 218.64616 338.643865 \r\nL 219.748977 338.730486 \r\nL 220.300386 338.828284 \r\nL 221.954611 338.660631 \r\nL 222.506019 338.092007 \r\nL 223.057428 338.051491 \r\nL 223.608836 337.834939 \r\nL 224.160245 338.17304 \r\nL 224.711653 338.069654 \r\nL 225.263062 337.698023 \r\nL 225.81447 338.662028 \r\nL 226.365879 338.389592 \r\nL 227.468695 338.466433 \r\nL 229.674329 338.592172 \r\nL 230.225738 338.84924 \r\nL 230.777146 338.472021 \r\nL 232.431371 338.540479 \r\nL 232.98278 337.928546 \r\nL 233.534188 338.101787 \r\nL 234.085597 337.857293 \r\nL 235.739822 337.811189 \r\nL 236.842639 337.309626 \r\nL 237.394048 337.506619 \r\nL 237.945456 337.487059 \r\nL 239.048273 336.986894 \r\nL 239.599681 337.154547 \r\nL 240.702498 335.598168 \r\nL 241.253907 335.874796 \r\nL 241.805315 336.285546 \r\nL 242.356724 335.848251 \r\nL 242.908132 335.111974 \r\nL 243.45954 335.315952 \r\nL 244.010949 334.532174 \r\nL 244.562357 334.395258 \r\nL 245.113766 334.704019 \r\nL 245.665174 334.395258 \r\nL 246.216583 332.531515 \r\nL 246.767991 331.807812 \r\nL 247.3194 332.291212 \r\nL 247.870808 331.83296 \r\nL 248.973625 331.922375 \r\nL 250.076442 332.889174 \r\nL 250.62785 331.96848 \r\nL 251.179259 332.8766 \r\nL 251.730667 332.942264 \r\nL 252.282076 332.894763 \r\nL 252.833484 332.710344 \r\nL 253.384893 333.068004 \r\nL 253.936301 332.912925 \r\nL 254.48771 332.950647 \r\nL 255.039118 333.126683 \r\nL 256.693343 334.227605 \r\nL 257.244752 333.570963 \r\nL 257.79616 334.198265 \r\nL 258.347569 334.402243 \r\nL 258.898977 334.750123 \r\nL 260.001794 334.618795 \r\nL 260.553202 334.859098 \r\nL 261.104611 335.373234 \r\nL 261.656019 334.674679 \r\nL 262.207428 334.856303 \r\nL 262.758836 334.889834 \r\nL 263.310245 334.695636 \r\nL 263.861653 335.125945 \r\nL 264.413062 335.243303 \r\nL 264.96447 335.113371 \r\nL 265.515879 335.51015 \r\nL 266.067287 335.429118 \r\nL 266.618695 335.849648 \r\nL 267.170104 335.647067 \r\nL 267.721512 334.143778 \r\nL 268.272921 334.657914 \r\nL 268.824329 334.311431 \r\nL 269.927146 331.34956 \r\nL 271.029963 332.907337 \r\nL 271.581371 333.470372 \r\nL 272.13278 332.435114 \r\nL 272.684188 332.678211 \r\nL 273.235597 332.728507 \r\nL 273.787005 333.642216 \r\nL 274.338414 333.24404 \r\nL 274.889822 333.204921 \r\nL 275.441231 333.283159 \r\nL 276.544048 331.846931 \r\nL 277.095456 331.490668 \r\nL 277.646864 331.77987 \r\nL 278.198273 332.743875 \r\nL 278.749681 332.014584 \r\nL 279.30109 331.828769 \r\nL 279.852498 331.014254 \r\nL 280.403907 332.250696 \r\nL 280.955315 332.946456 \r\nL 282.058132 332.861232 \r\nL 282.60954 332.592987 \r\nL 283.160949 332.794171 \r\nL 283.712357 333.449415 \r\nL 284.263766 332.58181 \r\nL 284.815174 332.254887 \r\nL 285.366583 331.051976 \r\nL 285.917991 331.941935 \r\nL 287.020808 331.717 \r\nL 287.572217 331.630379 \r\nL 288.123625 331.427799 \r\nL 288.675033 332.024364 \r\nL 289.226442 331.954509 \r\nL 289.77785 332.270255 \r\nL 290.329259 332.035541 \r\nL 290.880667 331.221026 \r\nL 291.432076 330.916457 \r\nL 291.983484 330.792114 \r\nL 292.534893 330.980724 \r\nL 293.086301 330.757186 \r\nL 293.63771 332.397392 \r\nL 294.189118 332.071866 \r\nL 294.740526 331.929361 \r\nL 295.291935 332.975795 \r\nL 295.843343 332.788583 \r\nL 296.394752 333.216098 \r\nL 296.94616 332.96881 \r\nL 297.497569 333.658981 \r\nL 298.048977 333.807075 \r\nL 298.600386 333.647804 \r\nL 299.151794 333.333455 \r\nL 299.703202 333.277571 \r\nL 300.254611 333.594714 \r\nL 301.357428 335.366248 \r\nL 301.908836 334.776668 \r\nL 302.460245 335.146902 \r\nL 303.011653 336.193337 \r\nL 303.563062 336.222676 \r\nL 304.11447 337.229991 \r\nL 305.217287 336.305105 \r\nL 305.768695 336.141644 \r\nL 306.320104 335.719717 \r\nL 307.422921 336.157012 \r\nL 307.974329 336.68931 \r\nL 308.525738 336.259001 \r\nL 309.077146 336.292531 \r\nL 309.628555 335.721114 \r\nL 310.179963 336.102524 \r\nL 310.731371 336.175174 \r\nL 311.28278 336.03686 \r\nL 311.834188 336.120687 \r\nL 312.385597 336.070391 \r\nL 313.488414 336.461581 \r\nL 314.039822 336.401506 \r\nL 314.591231 336.637617 \r\nL 315.142639 336.585924 \r\nL 315.694048 336.99388 \r\nL 316.245456 337.207638 \r\nL 316.796864 337.185284 \r\nL 317.348273 337.8056 \r\nL 317.899681 337.210432 \r\nL 318.45109 336.823433 \r\nL 319.002498 337.058147 \r\nL 319.553907 337.108443 \r\nL 320.105315 337.879647 \r\nL 320.656724 337.855896 \r\nL 321.208132 337.946708 \r\nL 321.75954 337.847513 \r\nL 322.310949 337.397644 \r\nL 323.413766 337.598828 \r\nL 323.965174 337.851705 \r\nL 324.516583 337.597431 \r\nL 325.6194 337.460514 \r\nL 326.170808 337.554121 \r\nL 327.273625 337.499633 \r\nL 327.825033 338.059874 \r\nL 328.376442 338.251278 \r\nL 329.479259 338.219144 \r\nL 330.030667 338.286205 \r\nL 331.133484 337.948105 \r\nL 332.236301 338.265249 \r\nL 332.78771 338.289 \r\nL 333.339118 338.045903 \r\nL 334.441935 337.929943 \r\nL 334.993343 337.977444 \r\nL 335.544752 338.199585 \r\nL 338.853202 337.640741 \r\nL 339.404611 337.052558 \r\nL 339.956019 337.160136 \r\nL 340.507428 337.129399 \r\nL 341.058836 337.232785 \r\nL 342.161653 337.995607 \r\nL 342.713062 339.265579 \r\nL 343.26447 339.002922 \r\nL 343.815879 339.134251 \r\nL 344.367287 339.004319 \r\nL 344.918695 339.075572 \r\nL 345.470104 339.278153 \r\nL 346.021512 339.036453 \r\nL 346.572921 339.125868 \r\nL 347.124329 338.987554 \r\nL 347.675738 339.134251 \r\nL 348.778555 338.926081 \r\nL 349.329963 339.046233 \r\nL 349.881371 338.68997 \r\nL 350.43278 338.712324 \r\nL 350.984188 338.547465 \r\nL 352.638414 338.824092 \r\nL 353.741231 338.638277 \r\nL 354.292639 338.940052 \r\nL 354.844048 339.104911 \r\nL 355.395456 338.97498 \r\nL 355.946864 339.166384 \r\nL 357.049681 338.955421 \r\nL 358.152498 339.076969 \r\nL 358.703907 339.389921 \r\nL 359.255315 339.257196 \r\nL 359.806724 338.719309 \r\nL 360.358132 338.810121 \r\nL 360.90954 338.578201 \r\nL 361.460949 338.576804 \r\nL 362.012357 338.403563 \r\nL 362.563766 338.641071 \r\nL 363.115174 338.703941 \r\nL 364.217991 338.548862 \r\nL 364.7694 338.645262 \r\nL 365.872217 338.305765 \r\nL 366.423625 338.21635 \r\nL 367.526442 338.578201 \r\nL 368.07785 338.543274 \r\nL 368.629259 338.343487 \r\nL 369.180667 338.439887 \r\nL 369.732076 338.363046 \r\nL 370.834893 338.490183 \r\nL 371.386301 338.337899 \r\nL 371.93771 338.340693 \r\nL 372.489118 338.180025 \r\nL 373.591935 338.58379 \r\nL 374.143343 338.754237 \r\nL 374.694752 339.107705 \r\nL 375.24616 339.300506 \r\nL 375.797569 339.162193 \r\nL 376.348977 339.581325 \r\nL 377.451794 339.34242 \r\nL 378.003202 339.022482 \r\nL 378.554611 339.01829 \r\nL 379.106019 338.702544 \r\nL 381.863062 339.282344 \r\nL 384.068695 339.058807 \r\nL 385.171512 339.391319 \r\nL 386.825738 339.266976 \r\nL 387.377146 339.408084 \r\nL 387.928555 339.370362 \r\nL 389.031371 340.042371 \r\nL 389.58278 339.666549 \r\nL 390.134188 339.853762 \r\nL 390.685597 339.730816 \r\nL 391.237005 339.853762 \r\nL 391.788414 339.667946 \r\nL 392.339822 339.841188 \r\nL 392.891231 339.735007 \r\nL 393.442639 339.810451 \r\nL 393.994048 339.695888 \r\nL 394.545456 339.871924 \r\nL 395.648273 339.701477 \r\nL 396.75109 339.878909 \r\nL 397.302498 339.790892 \r\nL 397.853907 339.901263 \r\nL 398.405315 339.694491 \r\nL 399.508132 339.634415 \r\nL 400.05954 339.254402 \r\nL 401.713766 339.416466 \r\nL 402.265174 339.308889 \r\nL 402.816583 339.329846 \r\nL 403.367991 339.170575 \r\nL 403.9194 339.324257 \r\nL 404.470808 338.655042 \r\nL 405.022217 338.495772 \r\nL 405.573625 338.645262 \r\nL 406.125033 338.195393 \r\nL 406.676442 338.196791 \r\nL 407.22785 338.600555 \r\nL 408.330667 338.038917 \r\nL 408.882076 338.076639 \r\nL 409.433484 338.435696 \r\nL 409.984893 338.188408 \r\nL 410.536301 338.441285 \r\nL 411.08771 338.213556 \r\nL 411.639118 337.767878 \r\nL 412.190526 337.077706 \r\nL 412.741935 337.023219 \r\nL 413.293343 336.625043 \r\nL 413.844752 336.937996 \r\nL 414.39616 336.630632 \r\nL 414.947569 336.686516 \r\nL 415.498977 336.51048 \r\nL 416.050386 336.643206 \r\nL 416.601794 336.179365 \r\nL 417.153202 336.074582 \r\nL 418.256019 336.082965 \r\nL 418.807428 335.823103 \r\nL 419.358836 336.045243 \r\nL 419.910245 335.617728 \r\nL 420.461653 334.944321 \r\nL 421.013062 334.874466 \r\nL 421.56447 334.585264 \r\nL 422.115879 335.490591 \r\nL 422.667287 335.881781 \r\nL 423.218695 336.059214 \r\nL 423.770104 335.702951 \r\nL 424.321512 336.453199 \r\nL 425.424329 336.291134 \r\nL 425.975738 336.330253 \r\nL 426.527146 335.883178 \r\nL 427.629963 336.640411 \r\nL 428.181371 337.601622 \r\nL 428.73278 337.502427 \r\nL 429.835597 337.888029 \r\nL 430.387005 338.096199 \r\nL 430.938414 337.590445 \r\nL 431.489822 337.670081 \r\nL 432.041231 337.625373 \r\nL 432.592639 337.348746 \r\nL 433.144048 337.239771 \r\nL 433.695456 337.651918 \r\nL 434.246864 338.473418 \r\nL 434.798273 338.662028 \r\nL 435.349681 338.675999 \r\nL 435.90109 338.923287 \r\nL 436.452498 341.214545 \r\nL 437.003907 340.496432 \r\nL 437.555315 340.861077 \r\nL 438.106724 340.705998 \r\nL 438.658132 341.083217 \r\nL 439.20954 340.870857 \r\nL 439.760949 340.826149 \r\nL 440.312357 340.235172 \r\nL 440.863766 340.352529 \r\nL 441.415174 340.349735 \r\nL 441.966583 340.692027 \r\nL 442.517991 340.381869 \r\nL 443.0694 340.244952 \r\nL 443.620808 340.353926 \r\nL 444.172217 340.156934 \r\nL 444.723625 340.441944 \r\nL 445.275033 340.312013 \r\nL 445.826442 340.548125 \r\nL 446.929259 340.214216 \r\nL 449.134893 339.936191 \r\nL 449.686301 340.011635 \r\nL 450.23771 339.449997 \r\nL 450.789118 339.543603 \r\nL 451.340526 339.384333 \r\nL 451.891935 339.42904 \r\nL 452.443343 339.828614 \r\nL 454.097569 339.842585 \r\nL 454.648977 339.841188 \r\nL 455.200386 340.01862 \r\nL 455.751794 339.653975 \r\nL 456.303202 339.673534 \r\nL 456.854611 339.363376 \r\nL 457.957428 339.730816 \r\nL 458.508836 339.642798 \r\nL 459.060245 339.349405 \r\nL 459.611653 338.757031 \r\nL 460.71447 338.569819 \r\nL 461.265879 338.051491 \r\nL 462.368695 337.93134 \r\nL 462.920104 337.27889 \r\nL 463.471512 337.829351 \r\nL 464.022921 337.355731 \r\nL 464.574329 337.357128 \r\nL 465.125738 337.625373 \r\nL 466.228555 337.559709 \r\nL 466.779963 337.637947 \r\nL 467.331371 337.311024 \r\nL 467.88278 337.202049 \r\nL 468.434188 337.280287 \r\nL 468.985597 337.82516 \r\nL 469.537005 337.791629 \r\nL 470.088414 337.422792 \r\nL 470.639822 337.277493 \r\nL 471.742639 337.446543 \r\nL 472.845456 337.302641 \r\nL 473.948273 336.537025 \r\nL 474.499681 336.52026 \r\nL 475.05109 337.193666 \r\nL 475.602498 336.678133 \r\nL 476.153907 336.798285 \r\nL 476.705315 337.308229 \r\nL 477.256724 336.937996 \r\nL 477.808132 336.986894 \r\nL 478.35954 336.766151 \r\nL 478.910949 335.384411 \r\nL 479.462357 335.430515 \r\nL 480.013766 333.723248 \r\nL 480.565174 334.143778 \r\nL 481.116583 333.161611 \r\nL 481.667991 333.470372 \r\nL 482.2194 332.511955 \r\nL 482.770808 332.059292 \r\nL 483.322217 332.569236 \r\nL 484.425033 332.373641 \r\nL 484.976442 332.386215 \r\nL 485.52785 332.884983 \r\nL 486.079259 332.788583 \r\nL 486.630667 333.952374 \r\nL 487.182076 333.364191 \r\nL 487.733484 333.42287 \r\nL 488.284893 333.791707 \r\nL 489.38771 333.396325 \r\nL 489.939118 332.803951 \r\nL 491.041935 333.309704 \r\nL 492.144752 333.513682 \r\nL 492.69616 332.795568 \r\nL 494.901794 333.204921 \r\nL 495.453202 333.657584 \r\nL 496.556019 332.743875 \r\nL 497.107428 332.873806 \r\nL 497.658836 330.943002 \r\nL 498.210245 331.487874 \r\nL 499.313062 330.490339 \r\nL 499.86447 330.758583 \r\nL 500.415879 329.782004 \r\nL 501.518695 326.315778 \r\nL 502.621512 327.918261 \r\nL 503.172921 326.972419 \r\nL 503.724329 326.746087 \r\nL 504.275738 327.106541 \r\nL 504.827146 325.948338 \r\nL 505.378555 326.209597 \r\nL 506.481371 327.390154 \r\nL 507.03278 327.325887 \r\nL 507.584188 327.141469 \r\nL 508.135597 328.023045 \r\nL 508.687005 327.254635 \r\nL 509.789822 327.113527 \r\nL 510.341231 327.427876 \r\nL 510.892639 324.403136 \r\nL 511.444048 323.722744 \r\nL 511.995456 325.105881 \r\nL 512.546864 323.645903 \r\nL 513.098273 324.948008 \r\nL 513.649681 324.825063 \r\nL 514.20109 325.079336 \r\nL 514.752498 324.336075 \r\nL 515.303907 325.782082 \r\nL 515.855315 325.286108 \r\nL 516.406724 324.440858 \r\nL 516.958132 324.591745 \r\nL 517.50954 324.288573 \r\nL 518.060949 325.065365 \r\nL 518.612357 323.936501 \r\nL 519.715174 324.373796 \r\nL 520.266583 325.348978 \r\nL 520.817991 325.369935 \r\nL 521.3694 324.987127 \r\nL 521.920808 325.151986 \r\nL 523.023625 325.073748 \r\nL 523.575033 324.854402 \r\nL 524.126442 325.340596 \r\nL 524.67785 326.3535 \r\nL 525.229259 325.728992 \r\nL 525.780667 327.263017 \r\nL 526.332076 326.983596 \r\nL 526.883484 327.506114 \r\nL 527.434893 327.19875 \r\nL 527.986301 328.766306 \r\nL 528.53771 328.492473 \r\nL 529.089118 329.48442 \r\nL 529.640526 329.202204 \r\nL 530.191935 328.229817 \r\nL 530.743343 328.056575 \r\nL 531.294752 327.349638 \r\nL 531.84616 327.081393 \r\nL 532.397569 328.417029 \r\nL 532.948977 331.271322 \r\nL 533.500386 330.279375 \r\nL 534.051794 331.894433 \r\nL 534.603202 331.531185 \r\nL 535.154611 331.391474 \r\nL 535.706019 331.753325 \r\nL 536.257428 331.43199 \r\nL 536.808836 330.903883 \r\nL 537.911653 330.817262 \r\nL 538.463062 331.186099 \r\nL 539.01447 330.96815 \r\nL 539.565879 331.457138 \r\nL 540.117287 331.683469 \r\nL 540.668695 331.324413 \r\nL 541.220104 331.764502 \r\nL 541.771512 331.697441 \r\nL 542.322921 331.983848 \r\nL 542.874329 333.315293 \r\nL 543.425738 333.087564 \r\nL 543.977146 333.762367 \r\nL 544.528555 332.936676 \r\nL 545.079963 330.926237 \r\nL 545.631371 331.130214 \r\nL 546.18278 330.3157 \r\nL 546.734188 330.455411 \r\nL 547.837005 330.307317 \r\nL 548.388414 330.771157 \r\nL 548.939822 331.49486 \r\nL 549.491231 331.436181 \r\nL 550.042639 330.936016 \r\nL 550.594048 330.863367 \r\nL 551.145456 331.490668 \r\nL 551.696864 331.371914 \r\nL 552.248273 331.01146 \r\nL 552.799681 330.317097 \r\nL 553.35109 329.80855 \r\nL 553.902498 329.591998 \r\nL 554.453907 329.177056 \r\nL 555.005315 329.204999 \r\nL 555.556724 329.515157 \r\nL 556.108132 329.56685 \r\nL 556.65954 329.918921 \r\nL 557.762357 329.470449 \r\nL 558.313766 329.297208 \r\nL 558.865174 330.164812 \r\nL 559.416583 329.674427 \r\nL 559.967991 328.992638 \r\nL 560.5194 329.372652 \r\nL 561.070808 329.383828 \r\nL 561.622217 329.604572 \r\nL 562.173625 330.069809 \r\nL 562.725033 330.139664 \r\nL 563.82785 331.152568 \r\nL 564.379259 331.433387 \r\nL 564.930667 331.4753 \r\nL 565.482076 330.739024 \r\nL 566.033484 331.585672 \r\nL 567.136301 331.126023 \r\nL 567.68771 330.843807 \r\nL 568.239118 329.225955 \r\nL 568.790526 330.318494 \r\nL 569.341935 329.582218 \r\nL 569.893343 329.713546 \r\nL 570.99616 329.660456 \r\nL 571.547569 329.854654 \r\nL 572.098977 329.618543 \r\nL 572.650386 329.923112 \r\nL 573.201794 330.433057 \r\nL 573.753202 329.956643 \r\nL 574.304611 329.174262 \r\nL 574.856019 329.578027 \r\nL 575.407428 329.67303 \r\nL 575.958836 327.943409 \r\nL 577.061653 324.072021 \r\nL 577.613062 322.890067 \r\nL 578.16447 321.107356 \r\nL 578.715879 322.850948 \r\nL 579.267287 325.128235 \r\nL 579.818695 324.660204 \r\nL 580.370104 321.431485 \r\nL 580.921512 321.188388 \r\nL 581.472921 320.432553 \r\nL 582.024329 322.726605 \r\nL 582.575738 322.331223 \r\nL 583.127146 321.558622 \r\nL 583.678555 323.817747 \r\nL 584.229963 322.124451 \r\nL 584.781371 322.292104 \r\nL 585.33278 322.95154 \r\nL 585.884188 324.741236 \r\nL 586.435597 323.796791 \r\nL 586.987005 324.646233 \r\nL 587.538414 325.012275 \r\nL 588.089822 324.296955 \r\nL 588.641231 322.944554 \r\nL 589.192639 322.286516 \r\nL 589.744048 322.979482 \r\nL 590.295456 320.977425 \r\nL 590.846864 321.645243 \r\nL 591.398273 321.413323 \r\nL 591.949681 321.509723 \r\nL 592.50109 321.833853 \r\nL 593.052498 323.123384 \r\nL 593.603907 322.609248 \r\nL 594.155315 325.418834 \r\nL 594.706724 323.087059 \r\nL 595.258132 322.448581 \r\nL 595.80954 322.339606 \r\nL 596.360949 322.859331 \r\nL 596.912357 319.841576 \r\nL 597.463766 317.829739 \r\nL 598.015174 318.776979 \r\nL 598.566583 319.133241 \r\nL 599.117991 320.006434 \r\nL 599.6694 319.680908 \r\nL 600.220808 315.667015 \r\nL 600.772217 312.994346 \r\nL 601.323625 308.321017 \r\nL 601.875033 297.932116 \r\nL 602.426442 302.655741 \r\nL 602.97785 302.011674 \r\nL 603.529259 298.277202 \r\nL 604.632076 305.950123 \r\nL 605.183484 304.108734 \r\nL 605.734893 300.836705 \r\nL 606.286301 300.877221 \r\nL 606.83771 302.292492 \r\nL 607.389118 295.47041 \r\nL 607.940526 291.265113 \r\nL 608.491935 292.603543 \r\nL 609.043343 293.166578 \r\nL 609.594752 292.032126 \r\nL 610.14616 301.458419 \r\nL 610.697569 295.755421 \r\nL 611.248977 296.152199 \r\nL 611.800386 295.087603 \r\nL 612.351794 296.536404 \r\nL 612.903202 296.505668 \r\nL 613.454611 300.956857 \r\nL 614.006019 296.395296 \r\nL 614.557428 295.916088 \r\nL 615.108836 293.613653 \r\nL 615.660245 296.303087 \r\nL 616.211653 287.360194 \r\nL 617.31447 282.731573 \r\nL 617.865879 283.087835 \r\nL 618.968695 255.830244 \r\nL 619.520104 252.106949 \r\nL 620.071512 249.970769 \r\nL 620.622921 245.885623 \r\nL 621.174329 213.18769 \r\nL 621.725738 214.822307 \r\nL 622.277146 215.339237 \r\nL 622.828555 216.913779 \r\nL 623.379963 226.602728 \r\nL 623.931371 224.117272 \r\nL 624.48278 222.91995 \r\nL 625.585597 216.713992 \r\nL 626.137005 215.122686 \r\nL 626.688414 188.595782 \r\nL 627.239822 190.934542 \r\nL 627.791231 191.201389 \r\nL 628.342639 210.07074 \r\nL 628.894048 197.908909 \r\nL 629.445456 194.012372 \r\nL 629.996864 170.803601 \r\nL 630.548273 160.885526 \r\nL 631.099681 161.163551 \r\nL 631.65109 163.365394 \r\nL 632.202498 173.629952 \r\nL 632.753907 174.983751 \r\nL 633.305315 189.05543 \r\nL 633.856724 182.532329 \r\nL 634.408132 186.734833 \r\nL 634.95954 186.536443 \r\nL 635.510949 188.204591 \r\nL 636.062357 177.206551 \r\nL 636.613766 186.230476 \r\nL 637.165174 187.391474 \r\nL 637.716583 200.277008 \r\nL 638.267991 190.786448 \r\nL 638.8194 197.432494 \r\nL 639.370808 200.422307 \r\nL 639.922217 169.935997 \r\nL 640.473625 152.086535 \r\nL 641.025033 172.728817 \r\nL 641.576442 163.579152 \r\nL 642.12785 176.751093 \r\nL 642.679259 178.8258 \r\nL 643.230667 190.576882 \r\nL 643.782076 188.496587 \r\nL 644.333484 195.114691 \r\nL 644.884893 191.401176 \r\nL 645.436301 174.831466 \r\nL 645.98771 180.059447 \r\nL 647.090526 176.481451 \r\nL 647.641935 175.154198 \r\nL 648.193343 177.945621 \r\nL 648.744752 179.082868 \r\nL 649.29616 178.215263 \r\nL 649.847569 182.071284 \r\nL 650.398977 179.321774 \r\nL 650.950386 175.166772 \r\nL 651.501794 169.550395 \r\nL 652.053202 180.505125 \r\nL 652.604611 174.124529 \r\nL 653.156019 176.534542 \r\nL 653.707428 174.374611 \r\nL 654.810245 160.84501 \r\nL 655.361653 147.132388 \r\nL 655.913062 141.759107 \r\nL 656.46447 137.947795 \r\nL 657.015879 147.491445 \r\nL 657.567287 153.341139 \r\nL 658.670104 177.58377 \r\nL 659.221512 167.4701 \r\nL 660.324329 184.639169 \r\nL 660.875738 182.591008 \r\nL 661.427146 190.385478 \r\nL 661.978555 192.001933 \r\nL 662.529963 171.576203 \r\nL 663.081371 161.964094 \r\nL 663.63278 157.549231 \r\nL 664.184188 161.964094 \r\nL 664.735597 155.411654 \r\nL 665.287005 155.635192 \r\nL 665.838414 159.113992 \r\nL 666.389822 154.154256 \r\nL 666.941231 167.063541 \r\nL 668.044048 114.071206 \r\nL 668.595456 113.526334 \r\nL 669.146864 117.983111 \r\nL 669.698273 97.697091 \r\nL 670.249681 115.02124 \r\nL 670.80109 98.130195 \r\nL 671.352498 125.206163 \r\nL 671.903907 74.882305 \r\nL 672.455315 64.082655 \r\nL 673.006724 40.681083 \r\nL 673.558132 23.105455 \r\nL 674.10954 60.757536 \r\nL 674.660949 64.5437 \r\nL 675.212357 139.610354 \r\nL 675.763766 92.905008 \r\nL 676.315174 128.014351 \r\nL 676.866583 140.085371 \r\nL 677.417991 160.902292 \r\nL 677.9694 127.916554 \r\nL 678.520808 127.469479 \r\nL 679.072217 95.908792 \r\nL 679.623625 97.04045 \r\nL 679.623625 97.04045 \r\n\" style=\"fill:none;stroke:#008fd5;stroke-width:4;\"/>\r\n   </g>\r\n   <g id=\"patch_3\">\r\n    <path d=\"M 53.223625 357.12 \r\nL 53.223625 7.2 \r\n\" style=\"fill:none;stroke:#f0f0f0;stroke-linecap:square;stroke-linejoin:miter;stroke-width:3;\"/>\r\n   </g>\r\n   <g id=\"patch_4\">\r\n    <path d=\"M 679.623625 357.12 \r\nL 679.623625 7.2 \r\n\" style=\"fill:none;stroke:#f0f0f0;stroke-linecap:square;stroke-linejoin:miter;stroke-width:3;\"/>\r\n   </g>\r\n   <g id=\"patch_5\">\r\n    <path d=\"M 53.223625 357.12 \r\nL 679.623625 357.12 \r\n\" style=\"fill:none;stroke:#f0f0f0;stroke-linecap:square;stroke-linejoin:miter;stroke-width:3;\"/>\r\n   </g>\r\n   <g id=\"patch_6\">\r\n    <path d=\"M 53.223625 7.2 \r\nL 679.623625 7.2 \r\n\" style=\"fill:none;stroke:#f0f0f0;stroke-linecap:square;stroke-linejoin:miter;stroke-width:3;\"/>\r\n   </g>\r\n   <g id=\"legend_1\">\r\n    <g id=\"patch_7\">\r\n     <path d=\"M 588.962688 38.949375 \r\nL 669.823625 38.949375 \r\nQ 672.623625 38.949375 672.623625 36.149375 \r\nL 672.623625 17 \r\nQ 672.623625 14.2 669.823625 14.2 \r\nL 588.962688 14.2 \r\nQ 586.162688 14.2 586.162688 17 \r\nL 586.162688 36.149375 \r\nQ 586.162688 38.949375 588.962688 38.949375 \r\nz\r\n\" style=\"fill:#f0f0f0;opacity:0.8;stroke:#cccccc;stroke-linejoin:miter;stroke-width:0.5;\"/>\r\n    </g>\r\n    <g id=\"line2d_56\">\r\n     <path d=\"M 591.762688 25.537813 \r\nL 619.762688 25.537813 \r\n\" style=\"fill:none;stroke:#008fd5;stroke-width:4;\"/>\r\n    </g>\r\n    <g id=\"line2d_57\"/>\r\n    <g id=\"text_14\">\r\n     <!-- close -->\r\n     <g transform=\"translate(630.962688 30.437813)scale(0.14 -0.14)\">\r\n      <use xlink:href=\"#DejaVuSans-99\"/>\r\n      <use x=\"54.980469\" xlink:href=\"#DejaVuSans-108\"/>\r\n      <use x=\"82.763672\" xlink:href=\"#DejaVuSans-111\"/>\r\n      <use x=\"143.945312\" xlink:href=\"#DejaVuSans-115\"/>\r\n      <use x=\"196.044922\" xlink:href=\"#DejaVuSans-101\"/>\r\n     </g>\r\n    </g>\r\n   </g>\r\n  </g>\r\n </g>\r\n <defs>\r\n  <clipPath id=\"p51e6aea14b\">\r\n   <rect height=\"349.92\" width=\"626.4\" x=\"53.223625\" y=\"7.2\"/>\r\n  </clipPath>\r\n </defs>\r\n</svg>\r\n",
      "image/png": "[encoded data removed]"
     },
     "metadata": {}
    }
   ],
   "source": [
    "ax = dataset2.plot(x='date', y='close');\n",
    "ax.set_xlabel(\"Date\")\n",
    "ax.set_ylabel(\"Close Price (USDT)\")"
   ]
  },
  {
   "source": [
    "# We have a total of 1137 data points representing Bitcoin-USD price for 1137 days (~3.2 years). We’re interested in predicting the closing price for future dates."
   ],
   "cell_type": "markdown",
   "metadata": {}
  },
  {
   "cell_type": "code",
   "execution_count": 14,
   "metadata": {},
   "outputs": [],
   "source": [
    "scaler = MinMaxScaler()\n",
    "\n",
    "close_price = dataset2.close.values.reshape(-1, 1)\n",
    "\n",
    "scaled_close = scaler.fit_transform(close_price)"
   ]
  },
  {
   "cell_type": "code",
   "execution_count": 15,
   "metadata": {},
   "outputs": [],
   "source": [
    "scaled_close = scaled_close[~np.isnan(scaled_close)]\n",
    "scaled_close = scaled_close.reshape(-1, 1)\n",
    "# Removing nan"
   ]
  },
  {
   "source": [
    "SEQ_LEN = 100\n",
    "\n",
    "def to_sequences(data, seq_len):\n",
    "    d = []\n",
    "\n",
    "    for index in range(len(data) - seq_len):\n",
    "        d.append(data[index: index + seq_len])\n",
    "\n",
    "    return np.array(d)\n",
    "\n",
    "def preprocess(data_raw, seq_len, train_split):\n",
    "\n",
    "    data = to_sequences(data_raw, seq_len)\n",
    "\n",
    "    num_train = int(train_split * data.shape[0])\n",
    "\n",
    "    X_train = data[:num_train, :-1, :]\n",
    "    y_train = data[:num_train, -1, :]\n",
    "\n",
    "    X_test = data[num_train:, :-1, :]\n",
    "    y_test = data[num_train:, -1, :]\n",
    "\n",
    "    return X_train, y_train, X_test, y_test\n",
    "\n",
    "\n",
    "X_train, y_train, X_test, y_test =\\\n",
    " preprocess(scaled_close, SEQ_LEN, train_split = 0.95)"
   ],
   "cell_type": "code",
   "metadata": {},
   "execution_count": 16,
   "outputs": []
  },
  {
   "cell_type": "code",
   "execution_count": 17,
   "metadata": {},
   "outputs": [
    {
     "output_type": "stream",
     "name": "stdout",
     "text": [
      "(985, 99, 1) (985, 1) (52, 99, 1) (52, 1)\n"
     ]
    }
   ],
   "source": [
    "print(X_train.shape,y_train.shape,X_test.shape,y_test.shape)"
   ]
  },
  {
   "cell_type": "code",
   "execution_count": 18,
   "metadata": {},
   "outputs": [],
   "source": [
    "from tensorflow import keras\n",
    "from tensorflow.keras.layers import Bidirectional, Dropout, Activation, Dense, LSTM\n",
    "from tensorflow.python.keras.layers import CuDNNLSTM\n",
    "from tensorflow.keras.models import Sequential\n",
    "DROPOUT = 0.2\n",
    "WINDOW_SIZE = SEQ_LEN - 1\n",
    "\n",
    "model = keras.Sequential()\n",
    "\n",
    "model.add(Bidirectional(\n",
    "  CuDNNLSTM(WINDOW_SIZE, return_sequences=True),\n",
    "  input_shape=(WINDOW_SIZE, X_train.shape[-1])\n",
    "))\n",
    "model.add(Dropout(rate=DROPOUT))\n",
    "\n",
    "model.add(Bidirectional(\n",
    "  CuDNNLSTM((WINDOW_SIZE * 2), return_sequences=True)\n",
    "))\n",
    "model.add(Dropout(rate=DROPOUT))\n",
    "\n",
    "model.add(Bidirectional(\n",
    "  CuDNNLSTM(WINDOW_SIZE, return_sequences=False)\n",
    "))\n",
    "\n",
    "model.add(Dense(units=1))\n",
    "\n",
    "model.add(Activation('linear'))"
   ]
  },
  {
   "cell_type": "code",
   "execution_count": 21,
   "metadata": {},
   "outputs": [
    {
     "output_type": "stream",
     "name": "stdout",
     "text": [
      "Epoch 1/50\n"
     ]
    },
    {
     "output_type": "error",
     "ename": "InvalidArgumentError",
     "evalue": "No OpKernel was registered to support Op 'CudnnRNNV2' used by {{node sequential_1/bidirectional/forward_cu_dnnlstm_1/CudnnRNNV2}} with these attrs: [seed=0, dropout=0, T=DT_FLOAT, input_mode=\"linear_input\", direction=\"unidirectional\", rnn_mode=\"lstm\", seed2=0, is_training=true]\nRegistered devices: [CPU]\nRegistered kernels:\n  device='GPU'; T in [DT_HALF]\n  device='GPU'; T in [DT_FLOAT]\n  device='GPU'; T in [DT_DOUBLE]\n\n\t [[sequential_1/bidirectional/forward_cu_dnnlstm_1/CudnnRNNV2]] [Op:__inference_train_function_10785]",
     "traceback": [
      "\u001b[1;31m---------------------------------------------------------------------------\u001b[0m",
      "\u001b[1;31mInvalidArgumentError\u001b[0m                      Traceback (most recent call last)",
      "\u001b[1;32m<ipython-input-21-44b47c5164ad>\u001b[0m in \u001b[0;36m<module>\u001b[1;34m\u001b[0m\n\u001b[0;32m     18\u001b[0m )\n\u001b[0;32m     19\u001b[0m \u001b[1;33m\u001b[0m\u001b[0m\n\u001b[1;32m---> 20\u001b[1;33m history = model.fit(\n\u001b[0m\u001b[0;32m     21\u001b[0m     \u001b[0mX_train\u001b[0m\u001b[1;33m,\u001b[0m\u001b[1;33m\u001b[0m\u001b[1;33m\u001b[0m\u001b[0m\n\u001b[0;32m     22\u001b[0m     \u001b[0my_train\u001b[0m\u001b[1;33m,\u001b[0m\u001b[1;33m\u001b[0m\u001b[1;33m\u001b[0m\u001b[0m\n",
      "\u001b[1;32mC:\\ProgramData\\Anaconda3\\lib\\site-packages\\tensorflow\\python\\keras\\engine\\training.py\u001b[0m in \u001b[0;36mfit\u001b[1;34m(self, x, y, batch_size, epochs, verbose, callbacks, validation_split, validation_data, shuffle, class_weight, sample_weight, initial_epoch, steps_per_epoch, validation_steps, validation_batch_size, validation_freq, max_queue_size, workers, use_multiprocessing)\u001b[0m\n\u001b[0;32m   1181\u001b[0m                 _r=1):\n\u001b[0;32m   1182\u001b[0m               \u001b[0mcallbacks\u001b[0m\u001b[1;33m.\u001b[0m\u001b[0mon_train_batch_begin\u001b[0m\u001b[1;33m(\u001b[0m\u001b[0mstep\u001b[0m\u001b[1;33m)\u001b[0m\u001b[1;33m\u001b[0m\u001b[1;33m\u001b[0m\u001b[0m\n\u001b[1;32m-> 1183\u001b[1;33m               \u001b[0mtmp_logs\u001b[0m \u001b[1;33m=\u001b[0m \u001b[0mself\u001b[0m\u001b[1;33m.\u001b[0m\u001b[0mtrain_function\u001b[0m\u001b[1;33m(\u001b[0m\u001b[0miterator\u001b[0m\u001b[1;33m)\u001b[0m\u001b[1;33m\u001b[0m\u001b[1;33m\u001b[0m\u001b[0m\n\u001b[0m\u001b[0;32m   1184\u001b[0m               \u001b[1;32mif\u001b[0m \u001b[0mdata_handler\u001b[0m\u001b[1;33m.\u001b[0m\u001b[0mshould_sync\u001b[0m\u001b[1;33m:\u001b[0m\u001b[1;33m\u001b[0m\u001b[1;33m\u001b[0m\u001b[0m\n\u001b[0;32m   1185\u001b[0m                 \u001b[0mcontext\u001b[0m\u001b[1;33m.\u001b[0m\u001b[0masync_wait\u001b[0m\u001b[1;33m(\u001b[0m\u001b[1;33m)\u001b[0m\u001b[1;33m\u001b[0m\u001b[1;33m\u001b[0m\u001b[0m\n",
      "\u001b[1;32mC:\\ProgramData\\Anaconda3\\lib\\site-packages\\tensorflow\\python\\eager\\def_function.py\u001b[0m in \u001b[0;36m__call__\u001b[1;34m(self, *args, **kwds)\u001b[0m\n\u001b[0;32m    887\u001b[0m \u001b[1;33m\u001b[0m\u001b[0m\n\u001b[0;32m    888\u001b[0m       \u001b[1;32mwith\u001b[0m \u001b[0mOptionalXlaContext\u001b[0m\u001b[1;33m(\u001b[0m\u001b[0mself\u001b[0m\u001b[1;33m.\u001b[0m\u001b[0m_jit_compile\u001b[0m\u001b[1;33m)\u001b[0m\u001b[1;33m:\u001b[0m\u001b[1;33m\u001b[0m\u001b[1;33m\u001b[0m\u001b[0m\n\u001b[1;32m--> 889\u001b[1;33m         \u001b[0mresult\u001b[0m \u001b[1;33m=\u001b[0m \u001b[0mself\u001b[0m\u001b[1;33m.\u001b[0m\u001b[0m_call\u001b[0m\u001b[1;33m(\u001b[0m\u001b[1;33m*\u001b[0m\u001b[0margs\u001b[0m\u001b[1;33m,\u001b[0m \u001b[1;33m**\u001b[0m\u001b[0mkwds\u001b[0m\u001b[1;33m)\u001b[0m\u001b[1;33m\u001b[0m\u001b[1;33m\u001b[0m\u001b[0m\n\u001b[0m\u001b[0;32m    890\u001b[0m \u001b[1;33m\u001b[0m\u001b[0m\n\u001b[0;32m    891\u001b[0m       \u001b[0mnew_tracing_count\u001b[0m \u001b[1;33m=\u001b[0m \u001b[0mself\u001b[0m\u001b[1;33m.\u001b[0m\u001b[0mexperimental_get_tracing_count\u001b[0m\u001b[1;33m(\u001b[0m\u001b[1;33m)\u001b[0m\u001b[1;33m\u001b[0m\u001b[1;33m\u001b[0m\u001b[0m\n",
      "\u001b[1;32mC:\\ProgramData\\Anaconda3\\lib\\site-packages\\tensorflow\\python\\eager\\def_function.py\u001b[0m in \u001b[0;36m_call\u001b[1;34m(self, *args, **kwds)\u001b[0m\n\u001b[0;32m    948\u001b[0m         \u001b[1;31m# Lifting succeeded, so variables are initialized and we can run the\u001b[0m\u001b[1;33m\u001b[0m\u001b[1;33m\u001b[0m\u001b[1;33m\u001b[0m\u001b[0m\n\u001b[0;32m    949\u001b[0m         \u001b[1;31m# stateless function.\u001b[0m\u001b[1;33m\u001b[0m\u001b[1;33m\u001b[0m\u001b[1;33m\u001b[0m\u001b[0m\n\u001b[1;32m--> 950\u001b[1;33m         \u001b[1;32mreturn\u001b[0m \u001b[0mself\u001b[0m\u001b[1;33m.\u001b[0m\u001b[0m_stateless_fn\u001b[0m\u001b[1;33m(\u001b[0m\u001b[1;33m*\u001b[0m\u001b[0margs\u001b[0m\u001b[1;33m,\u001b[0m \u001b[1;33m**\u001b[0m\u001b[0mkwds\u001b[0m\u001b[1;33m)\u001b[0m\u001b[1;33m\u001b[0m\u001b[1;33m\u001b[0m\u001b[0m\n\u001b[0m\u001b[0;32m    951\u001b[0m     \u001b[1;32melse\u001b[0m\u001b[1;33m:\u001b[0m\u001b[1;33m\u001b[0m\u001b[1;33m\u001b[0m\u001b[0m\n\u001b[0;32m    952\u001b[0m       \u001b[0m_\u001b[0m\u001b[1;33m,\u001b[0m \u001b[0m_\u001b[0m\u001b[1;33m,\u001b[0m \u001b[0m_\u001b[0m\u001b[1;33m,\u001b[0m \u001b[0mfiltered_flat_args\u001b[0m \u001b[1;33m=\u001b[0m\u001b[0;31m \u001b[0m\u001b[0;31m\\\u001b[0m\u001b[1;33m\u001b[0m\u001b[1;33m\u001b[0m\u001b[0m\n",
      "\u001b[1;32mC:\\ProgramData\\Anaconda3\\lib\\site-packages\\tensorflow\\python\\eager\\function.py\u001b[0m in \u001b[0;36m__call__\u001b[1;34m(self, *args, **kwargs)\u001b[0m\n\u001b[0;32m   3021\u001b[0m       (graph_function,\n\u001b[0;32m   3022\u001b[0m        filtered_flat_args) = self._maybe_define_function(args, kwargs)\n\u001b[1;32m-> 3023\u001b[1;33m     return graph_function._call_flat(\n\u001b[0m\u001b[0;32m   3024\u001b[0m         filtered_flat_args, captured_inputs=graph_function.captured_inputs)  # pylint: disable=protected-access\n\u001b[0;32m   3025\u001b[0m \u001b[1;33m\u001b[0m\u001b[0m\n",
      "\u001b[1;32mC:\\ProgramData\\Anaconda3\\lib\\site-packages\\tensorflow\\python\\eager\\function.py\u001b[0m in \u001b[0;36m_call_flat\u001b[1;34m(self, args, captured_inputs, cancellation_manager)\u001b[0m\n\u001b[0;32m   1958\u001b[0m         and executing_eagerly):\n\u001b[0;32m   1959\u001b[0m       \u001b[1;31m# No tape is watching; skip to running the function.\u001b[0m\u001b[1;33m\u001b[0m\u001b[1;33m\u001b[0m\u001b[1;33m\u001b[0m\u001b[0m\n\u001b[1;32m-> 1960\u001b[1;33m       return self._build_call_outputs(self._inference_function.call(\n\u001b[0m\u001b[0;32m   1961\u001b[0m           ctx, args, cancellation_manager=cancellation_manager))\n\u001b[0;32m   1962\u001b[0m     forward_backward = self._select_forward_and_backward_functions(\n",
      "\u001b[1;32mC:\\ProgramData\\Anaconda3\\lib\\site-packages\\tensorflow\\python\\eager\\function.py\u001b[0m in \u001b[0;36mcall\u001b[1;34m(self, ctx, args, cancellation_manager)\u001b[0m\n\u001b[0;32m    589\u001b[0m       \u001b[1;32mwith\u001b[0m \u001b[0m_InterpolateFunctionError\u001b[0m\u001b[1;33m(\u001b[0m\u001b[0mself\u001b[0m\u001b[1;33m)\u001b[0m\u001b[1;33m:\u001b[0m\u001b[1;33m\u001b[0m\u001b[1;33m\u001b[0m\u001b[0m\n\u001b[0;32m    590\u001b[0m         \u001b[1;32mif\u001b[0m \u001b[0mcancellation_manager\u001b[0m \u001b[1;32mis\u001b[0m \u001b[1;32mNone\u001b[0m\u001b[1;33m:\u001b[0m\u001b[1;33m\u001b[0m\u001b[1;33m\u001b[0m\u001b[0m\n\u001b[1;32m--> 591\u001b[1;33m           outputs = execute.execute(\n\u001b[0m\u001b[0;32m    592\u001b[0m               \u001b[0mstr\u001b[0m\u001b[1;33m(\u001b[0m\u001b[0mself\u001b[0m\u001b[1;33m.\u001b[0m\u001b[0msignature\u001b[0m\u001b[1;33m.\u001b[0m\u001b[0mname\u001b[0m\u001b[1;33m)\u001b[0m\u001b[1;33m,\u001b[0m\u001b[1;33m\u001b[0m\u001b[1;33m\u001b[0m\u001b[0m\n\u001b[0;32m    593\u001b[0m               \u001b[0mnum_outputs\u001b[0m\u001b[1;33m=\u001b[0m\u001b[0mself\u001b[0m\u001b[1;33m.\u001b[0m\u001b[0m_num_outputs\u001b[0m\u001b[1;33m,\u001b[0m\u001b[1;33m\u001b[0m\u001b[1;33m\u001b[0m\u001b[0m\n",
      "\u001b[1;32mC:\\ProgramData\\Anaconda3\\lib\\site-packages\\tensorflow\\python\\eager\\execute.py\u001b[0m in \u001b[0;36mquick_execute\u001b[1;34m(op_name, num_outputs, inputs, attrs, ctx, name)\u001b[0m\n\u001b[0;32m     57\u001b[0m   \u001b[1;32mtry\u001b[0m\u001b[1;33m:\u001b[0m\u001b[1;33m\u001b[0m\u001b[1;33m\u001b[0m\u001b[0m\n\u001b[0;32m     58\u001b[0m     \u001b[0mctx\u001b[0m\u001b[1;33m.\u001b[0m\u001b[0mensure_initialized\u001b[0m\u001b[1;33m(\u001b[0m\u001b[1;33m)\u001b[0m\u001b[1;33m\u001b[0m\u001b[1;33m\u001b[0m\u001b[0m\n\u001b[1;32m---> 59\u001b[1;33m     tensors = pywrap_tfe.TFE_Py_Execute(ctx._handle, device_name, op_name,\n\u001b[0m\u001b[0;32m     60\u001b[0m                                         inputs, attrs, num_outputs)\n\u001b[0;32m     61\u001b[0m   \u001b[1;32mexcept\u001b[0m \u001b[0mcore\u001b[0m\u001b[1;33m.\u001b[0m\u001b[0m_NotOkStatusException\u001b[0m \u001b[1;32mas\u001b[0m \u001b[0me\u001b[0m\u001b[1;33m:\u001b[0m\u001b[1;33m\u001b[0m\u001b[1;33m\u001b[0m\u001b[0m\n",
      "\u001b[1;31mInvalidArgumentError\u001b[0m: No OpKernel was registered to support Op 'CudnnRNNV2' used by {{node sequential_1/bidirectional/forward_cu_dnnlstm_1/CudnnRNNV2}} with these attrs: [seed=0, dropout=0, T=DT_FLOAT, input_mode=\"linear_input\", direction=\"unidirectional\", rnn_mode=\"lstm\", seed2=0, is_training=true]\nRegistered devices: [CPU]\nRegistered kernels:\n  device='GPU'; T in [DT_HALF]\n  device='GPU'; T in [DT_FLOAT]\n  device='GPU'; T in [DT_DOUBLE]\n\n\t [[sequential_1/bidirectional/forward_cu_dnnlstm_1/CudnnRNNV2]] [Op:__inference_train_function_10785]"
     ]
    }
   ],
   "source": [
    "BATCH_SIZE = 64\n",
    "\n",
    "model.compile(\n",
    "    loss='mean_squared_error',\n",
    "    optimizer='adam'\n",
    ")\n",
    "\n",
    "history = model.fit(\n",
    "    X_train,\n",
    "    y_train,\n",
    "    epochs=50,\n",
    "    batch_size=BATCH_SIZE,\n",
    "    shuffle=False,\n",
    "    validation_split=0.1\n",
    ")"
   ]
  },
  {
   "cell_type": "code",
   "execution_count": null,
   "metadata": {},
   "outputs": [],
   "source": [
    "plt.plot(history.history['loss'])\n",
    "plt.plot(history.history['val_loss'])\n",
    "plt.title('model loss')\n",
    "plt.ylabel('loss')\n",
    "plt.xlabel('epoch')\n",
    "plt.legend(['train', 'test'], loc='upper left')\n",
    "plt.show()"
   ]
  },
  {
   "cell_type": "code",
   "execution_count": null,
   "metadata": {},
   "outputs": [],
   "source": [
    "y_hat = model.predict(X_test)\n",
    "\n",
    "y_test_inverse = scaler.inverse_transform(y_test)\n",
    "y_hat_inverse = scaler.inverse_transform(y_hat)\n",
    " \n",
    "plt.plot(y_test_inverse, label=\"Actual Price\", color='green')\n",
    "plt.plot(y_hat_inverse, label=\"Predicted Price\", color='red')\n",
    " \n",
    "plt.title('Bitcoin price prediction')\n",
    "plt.xlabel('Time [days]')\n",
    "plt.ylabel('Price')\n",
    "plt.legend(loc='best')\n",
    " \n",
    "plt.show();"
   ]
  },
  {
   "cell_type": "markdown",
   "metadata": {},
   "source": [
    "# For dataset 1 we see missing value count = 365 - 251 = 114 out of which 104 are Weekend days because in a year we have 52.1429 weeks multiplied by 2 gives us 104 days and ten extra days so we will use preprocessing on the data to fill the values for now we have added the missing values as 0 which means null values"
   ]
  },
  {
   "cell_type": "code",
   "execution_count": null,
   "metadata": {},
   "outputs": [],
   "source": [
    "date=dataset2['Date']\n",
    "data_copy2 = dataset2\n",
    "data_copy2['Day Name'] = data_copy2['Date']\n",
    "day_name= ['Monday', 'Tuesday', 'Wednesday', 'Thursday', 'Friday', 'Saturday','Sunday']\n",
    "for i in range(len(date)):\n",
    "    day = datetime.datetime.strptime(date[i], '%m/%d/%Y').weekday()\n",
    "    data_copy2['Day Name'][i]= day_name[day]\n",
    "data_copy2['Day Name']"
   ]
  },
  {
   "cell_type": "code",
   "execution_count": null,
   "metadata": {},
   "outputs": [],
   "source": [
    "data_copy2.drop('Day Name', inplace=True, axis=1)\n",
    "idx = pd.date_range('1/1/2019','12/31/2019')\n",
    "\n",
    "data_copy2.index = pd.DatetimeIndex(data_copy2['Date'])\n",
    "\n",
    "data_copy2 = data_copy2.reindex(idx, fill_value=np.nan,index=False)\n",
    "data_copy2['Date']=data_copy2.index"
   ]
  },
  {
   "cell_type": "markdown",
   "metadata": {},
   "source": [
    "# For 2019 dataset we see missing value count = 365 - 221 = 144 out of which 104 are Weekend days because in a year we have 52.1429 weeks multiplied by 2 gives us 104 days and 40 extra days so we will use preprocessing on the data to fill the values for now we have added the missing values as 0 which means null values"
   ]
  },
  {
   "cell_type": "code",
   "execution_count": null,
   "metadata": {},
   "outputs": [],
   "source": [
    "date=dataset3['Date']\n",
    "data_copy3 = dataset3\n",
    "data_copy3['Day Name'] = data_copy3['Date']\n",
    "day_name= ['Monday', 'Tuesday', 'Wednesday', 'Thursday', 'Friday', 'Saturday','Sunday']\n",
    "for i in range(len(date)):\n",
    "    day = datetime.datetime.strptime(date[i], '%m/%d/%Y').weekday()\n",
    "    data_copy3['Day Name'][i]= day_name[day]\n",
    "data_copy3['Day Name']"
   ]
  },
  {
   "cell_type": "code",
   "execution_count": null,
   "metadata": {},
   "outputs": [],
   "source": [
    "data_copy3.drop('Day Name', inplace=True, axis=1)\n",
    "idx = pd.date_range('1/1/2020','12/31/2020')\n",
    "\n",
    "data_copy3.index = pd.DatetimeIndex(data_copy3['Date'])\n",
    "\n",
    "data_copy3 = data_copy3.reindex(idx, fill_value=np.nan,index=False)\n",
    "data_copy3['Date']=data_copy3.index"
   ]
  },
  {
   "cell_type": "markdown",
   "metadata": {},
   "source": [
    "# For 2020 dataset we see missing value count = 365 - 175 = 190 out of which 104 are Weekend days because in a year we have 52.1429 weeks multiplied by 2 gives us 104 days and 86 extra days so we will use preprocessing on the data to fill the values for now we have added the missing values as 0 which means null values."
   ]
  },
  {
   "cell_type": "markdown",
   "metadata": {},
   "source": [
    "### In Time Series Datasets traditionally, researchers omit days where data includes crisis e.g. wars, conflicts and other impacts on the stocks and for that they drop the days including the values because it may affect the statistical signifcance of the datasets. According to me this the reason of the missing data and on Weekends this could be a normal practice as mostly on weekends there is no work going on so those dataset points are outside of Trading Hours."
   ]
  },
  {
   "cell_type": "markdown",
   "metadata": {},
   "source": [
    "# Pre Processing Techniques\n",
    "- Fill values with closest in time values for that if the last working day is Friday we will take the value of Friday and add it to the weekends\n",
    "- Normalise to the z-score so each row has mean=0 and sd=1, it allows us to understand the probability of a score occuring with normal distribution of the data\n",
    "- It helps compare values from two different normal distributions.\n",
    "- Missing Values according to Average of High and Low columns of the dataset"
   ]
  },
  {
   "cell_type": "markdown",
   "metadata": {},
   "source": [
    "# Filling Values with Closest In Time using Nearest Interpolation Method of Python"
   ]
  },
  {
   "cell_type": "code",
   "execution_count": null,
   "metadata": {},
   "outputs": [],
   "source": [
    "a=data_copy1\n",
    "b=data_copy2\n",
    "c=data_copy3\n",
    "a.interpolate(method='nearest', inplace=True,fill_value='extrapolate',  limit_direction='both')\n",
    "a"
   ]
  },
  {
   "cell_type": "markdown",
   "metadata": {},
   "source": [
    "# Creating the variable Average, between the low and the high price to plot the Average Stock Price of Apple"
   ]
  },
  {
   "cell_type": "code",
   "execution_count": null,
   "metadata": {},
   "outputs": [],
   "source": [
    "df1 = a\n",
    "df1['Average'] = (a['High'] + a['Low'])/2\n",
    "df1 = df1[['Average']]"
   ]
  },
  {
   "cell_type": "code",
   "execution_count": null,
   "metadata": {
    "scrolled": false
   },
   "outputs": [],
   "source": [
    "df1.plot(legend=True)\n",
    "plt.title('Apple stock price')\n",
    "plt.show() # Plotting Average Stock Price after Interpolation"
   ]
  },
  {
   "cell_type": "code",
   "execution_count": null,
   "metadata": {},
   "outputs": [],
   "source": [
    "b.interpolate(method='nearest',fill_value='extrapolate' ,inplace=True,limit_direction='both')\n",
    "b"
   ]
  },
  {
   "cell_type": "code",
   "execution_count": null,
   "metadata": {},
   "outputs": [],
   "source": [
    "df2 = b\n",
    "df2['Average'] = (b['High'] + b['Low'])/2\n",
    "df2 = df2[['Average']]"
   ]
  },
  {
   "cell_type": "code",
   "execution_count": null,
   "metadata": {},
   "outputs": [],
   "source": [
    "df2.plot(legend=True)\n",
    "plt.title('Apple stock price')\n",
    "plt.show() # Plotting Average Stock Price after Interpolation"
   ]
  },
  {
   "cell_type": "code",
   "execution_count": null,
   "metadata": {},
   "outputs": [],
   "source": [
    "c.interpolate(method='nearest',inplace=True,fill_value='extrapolate'   ,limit_direction='both')\n",
    "c"
   ]
  },
  {
   "cell_type": "code",
   "execution_count": null,
   "metadata": {},
   "outputs": [],
   "source": [
    "df3 = c\n",
    "df3['Average'] = (c['High'] + c['Low'])/2\n",
    "df3 = df3[['Average']]"
   ]
  },
  {
   "cell_type": "code",
   "execution_count": null,
   "metadata": {},
   "outputs": [],
   "source": [
    "df3.plot(legend=True)\n",
    "plt.title('Apple stock price')\n",
    "plt.show() # Plotting Average Stock Price after Interpolation"
   ]
  },
  {
   "cell_type": "markdown",
   "metadata": {},
   "source": [
    "# Filling Values with Z-Score Normalization using built in library zcore of Python and Plotting Average"
   ]
  },
  {
   "cell_type": "code",
   "execution_count": null,
   "metadata": {},
   "outputs": [],
   "source": [
    "d=data_copy1\n",
    "e=data_copy2\n",
    "f=data_copy3\n",
    "df4=d\n",
    "zetascore_table=zscore(df4.iloc[:,1:6],axis=1)"
   ]
  },
  {
   "cell_type": "code",
   "execution_count": null,
   "metadata": {},
   "outputs": [],
   "source": [
    "df4['Average'] = (df4['High'] + df4['Low'])/2\n",
    "df4 = df4[['Average']]\n",
    "df4.plot(legend=True)\n",
    "plt.title('Apple stock price')\n",
    "plt.show() # Plotting Average Stock Price after Interpolation"
   ]
  },
  {
   "cell_type": "code",
   "execution_count": null,
   "metadata": {},
   "outputs": [],
   "source": [
    "df5=e\n",
    "zetascore_table=zscore(df5.iloc[:,1:6],axis=1)\n",
    "df5['Average'] = (df5['High'] + df5['Low'])/2\n",
    "df5 = df5[['Average']]\n",
    "df5.plot(legend=True)\n",
    "plt.title('Apple stock price')\n",
    "plt.show() # Plotting Average Stock Price after Interpolation"
   ]
  },
  {
   "cell_type": "code",
   "execution_count": null,
   "metadata": {},
   "outputs": [],
   "source": [
    "df6=f\n",
    "zetascore_table=zscore(df6.iloc[:,1:6],axis=1)\n",
    "df6['Average'] = (df6['High'] + df6['Low'])/2\n",
    "df6 = df6[['Average']]\n",
    "df6.plot(legend=True)\n",
    "plt.title('Apple stock price')\n",
    "plt.show() # Plotting Average Stock Price after Interpolation"
   ]
  },
  {
   "cell_type": "markdown",
   "metadata": {},
   "source": [
    "# Filling Values with Mean Values and Imputing Null Values"
   ]
  },
  {
   "cell_type": "code",
   "execution_count": null,
   "metadata": {},
   "outputs": [],
   "source": [
    "g=data_copy1\n",
    "h=data_copy2\n",
    "i=data_copy3\n",
    "df7=g\n",
    "df7.fillna(df7.iloc[:,1:6].mean())\n",
    "df7['Average'] = (df7['High'] + df7['Low'])/2\n",
    "df7 = df7[['Average']]\n",
    "df7.plot(legend=True)\n",
    "plt.title('Apple stock price')\n",
    "plt.show() # Plotting Average Stock Price after Interpolation"
   ]
  },
  {
   "cell_type": "code",
   "execution_count": null,
   "metadata": {},
   "outputs": [],
   "source": [
    "df8=h\n",
    "df8.fillna(df8.iloc[:,1:6].mean())\n",
    "df8['Average'] = (df8['High'] + df8['Low'])/2\n",
    "df8 = df8[['Average']]\n",
    "df8.plot(legend=True)\n",
    "plt.title('Apple stock price')\n",
    "plt.show() # Plotting Average Stock Price after Interpolation"
   ]
  },
  {
   "cell_type": "code",
   "execution_count": null,
   "metadata": {},
   "outputs": [],
   "source": [
    "df9=i\n",
    "df9.fillna(df9.iloc[:,1:6].mean())\n",
    "df9['Average'] = (df9['High'] + df9['Low'])/2\n",
    "df9 = df9[['Average']]\n",
    "df9.plot(legend=True)\n",
    "plt.title('Apple stock price')\n",
    "plt.show() # Plotting Average Stock Price after Interpolation"
   ]
  },
  {
   "cell_type": "markdown",
   "metadata": {},
   "source": [
    "# 2. Segmentation"
   ]
  },
  {
   "cell_type": "markdown",
   "metadata": {},
   "source": [
    "## Bottom-up piecewise linear segmentation for the transformed and normalised log-return time series. For this we used three python files. Segment that has the implementation of bottom-up piecewise, fit that regression mse sum square error and interpolate methods and wrappers include the least square line fit function returns the parameters and error for a least squares line fit of one segment of a sequence"
   ]
  },
  {
   "cell_type": "code",
   "execution_count": null,
   "metadata": {},
   "outputs": [],
   "source": [
    "from matplotlib.pylab import gca, figure, plot, subplot, title, xlabel, ylabel, xlim,show\n",
    "from matplotlib.lines import Line2D\n",
    "import segment\n",
    "import fit\n",
    "\n",
    "def draw_plot(data,plot_title):\n",
    "    plot(range(len(data)),data,alpha=0.8,color='red')\n",
    "    title(plot_title)\n",
    "    xlabel(\"Samples\")\n",
    "    ylabel(\"Signal\")\n",
    "    xlim((0,len(data)-1))\n",
    "\n",
    "def draw_segments(segments):\n",
    "    ax = gca()\n",
    "    for segment in segments:\n",
    "        line = Line2D((segment[0],segment[2]),(segment[1],segment[3]))\n",
    "        ax.add_line(line)"
   ]
  },
  {
   "cell_type": "markdown",
   "metadata": {},
   "source": [
    "## Mean square errors tolerance levels: 1%"
   ]
  },
  {
   "cell_type": "code",
   "execution_count": null,
   "metadata": {},
   "outputs": [],
   "source": [
    "data = data_copy1['Average']\n",
    "\n",
    "max_error = 0.01\n",
    "\n",
    "#sliding window with regression\n",
    "figure()\n",
    "segments = segment.bottomupsegment(data, fit.regression, fit.sumsquared_error, max_error)\n",
    "draw_plot(data,\"Sliding window with regression\")\n",
    "draw_segments(segments)\n",
    "show()"
   ]
  },
  {
   "cell_type": "code",
   "execution_count": null,
   "metadata": {},
   "outputs": [],
   "source": [
    "data = data_copy2['Average']\n",
    "\n",
    "max_error = 0.01\n",
    "\n",
    "#sliding window with regression\n",
    "figure()\n",
    "segments = segment.bottomupsegment(data, fit.regression, fit.sumsquared_error, max_error )\n",
    "draw_plot(data,\"Sliding window with regression\")\n",
    "draw_segments(segments)\n",
    "show()"
   ]
  },
  {
   "cell_type": "code",
   "execution_count": null,
   "metadata": {},
   "outputs": [],
   "source": [
    "data = data_copy3['Average']\n",
    "\n",
    "max_error = 0.01\n",
    "\n",
    "#sliding window with regression\n",
    "figure()\n",
    "segments = segment.bottomupsegment(data, fit.regression, fit.sumsquared_error, max_error )\n",
    "draw_plot(data,\"Sliding window with regression\")\n",
    "draw_segments(segments)\n",
    "show()"
   ]
  },
  {
   "cell_type": "markdown",
   "metadata": {},
   "source": [
    "## Mean square errors tolerance levels: 5%"
   ]
  },
  {
   "cell_type": "code",
   "execution_count": null,
   "metadata": {},
   "outputs": [],
   "source": [
    "data = data_copy1['Average']\n",
    "\n",
    "max_error = 0.05\n",
    "\n",
    "#sliding window with regression\n",
    "figure()\n",
    "segments = segment.bottomupsegment(data, fit.regression, fit.sumsquared_error, max_error)\n",
    "draw_plot(data,\"Sliding window with regression\")\n",
    "draw_segments(segments)\n",
    "show()"
   ]
  },
  {
   "cell_type": "code",
   "execution_count": null,
   "metadata": {},
   "outputs": [],
   "source": [
    "data = data_copy2['Average']\n",
    "\n",
    "max_error = 0.05\n",
    "\n",
    "#sliding window with regression\n",
    "figure()\n",
    "segments = segment.bottomupsegment(data, fit.regression, fit.sumsquared_error, max_error )\n",
    "draw_plot(data,\"Sliding window with regression\")\n",
    "draw_segments(segments)\n",
    "show()"
   ]
  },
  {
   "cell_type": "code",
   "execution_count": null,
   "metadata": {},
   "outputs": [],
   "source": [
    "data = data_copy3['Average']\n",
    "\n",
    "max_error = 0.05\n",
    "\n",
    "#sliding window with regression\n",
    "figure()\n",
    "segments = segment.bottomupsegment(data, fit.regression, fit.sumsquared_error, max_error )\n",
    "draw_plot(data,\"Sliding window with regression\")\n",
    "draw_segments(segments)\n",
    "show()"
   ]
  },
  {
   "cell_type": "markdown",
   "metadata": {},
   "source": [
    "## Mean square errors tolerance levels: 10%"
   ]
  },
  {
   "cell_type": "code",
   "execution_count": null,
   "metadata": {},
   "outputs": [],
   "source": [
    "data = data_copy1['Average']\n",
    "\n",
    "max_error = 0.1\n",
    "\n",
    "#sliding window with regression\n",
    "figure()\n",
    "segments = segment.bottomupsegment(data, fit.regression, fit.sumsquared_error, max_error )\n",
    "draw_plot(data,\"Sliding window with regression\")\n",
    "draw_segments(segments)\n",
    "show()"
   ]
  },
  {
   "cell_type": "code",
   "execution_count": null,
   "metadata": {},
   "outputs": [],
   "source": [
    "data = data_copy2['Average']\n",
    "\n",
    "max_error = 0.1\n",
    "\n",
    "#sliding window with regression\n",
    "figure()\n",
    "segments = segment.bottomupsegment(data, fit.regression, fit.sumsquared_error, max_error )\n",
    "draw_plot(data,\"Sliding window with regression\")\n",
    "draw_segments(segments)\n",
    "show()"
   ]
  },
  {
   "cell_type": "code",
   "execution_count": null,
   "metadata": {},
   "outputs": [],
   "source": [
    "data = data_copy3['Average']\n",
    "\n",
    "max_error = 0.1\n",
    "\n",
    "#sliding window with regression\n",
    "figure()\n",
    "segments = segment.bottomupsegment(data, fit.regression, fit.sumsquared_error, max_error )\n",
    "draw_plot(data,\"Sliding window with regression\")\n",
    "draw_segments(segments)\n",
    "show()"
   ]
  },
  {
   "cell_type": "markdown",
   "metadata": {},
   "source": [
    "#### The segments are similar for the mean squared error tolerance level for each dataset but are different from each other"
   ]
  },
  {
   "cell_type": "markdown",
   "metadata": {},
   "source": [
    "# 3. Prediction"
   ]
  },
  {
   "cell_type": "markdown",
   "metadata": {},
   "source": [
    "# For Prediction"
   ]
  },
  {
   "cell_type": "markdown",
   "metadata": {},
   "source": [
    "# We transformed and normalised time series as a target 𝑔(𝑡) and other 2 as supporting data where we used 2018 2019 data as trainset and 2020 as test set and evaluated the error of the “next-day forecast” "
   ]
  },
  {
   "cell_type": "code",
   "execution_count": null,
   "metadata": {},
   "outputs": [],
   "source": [
    "trainset= pd.concat([a, b], axis=0)"
   ]
  },
  {
   "cell_type": "code",
   "execution_count": null,
   "metadata": {},
   "outputs": [],
   "source": [
    "trainset"
   ]
  },
  {
   "cell_type": "code",
   "execution_count": null,
   "metadata": {},
   "outputs": [],
   "source": [
    "testset=c"
   ]
  },
  {
   "cell_type": "code",
   "execution_count": null,
   "metadata": {},
   "outputs": [],
   "source": [
    "testset"
   ]
  },
  {
   "cell_type": "markdown",
   "metadata": {},
   "source": [
    "# We had to build ARIMA model for predicting forecast series\n",
    "# 1st step to make data stationary Steps to make our data stationary.\n",
    "# We use Dickey Fuller test to check the stationarity of the series."
   ]
  },
  {
   "cell_type": "markdown",
   "metadata": {},
   "source": [
    "### First step Dickey-Fuller test."
   ]
  },
  {
   "cell_type": "code",
   "execution_count": null,
   "metadata": {},
   "outputs": [],
   "source": [
    "def test_stationarity(timeseries):\n",
    " #Determing rolling statistics\n",
    " rolmean = timeseries.rolling(12).mean()\n",
    " rolstd = timeseries.rolling(12).std()\n",
    " #Plot rolling statistics:\n",
    " plt.plot(timeseries, color='blue',label='Original')\n",
    " plt.plot(rolmean, color='red', label='Rolling Mean')\n",
    " plt.plot(rolstd, color='black', label = 'Rolling Std')\n",
    " plt.legend(loc='best')\n",
    " plt.title('Rolling Mean and Standard Deviation')\n",
    " plt.show(block=False)\n",
    " \n",
    " print(\"Results of dickey fuller test\")\n",
    " adft = adfuller(timeseries,autolag='AIC')\n",
    " # output for dft will give us without defining what the values are.\n",
    " #hence we manually write what values does it explains using a for loop\n",
    " output = pd.Series(adft[0:4],index=['Test Statistics','p-value','No. of lags used','Number of observations used'])\n",
    " for key,values in adft[4].items():\n",
    "    output['critical value (%s)'%key] = values\n",
    " print(output)\n",
    "\n",
    " \n",
    "test_stationarity(trainset['Close'])"
   ]
  },
  {
   "cell_type": "markdown",
   "metadata": {},
   "source": [
    "### The statistics shows that the time series is non-stationary as Test Statistic > Critical value, the p-value is greater than 5%, and we can see an increasing trend in the data. So, firstly we will try to make the data stationary. For doing so, we need to remove the trend and seasonality from the data.\n"
   ]
  },
  {
   "cell_type": "markdown",
   "metadata": {},
   "source": [
    "#### Removing trend and seasonality to make data Stationary"
   ]
  },
  {
   "cell_type": "code",
   "execution_count": null,
   "metadata": {
    "scrolled": false
   },
   "outputs": [],
   "source": [
    "train_log = np.log(trainset['Close']) \n",
    "test_log = np.log(testset['Close'])\n",
    "moving_avg = train_log.rolling(24).mean() \n",
    "plt.plot(train_log) \n",
    "plt.plot(moving_avg, color = 'red') \n",
    "plt.show()"
   ]
  },
  {
   "cell_type": "code",
   "execution_count": null,
   "metadata": {},
   "outputs": [],
   "source": [
    "train_log_moving_avg_diff = train_log - moving_avg"
   ]
  },
  {
   "cell_type": "markdown",
   "metadata": {},
   "source": [
    "### Since we took the average of values, rolling mean is not defined for the first few values. So let’s drop those null values."
   ]
  },
  {
   "cell_type": "code",
   "execution_count": null,
   "metadata": {},
   "outputs": [],
   "source": [
    "train_log_moving_avg_diff.dropna(inplace = True),\n",
    "test_stationarity(train_log_moving_avg_diff)"
   ]
  },
  {
   "cell_type": "markdown",
   "metadata": {},
   "source": [
    "##### We can see that the Test Statistic is less than the Critical Value and the p-value is less than 5%.  So, we can be confident that the trend is almost removed. Let’s now stabilize the mean of the time series which is also a requirement for a stationary time series. Differencing can help to make the series stable and eliminate the trend.\n"
   ]
  },
  {
   "cell_type": "code",
   "execution_count": null,
   "metadata": {},
   "outputs": [],
   "source": [
    "train_log_diff = train_log - train_log.shift(1) \n",
    "test_stationarity(train_log_diff.dropna())"
   ]
  },
  {
   "cell_type": "markdown",
   "metadata": {},
   "source": [
    "Now we will decompose the time series into trend and seasonality and will\n",
    "get the residual which is the random variation in the series.\n",
    "Removing Seasonality\n",
    "By seasonality, we mean periodic fluctuations. A seasonal pattern exists \n",
    "when a series is influenced by seasonal factors (e.g., the quarter of the year, the month, or day of the week).\n",
    "We will use seasonal decompose to decompose the time series into trend, seasonality and residuals.\n",
    "We can see the trend, residuals and the seasonality clearly in the above graph. Seasonality shows a constant trend in counter.\n",
    "We use the code below to check the stationarity of residuals."
   ]
  },
  {
   "cell_type": "code",
   "execution_count": null,
   "metadata": {},
   "outputs": [],
   "source": [
    "decomposition = seasonal_decompose(pd.DataFrame(train_log).Close.values, freq = 24)\n",
    "\n",
    "trend = decomposition.trend\n",
    "seasonal = decomposition.seasonal\n",
    "residual = decomposition.resid"
   ]
  },
  {
   "cell_type": "code",
   "execution_count": null,
   "metadata": {},
   "outputs": [],
   "source": [
    "train_log_decompose = pd.DataFrame(residual) \n",
    "train_log_decompose['Date'] = train_log.index \n",
    "train_log_decompose.set_index('Date', inplace = True) \n",
    "train_log_decompose.dropna(inplace=True) \n",
    "test_stationarity(train_log_decompose[0])\n",
    "train_log_decompose = pd.DataFrame(residual) \n",
    "train_log_decompose['Date'] = train_log.index \n",
    "train_log_decompose.set_index('Date', inplace = True) \n",
    "train_log_decompose.dropna(inplace=True) \n",
    "test_stationarity(train_log_decompose[0])"
   ]
  },
  {
   "cell_type": "markdown",
   "metadata": {},
   "source": [
    "Fit Auto ARIMA: Fit the model on the univariate series.\n",
    "Predict values on validation set: Make predictions on the test set.\n",
    "Calculate RMSE: Check the performance of the model using the predicted values against the actual values."
   ]
  },
  {
   "cell_type": "code",
   "execution_count": null,
   "metadata": {},
   "outputs": [],
   "source": [
    "model = auto_arima(train_log, trace=True, error_action='ignore', suppress_warnings=True)\n",
    "model.fit(train_log)\n",
    "forecast = model.predict(n_periods=len(testset))\n",
    "forecast = pd.DataFrame(forecast,index = test_log.index,columns=['Prediction'])\n",
    "#plot the predictions for validation set\n",
    "plt.plot(train_log, label='Train')\n",
    "plt.plot(test_log, label='Test')\n",
    "plt.plot(forecast, label='Prediction')\n",
    "plt.title('APPLE Stock Price Prediction')\n",
    "plt.xlabel('Time')\n",
    "plt.ylabel('Actual Stock Price')\n",
    "plt.legend(loc='upper left', fontsize=8)\n",
    "plt.show()"
   ]
  },
  {
   "cell_type": "code",
   "execution_count": null,
   "metadata": {},
   "outputs": [],
   "source": [
    "rms = sqrt(mean_squared_error(test_log,forecast))\n",
    "print(\"RMSE: \", rms)"
   ]
  },
  {
   "cell_type": "markdown",
   "metadata": {},
   "source": [
    "# A RMSE of 0 indicates a perfect fit with no errors. The smaller the RMSE score the better the model. A RMSE score of 0.3119861247938011 indicates a good model and we have plotted it as well."
   ]
  },
  {
   "cell_type": "markdown",
   "metadata": {},
   "source": [
    "### Now completing the remaining parts similarly so the subpart number 1 is we used 2018 dataset as train set and 2019 as test set"
   ]
  },
  {
   "cell_type": "code",
   "execution_count": null,
   "metadata": {},
   "outputs": [],
   "source": [
    "trainset= a"
   ]
  },
  {
   "cell_type": "code",
   "execution_count": null,
   "metadata": {},
   "outputs": [],
   "source": [
    "trainset"
   ]
  },
  {
   "cell_type": "code",
   "execution_count": null,
   "metadata": {},
   "outputs": [],
   "source": [
    "testset=b"
   ]
  },
  {
   "cell_type": "code",
   "execution_count": null,
   "metadata": {},
   "outputs": [],
   "source": [
    "testset"
   ]
  },
  {
   "cell_type": "code",
   "execution_count": null,
   "metadata": {},
   "outputs": [],
   "source": [
    "def test_stationarity(timeseries):\n",
    " #Determing rolling statistics\n",
    " rolmean = timeseries.rolling(12).mean()\n",
    " rolstd = timeseries.rolling(12).std()\n",
    " #Plot rolling statistics:\n",
    " plt.plot(timeseries, color='blue',label='Original')\n",
    " plt.plot(rolmean, color='red', label='Rolling Mean')\n",
    " plt.plot(rolstd, color='black', label = 'Rolling Std')\n",
    " plt.legend(loc='best')\n",
    " plt.title('Rolling Mean and Standard Deviation')\n",
    " plt.show(block=False)\n",
    " \n",
    " print(\"Results of dickey fuller test\")\n",
    " adft = adfuller(timeseries,autolag='AIC')\n",
    " # output for dft will give us without defining what the values are.\n",
    " #hence we manually write what values does it explains using a for loop\n",
    " output = pd.Series(adft[0:4],index=['Test Statistics','p-value','No. of lags used','Number of observations used'])\n",
    " for key,values in adft[4].items():\n",
    "    output['critical value (%s)'%key] = values\n",
    " print(output)\n",
    "\n",
    " \n",
    "test_stationarity(trainset['Close'])"
   ]
  },
  {
   "cell_type": "code",
   "execution_count": null,
   "metadata": {},
   "outputs": [],
   "source": [
    "train_log = np.log(trainset['Close']) \n",
    "test_log = np.log(testset['Close'])\n",
    "moving_avg = train_log.rolling(24).mean() \n",
    "plt.plot(train_log) \n",
    "plt.plot(moving_avg, color = 'red') \n",
    "plt.show()"
   ]
  },
  {
   "cell_type": "code",
   "execution_count": null,
   "metadata": {},
   "outputs": [],
   "source": [
    "train_log_moving_avg_diff = train_log - moving_avg"
   ]
  },
  {
   "cell_type": "code",
   "execution_count": null,
   "metadata": {},
   "outputs": [],
   "source": [
    "train_log_moving_avg_diff.dropna(inplace = True),\n",
    "test_stationarity(train_log_moving_avg_diff)"
   ]
  },
  {
   "cell_type": "code",
   "execution_count": null,
   "metadata": {},
   "outputs": [],
   "source": [
    "train_log_diff = train_log - train_log.shift(1) \n",
    "test_stationarity(train_log_diff.dropna())"
   ]
  },
  {
   "cell_type": "code",
   "execution_count": null,
   "metadata": {},
   "outputs": [],
   "source": [
    "decomposition = seasonal_decompose(pd.DataFrame(train_log).Close.values, freq = 24)\n",
    "\n",
    "trend = decomposition.trend\n",
    "seasonal = decomposition.seasonal\n",
    "residual = decomposition.resid"
   ]
  },
  {
   "cell_type": "code",
   "execution_count": null,
   "metadata": {},
   "outputs": [],
   "source": [
    "train_log_decompose = pd.DataFrame(residual) \n",
    "train_log_decompose['Date'] = train_log.index \n",
    "train_log_decompose.set_index('Date', inplace = True) \n",
    "train_log_decompose.dropna(inplace=True) \n",
    "test_stationarity(train_log_decompose[0])\n",
    "train_log_decompose = pd.DataFrame(residual) \n",
    "train_log_decompose['Date'] = train_log.index \n",
    "train_log_decompose.set_index('Date', inplace = True) \n",
    "train_log_decompose.dropna(inplace=True) \n",
    "test_stationarity(train_log_decompose[0])"
   ]
  },
  {
   "cell_type": "code",
   "execution_count": null,
   "metadata": {},
   "outputs": [],
   "source": [
    "model = auto_arima(train_log, trace=True, error_action='ignore', suppress_warnings=True)\n",
    "model.fit(train_log)\n",
    "forecast = model.predict(n_periods=len(testset))\n",
    "forecast = pd.DataFrame(forecast,index = test_log.index,columns=['Prediction'])\n",
    "#plot the predictions for validation set\n",
    "plt.plot(train_log, label='Train')\n",
    "plt.plot(test_log, label='Test')\n",
    "plt.plot(forecast, label='Prediction')\n",
    "plt.title('APPLE Stock Price Prediction')\n",
    "plt.xlabel('Time')\n",
    "plt.ylabel('Actual Stock Price')\n",
    "plt.legend(loc='upper left', fontsize=8)\n",
    "plt.show()"
   ]
  },
  {
   "cell_type": "code",
   "execution_count": null,
   "metadata": {},
   "outputs": [],
   "source": [
    "rms = sqrt(mean_squared_error(test_log,forecast))\n",
    "print(\"RMSE: \", rms)"
   ]
  },
  {
   "cell_type": "markdown",
   "metadata": {},
   "source": [
    "## A RMSE score of 0.60 indicates not a good model. We can use other methods for time series forecasting and compare your results using accuracy metrics to pick the best model."
   ]
  },
  {
   "cell_type": "markdown",
   "metadata": {},
   "source": [
    "### Subtask two 2018 as train set and 2020 as test set this is the 2nd part of prediction "
   ]
  },
  {
   "cell_type": "code",
   "execution_count": null,
   "metadata": {},
   "outputs": [],
   "source": [
    "trainset"
   ]
  },
  {
   "cell_type": "code",
   "execution_count": null,
   "metadata": {},
   "outputs": [],
   "source": [
    "testset=c"
   ]
  },
  {
   "cell_type": "code",
   "execution_count": null,
   "metadata": {},
   "outputs": [],
   "source": [
    "testset"
   ]
  },
  {
   "cell_type": "code",
   "execution_count": null,
   "metadata": {},
   "outputs": [],
   "source": [
    "def test_stationarity(timeseries):\n",
    " #Determing rolling statistics\n",
    " rolmean = timeseries.rolling(12).mean()\n",
    " rolstd = timeseries.rolling(12).std()\n",
    " #Plot rolling statistics:\n",
    " plt.plot(timeseries, color='blue',label='Original')\n",
    " plt.plot(rolmean, color='red', label='Rolling Mean')\n",
    " plt.plot(rolstd, color='black', label = 'Rolling Std')\n",
    " plt.legend(loc='best')\n",
    " plt.title('Rolling Mean and Standard Deviation')\n",
    " plt.show(block=False)\n",
    " \n",
    " print(\"Results of dickey fuller test\")\n",
    " adft = adfuller(timeseries,autolag='AIC')\n",
    " # output for dft will give us without defining what the values are.\n",
    " #hence we manually write what values does it explains using a for loop\n",
    " output = pd.Series(adft[0:4],index=['Test Statistics','p-value','No. of lags used','Number of observations used'])\n",
    " for key,values in adft[4].items():\n",
    "    output['critical value (%s)'%key] = values\n",
    " print(output)\n",
    "\n",
    " \n",
    "test_stationarity(trainset['Close'])"
   ]
  },
  {
   "cell_type": "code",
   "execution_count": null,
   "metadata": {},
   "outputs": [],
   "source": [
    "train_log = np.log(trainset['Close']) \n",
    "test_log = np.log(testset['Close'])\n",
    "moving_avg = train_log.rolling(24).mean() \n",
    "plt.plot(train_log) \n",
    "plt.plot(moving_avg, color = 'red') \n",
    "plt.show()"
   ]
  },
  {
   "cell_type": "code",
   "execution_count": null,
   "metadata": {},
   "outputs": [],
   "source": [
    "train_log_moving_avg_diff.dropna(inplace = True),\n",
    "test_stationarity(train_log_moving_avg_diff)"
   ]
  },
  {
   "cell_type": "code",
   "execution_count": null,
   "metadata": {},
   "outputs": [],
   "source": [
    "train_log_diff = train_log - train_log.shift(1) \n",
    "test_stationarity(train_log_diff.dropna())"
   ]
  },
  {
   "cell_type": "code",
   "execution_count": null,
   "metadata": {},
   "outputs": [],
   "source": [
    "decomposition = seasonal_decompose(pd.DataFrame(train_log).Close.values, freq = 24)\n",
    "\n",
    "trend = decomposition.trend\n",
    "seasonal = decomposition.seasonal\n",
    "residual = decomposition.resid"
   ]
  },
  {
   "cell_type": "code",
   "execution_count": null,
   "metadata": {},
   "outputs": [],
   "source": [
    "train_log_decompose = pd.DataFrame(residual) \n",
    "train_log_decompose['Date'] = train_log.index \n",
    "train_log_decompose.set_index('Date', inplace = True) \n",
    "train_log_decompose.dropna(inplace=True) \n",
    "test_stationarity(train_log_decompose[0])\n",
    "train_log_decompose = pd.DataFrame(residual) \n",
    "train_log_decompose['Date'] = train_log.index \n",
    "train_log_decompose.set_index('Date', inplace = True) \n",
    "train_log_decompose.dropna(inplace=True) \n",
    "test_stationarity(train_log_decompose[0])"
   ]
  },
  {
   "cell_type": "code",
   "execution_count": null,
   "metadata": {},
   "outputs": [],
   "source": [
    "model = auto_arima(train_log, trace=True, error_action='ignore', suppress_warnings=True)\n",
    "model.fit(train_log)\n",
    "forecast = model.predict(n_periods=len(testset))\n",
    "forecast = pd.DataFrame(forecast,index = test_log.index,columns=['Prediction'])\n",
    "#plot the predictions for validation set\n",
    "plt.plot(train_log, label='Train')\n",
    "plt.plot(test_log, label='Test')\n",
    "plt.plot(forecast, label='Prediction')\n",
    "plt.title('APPLE Stock Price Prediction')\n",
    "plt.xlabel('Time')\n",
    "plt.ylabel('Actual Stock Price')\n",
    "plt.legend(loc='upper left', fontsize=8)\n",
    "plt.show()"
   ]
  },
  {
   "cell_type": "code",
   "execution_count": null,
   "metadata": {},
   "outputs": [],
   "source": [
    "rms = sqrt(mean_squared_error(test_log,forecast))\n",
    "print(\"RMSE: \", rms)"
   ]
  },
  {
   "cell_type": "markdown",
   "metadata": {},
   "source": [
    "0.58 is partially a normal model and we can use other methods for time series forecasting and compare our results using accuracy metrics to pick the best model."
   ]
  },
  {
   "cell_type": "markdown",
   "metadata": {},
   "source": [
    "# 4. Adaptive predictors."
   ]
  },
  {
   "cell_type": "markdown",
   "metadata": {},
   "source": [
    "### In the last part that is for the adaptive predictors we used the SARIMAX Model \"Seasonal Auto-Regressive Integrated Moving Average with eXogenous factors, or SARIMAX, is an extension of the ARIMA class of models. Intuitively, ARIMA models compose 2 parts: the autoregressive term (AR) and the moving-average term (MA). The former views the value at one time just as a weighted sum of past values.\" We used ARIMA model and for the data we got we splitted our data on delta= 5, 10 and 30 and created and predicted the adaptive predictors and we used 2020's dataset for this exercise."
   ]
  },
  {
   "cell_type": "markdown",
   "metadata": {},
   "source": [
    "### We had to build ARIMA model for predicting forecast series\n",
    "### 1st step to make data stationary Steps to make our data stationary.\n",
    "### We use Dickey Fuller test to check the stationarity of the series.\n",
    "### First step Dickey-Fuller test."
   ]
  },
  {
   "cell_type": "code",
   "execution_count": null,
   "metadata": {},
   "outputs": [],
   "source": [
    "def test_stationarity(timeseries):\n",
    " #Determing rolling statistics\n",
    " rolmean = timeseries.rolling(12).mean()\n",
    " rolstd = timeseries.rolling(12).std()\n",
    " #Plot rolling statistics:\n",
    " plt.plot(timeseries, color='blue',label='Original')\n",
    " plt.plot(rolmean, color='red', label='Rolling Mean')\n",
    " plt.plot(rolstd, color='black', label = 'Rolling Std')\n",
    " plt.legend(loc='best')\n",
    " plt.title('Rolling Mean and Standard Deviation')\n",
    " plt.show(block=False)\n",
    " \n",
    " print(\"Results of dickey fuller test\")\n",
    " adft = adfuller(timeseries,autolag='AIC')\n",
    " # output for adft will give us without defining what the values are.\n",
    " #hence we manually write what values does it explains using a for loop\n",
    " output = pd.Series(adft[0:4],index=['Test Statistics','p-value','No. of lags used','Number of observations used'])\n",
    " for key,values in adft[4].items():\n",
    "    output['critical value (%s)'%key] = values\n",
    " print(output)\n",
    "\n",
    " \n",
    "test_stationarity(c['Close'])"
   ]
  },
  {
   "cell_type": "markdown",
   "metadata": {},
   "source": [
    "### The statistics shows that the time series is non-stationary as Test Statistic > Critical value, the p-value is greater than 5%, and we can see an increasing trend in the data. So, firstly we will try to make the data stationary. For doing so, we need to remove the trend and seasonality from the data.¶\n",
    "### Removing trend and seasonality to make data Stationary"
   ]
  },
  {
   "cell_type": "code",
   "execution_count": null,
   "metadata": {},
   "outputs": [],
   "source": [
    "train_log = np.log(c['Close']) \n",
    "moving_avg = train_log.rolling(24).mean() \n",
    "plt.plot(train_log) \n",
    "plt.plot(moving_avg, color = 'red') \n",
    "plt.show()"
   ]
  },
  {
   "cell_type": "code",
   "execution_count": null,
   "metadata": {
    "scrolled": false
   },
   "outputs": [],
   "source": [
    "train_log_moving_avg_diff = train_log - moving_avg\n",
    "train_log_moving_avg_diff.dropna(inplace = True),\n",
    "test_stationarity(train_log_moving_avg_diff)"
   ]
  },
  {
   "cell_type": "markdown",
   "metadata": {},
   "source": [
    "### We can see that the Test Statistic is less than the Critical Value and the p-value is less than 5%. So, we can be confident that the trend is almost removed. Let’s now stabilize the mean of the time series which is also a requirement for a stationary time series. Differencing can help to make the series stable and eliminate the trend."
   ]
  },
  {
   "cell_type": "code",
   "execution_count": null,
   "metadata": {},
   "outputs": [],
   "source": [
    "train_log_diff = train_log - train_log.shift(5) #setting frame width delta=5 days\n",
    "test_stationarity(train_log_diff.dropna())"
   ]
  },
  {
   "cell_type": "code",
   "execution_count": null,
   "metadata": {},
   "outputs": [],
   "source": [
    "decomposition = seasonal_decompose(pd.DataFrame(train_log).Close.values, freq = 24)\n",
    "\n",
    "trend = decomposition.trend\n",
    "seasonal = decomposition.seasonal\n",
    "residual = decomposition.resid\n",
    "train_log_decompose = pd.DataFrame(residual) \n",
    "train_log_decompose['Date'] = train_log.index \n",
    "train_log_decompose.set_index('Date', inplace = True) \n",
    "train_log_decompose.dropna(inplace=True) \n",
    "test_stationarity(train_log_decompose[0])\n",
    "train_log_decompose = pd.DataFrame(residual) \n",
    "train_log_decompose['Date'] = train_log.index \n",
    "train_log_decompose.set_index('Date', inplace = True) \n",
    "train_log_decompose.dropna(inplace=True) \n",
    "test_stationarity(train_log_decompose[0])"
   ]
  },
  {
   "cell_type": "code",
   "execution_count": null,
   "metadata": {},
   "outputs": [],
   "source": [
    "model = auto_arima(train_log, trace=True, error_action='ignore', suppress_warnings=True)\n",
    "model.fit(train_log)\n",
    "forecast = model.predict(len(test_log))\n",
    "forecast = pd.DataFrame(forecast,index = test_log.index,columns=['Prediction'])\n",
    "#plot the predictions for validation set\n",
    "plt.plot(train_log, label='Train')\n",
    "plt.plot(test_log, label='Test')\n",
    "plt.plot(forecast, label='Prediction')\n",
    "plt.title('APPLE Stock Price Prediction')\n",
    "plt.xlabel('Time')\n",
    "plt.ylabel('Actual Stock Price')\n",
    "plt.legend(loc='upper left', fontsize=8)\n",
    "plt.show()"
   ]
  },
  {
   "cell_type": "code",
   "execution_count": null,
   "metadata": {},
   "outputs": [],
   "source": [
    "rms = sqrt(mean_squared_error(test_log,forecast))\n",
    "print(\"RMSE: \", rms)"
   ]
  },
  {
   "cell_type": "code",
   "execution_count": null,
   "metadata": {},
   "outputs": [],
   "source": [
    "train_log_diff = train_log - train_log.shift(10) #setting frame width delta=10 days\n",
    "test_stationarity(train_log_diff.dropna())"
   ]
  },
  {
   "cell_type": "markdown",
   "metadata": {},
   "source": [
    "### Now we will decompose the time series into trend and seasonality and will get the residual which is the random variation in the series. Removing Seasonality By seasonality, we mean periodic fluctuations. A seasonal pattern exists when a series is influenced by seasonal factors (e.g., the quarter of the year, the month, or day of the week). We will use seasonal decompose to decompose the time series into trend, seasonality and residuals. We can see the trend, residuals and the seasonality clearly in the above graph. Seasonality shows a constant trend in counter. We use the code below to check the stationarity of residuals."
   ]
  },
  {
   "cell_type": "code",
   "execution_count": null,
   "metadata": {},
   "outputs": [],
   "source": [
    "decomposition = seasonal_decompose(pd.DataFrame(train_log).Close.values, freq = 24)\n",
    "\n",
    "trend = decomposition.trend\n",
    "seasonal = decomposition.seasonal\n",
    "residual = decomposition.resid\n",
    "train_log_decompose = pd.DataFrame(residual) \n",
    "train_log_decompose['Date'] = train_log.index \n",
    "train_log_decompose.set_index('Date', inplace = True) \n",
    "train_log_decompose.dropna(inplace=True) \n",
    "test_stationarity(train_log_decompose[0])\n",
    "train_log_decompose = pd.DataFrame(residual) \n",
    "train_log_decompose['Date'] = train_log.index \n",
    "train_log_decompose.set_index('Date', inplace = True) \n",
    "train_log_decompose.dropna(inplace=True) \n",
    "test_stationarity(train_log_decompose[0])"
   ]
  },
  {
   "cell_type": "code",
   "execution_count": null,
   "metadata": {},
   "outputs": [],
   "source": [
    "model = auto_arima(train_log, trace=True, error_action='ignore', suppress_warnings=True)\n",
    "model.fit(train_log)\n",
    "forecast = model.predict(len(test_log))\n",
    "forecast = pd.DataFrame(forecast,index = test_log.index,columns=['Prediction'])\n",
    "#plot the predictions for validation set\n",
    "plt.plot(train_log, label='Train')\n",
    "plt.plot(test_log, label='Test')\n",
    "plt.plot(forecast, label='Prediction')\n",
    "plt.title('APPLE Stock Price Prediction')\n",
    "plt.xlabel('Time')\n",
    "plt.ylabel('Actual Stock Price')\n",
    "plt.legend(loc='upper left', fontsize=8)\n",
    "plt.show()\n",
    "\n",
    "rms = sqrt(mean_squared_error(test_log,forecast))\n",
    "print(\"RMSE: \", rms)"
   ]
  },
  {
   "cell_type": "code",
   "execution_count": null,
   "metadata": {
    "scrolled": false
   },
   "outputs": [],
   "source": [
    "train_log_diff = train_log - train_log.shift(30)  #setting frameset delta=30 days\n",
    "test_stationarity(train_log_diff.dropna())\n",
    "\n",
    "decomposition = seasonal_decompose(pd.DataFrame(train_log).Close.values, freq = 24)\n",
    "\n",
    "trend = decomposition.trend\n",
    "seasonal = decomposition.seasonal\n",
    "residual = decomposition.resid\n",
    "train_log_decompose = pd.DataFrame(residual) \n",
    "train_log_decompose['Date'] = train_log.index \n",
    "train_log_decompose.set_index('Date', inplace = True) \n",
    "train_log_decompose.dropna(inplace=True) \n",
    "test_stationarity(train_log_decompose[0])\n",
    "train_log_decompose = pd.DataFrame(residual) \n",
    "train_log_decompose['Date'] = train_log.index \n",
    "train_log_decompose.set_index('Date', inplace = True) \n",
    "train_log_decompose.dropna(inplace=True) \n",
    "test_stationarity(train_log_decompose[0])\n",
    "#Fit Auto ARIMA: Fit the model on the univariate series. Predict values on validation set: Make predictions on the test set. \n",
    "#Calculate RMSE: Check the performance of the model using the predicted values against the actual values.\n",
    "model = auto_arima(train_log, trace=True, error_action='ignore', suppress_warnings=True)\n",
    "model.fit(train_log)\n",
    "forecast = model.predict(len(test_log))\n",
    "forecast = pd.DataFrame(forecast,index = test_log.index,columns=['Prediction'])\n",
    "#plot the predictions for validation set\n",
    "plt.plot(train_log, label='Train')\n",
    "plt.plot(test_log, label='Test')\n",
    "plt.plot(forecast, label='Prediction')\n",
    "plt.title('APPLE Stock Price Prediction')\n",
    "plt.xlabel('Time')\n",
    "plt.ylabel('Actual Stock Price')\n",
    "plt.legend(loc='upper left', fontsize=8)\n",
    "plt.show()\n",
    "\n",
    "rms = sqrt(mean_squared_error(test_log,forecast))\n",
    "print(\"RMSE: \", rms)"
   ]
  },
  {
   "cell_type": "markdown",
   "metadata": {},
   "source": [
    "### A RMSE of 0 indicates a perfect fit with no errors. The smaller the RMSE score the better the model. A RMSE score of 0.31176350442708917 indicates a good model and we have plotted it as well."
   ]
  },
  {
   "cell_type": "code",
   "execution_count": null,
   "metadata": {},
   "outputs": [],
   "source": [
    "model=sm.tsa.statespace.SARIMAX(c['Close'],order=(1, 1, 1),seasonal_order=(1,1,1,12))\n",
    "results=model.fit()\n",
    "\n",
    "c['forecast']=results.predict(start=90,end=200,dynamic=True)\n",
    "c[['Close','forecast']].plot(figsize=(12,8))"
   ]
  },
  {
   "cell_type": "markdown",
   "metadata": {},
   "source": [
    "### For the mean square error we have good model with RMSE score just above 0.31 and when we are trying to predict/forecast value with SARIMAX it predicts our overall trend but was not able to adjust for the seasonality correctly for 2020's year dataset. We can measure this with other models like Prophet , LSTM and also this is corely dependent on the dataset as well "
   ]
  }
 ],
 "metadata": {
  "kernelspec": {
   "name": "python385jvsc74a57bd0b3ba2566441a7c06988d0923437866b63cedc61552a5af99d1f4fb67d367b25f",
   "display_name": "Python 3.8.5 64-bit ('base': conda)"
  },
  "language_info": {
   "codemirror_mode": {
    "name": "ipython",
    "version": 3
   },
   "file_extension": ".py",
   "mimetype": "text/x-python",
   "name": "python",
   "nbconvert_exporter": "python",
   "pygments_lexer": "ipython3",
   "version": "3.8.5"
  },
  "metadata": {
   "interpreter": {
    "hash": "674b0815e7da43171ce520e4e5ff0c56a6b019468bb884dba163b89fd5b305f6"
   }
  }
 },
 "nbformat": 4,
 "nbformat_minor": 4
}