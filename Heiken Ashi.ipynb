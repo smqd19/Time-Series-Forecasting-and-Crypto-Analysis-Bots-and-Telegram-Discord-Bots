{
 "cells": [
  {
   "cell_type": "code",
   "execution_count": 2,
   "id": "fef2d4af",
   "metadata": {},
   "outputs": [],
   "source": [
    "import os\n",
    "\n",
    "from binance.client import Client"
   ]
  },
  {
   "cell_type": "code",
   "execution_count": 1,
   "id": "b188e34f",
   "metadata": {},
   "outputs": [],
   "source": [
    "binance_api=\n",
    "\n",
    "binance_secret="
   ]
  },
  {
   "cell_type": "code",
   "execution_count": 3,
   "id": "a9b4d184",
   "metadata": {},
   "outputs": [],
   "source": [
    "client = Client(binance_api, binance_secret)"
   ]
  },
  {
   "cell_type": "code",
   "execution_count": 4,
   "id": "04cf01d9",
   "metadata": {},
   "outputs": [
    {
     "name": "stdout",
     "output_type": "stream",
     "text": [
      "{'asset': 'USDT', 'free': '350.26772107', 'locked': '0.00000000'}\n"
     ]
    }
   ],
   "source": [
    "print(client.get_asset_balance(asset='USDT'))"
   ]
  },
  {
   "cell_type": "code",
   "execution_count": 5,
   "id": "96fb64db",
   "metadata": {},
   "outputs": [
    {
     "name": "stdout",
     "output_type": "stream",
     "text": [
      "{'symbol': 'BETAUSDT', 'price': '3.21714000'}\n"
     ]
    }
   ],
   "source": [
    "# get latest price from Binance API\n",
    "coin_price = client.get_symbol_ticker(symbol=\"BETAUSDT\")\n",
    "# print full output (dictionary)\n",
    "print(coin_price)"
   ]
  },
  {
   "cell_type": "code",
   "execution_count": 33,
   "id": "e3b48ec9",
   "metadata": {},
   "outputs": [
    {
     "name": "stdout",
     "output_type": "stream",
     "text": [
      "3.21714000\n"
     ]
    }
   ],
   "source": [
    "print(coin_price[\"price\"])"
   ]
  },
  {
   "cell_type": "code",
   "execution_count": 8,
   "id": "5cc6dc38",
   "metadata": {},
   "outputs": [],
   "source": [
    "import pandas as pd\n",
    "# get timestamp of earliest date data is available\n",
    "timestamp = client._get_earliest_valid_timestamp('BETAUSDT', '30m')\n",
    "#timestamp = client._get_latest_valid_timestamp('MIRUSDT', '1m')\n",
    "#print(timestamp)\n",
    "timestamp =pd.to_datetime(timestamp/1000, unit='s')"
   ]
  },
  {
   "cell_type": "code",
   "execution_count": 24,
   "id": "ac9157cd",
   "metadata": {},
   "outputs": [],
   "source": [
    "# request historical candle (or klines) data\n",
    "bars = client.get_historical_klines('BETAUSDT', '5m',str(timestamp))"
   ]
  },
  {
   "cell_type": "code",
   "execution_count": 25,
   "id": "5005df56",
   "metadata": {},
   "outputs": [],
   "source": [
    "# delete unwanted data - just keep date, open, high, low, close\n",
    "for line in bars:\n",
    "    del line[5:]"
   ]
  },
  {
   "cell_type": "code",
   "execution_count": 26,
   "id": "f02adfb5",
   "metadata": {},
   "outputs": [
    {
     "name": "stdout",
     "output_type": "stream",
     "text": [
      "            date        open        high         low       close\n",
      "0  1633694400000  0.06001000  4.00000000  0.06001000  3.37548000\n",
      "1  1633694700000  3.37548000  3.37886000  3.01824000  3.33905000\n",
      "2  1633695000000  3.34244000  3.34586000  3.02395000  3.10163000\n",
      "3  1633695300000  3.10163000  3.11402000  2.59641000  2.68108000\n",
      "4  1633695600000  2.68108000  3.04027000  2.68049000  3.04026000\n"
     ]
    }
   ],
   "source": [
    "import pandas as pd\n",
    "df = pd.DataFrame(bars, columns=['date', 'open', 'high', 'low', 'close'])\n",
    "print(df.head())"
   ]
  },
  {
   "cell_type": "code",
   "execution_count": 27,
   "id": "5461e3d2",
   "metadata": {},
   "outputs": [],
   "source": [
    "import datetime\n",
    "\n",
    "df['date'] = pd.to_datetime(df['date']/1000, unit='s')\n",
    "df = df.sort_values('date')\n",
    "df['Entry'] = range(df.shape[0])\n",
    "df['open'] = df['open'].astype(float)\n",
    "df['high'] = df['high'].astype(float)\n",
    "df['low'] = df['low'].astype(float)\n",
    "df['close'] = df['close'].astype(float)\n",
    "df.set_index('date', inplace=True)\n",
    "df = df.loc[:,['Entry', 'open', 'high', 'low', 'close']]"
   ]
  },
  {
   "cell_type": "code",
   "execution_count": 28,
   "id": "2b9c7e1f",
   "metadata": {},
   "outputs": [
    {
     "data": {
      "text/html": [
       "<div>\n",
       "<style scoped>\n",
       "    .dataframe tbody tr th:only-of-type {\n",
       "        vertical-align: middle;\n",
       "    }\n",
       "\n",
       "    .dataframe tbody tr th {\n",
       "        vertical-align: top;\n",
       "    }\n",
       "\n",
       "    .dataframe thead th {\n",
       "        text-align: right;\n",
       "    }\n",
       "</style>\n",
       "<table border=\"1\" class=\"dataframe\">\n",
       "  <thead>\n",
       "    <tr style=\"text-align: right;\">\n",
       "      <th></th>\n",
       "      <th>Entry</th>\n",
       "      <th>open</th>\n",
       "      <th>high</th>\n",
       "      <th>low</th>\n",
       "      <th>close</th>\n",
       "    </tr>\n",
       "    <tr>\n",
       "      <th>date</th>\n",
       "      <th></th>\n",
       "      <th></th>\n",
       "      <th></th>\n",
       "      <th></th>\n",
       "      <th></th>\n",
       "    </tr>\n",
       "  </thead>\n",
       "  <tbody>\n",
       "    <tr>\n",
       "      <th>2021-10-08 12:00:00</th>\n",
       "      <td>0</td>\n",
       "      <td>0.06001</td>\n",
       "      <td>4.00000</td>\n",
       "      <td>0.06001</td>\n",
       "      <td>3.37548</td>\n",
       "    </tr>\n",
       "    <tr>\n",
       "      <th>2021-10-08 12:05:00</th>\n",
       "      <td>1</td>\n",
       "      <td>3.37548</td>\n",
       "      <td>3.37886</td>\n",
       "      <td>3.01824</td>\n",
       "      <td>3.33905</td>\n",
       "    </tr>\n",
       "    <tr>\n",
       "      <th>2021-10-08 12:10:00</th>\n",
       "      <td>2</td>\n",
       "      <td>3.34244</td>\n",
       "      <td>3.34586</td>\n",
       "      <td>3.02395</td>\n",
       "      <td>3.10163</td>\n",
       "    </tr>\n",
       "    <tr>\n",
       "      <th>2021-10-08 12:15:00</th>\n",
       "      <td>3</td>\n",
       "      <td>3.10163</td>\n",
       "      <td>3.11402</td>\n",
       "      <td>2.59641</td>\n",
       "      <td>2.68108</td>\n",
       "    </tr>\n",
       "    <tr>\n",
       "      <th>2021-10-08 12:20:00</th>\n",
       "      <td>4</td>\n",
       "      <td>2.68108</td>\n",
       "      <td>3.04027</td>\n",
       "      <td>2.68049</td>\n",
       "      <td>3.04026</td>\n",
       "    </tr>\n",
       "    <tr>\n",
       "      <th>2021-10-08 12:25:00</th>\n",
       "      <td>5</td>\n",
       "      <td>3.03506</td>\n",
       "      <td>3.19000</td>\n",
       "      <td>2.93805</td>\n",
       "      <td>3.05895</td>\n",
       "    </tr>\n",
       "    <tr>\n",
       "      <th>2021-10-08 12:30:00</th>\n",
       "      <td>6</td>\n",
       "      <td>3.06576</td>\n",
       "      <td>3.09000</td>\n",
       "      <td>2.81000</td>\n",
       "      <td>2.93800</td>\n",
       "    </tr>\n",
       "    <tr>\n",
       "      <th>2021-10-08 12:35:00</th>\n",
       "      <td>7</td>\n",
       "      <td>2.93805</td>\n",
       "      <td>3.05000</td>\n",
       "      <td>2.91059</td>\n",
       "      <td>3.00457</td>\n",
       "    </tr>\n",
       "    <tr>\n",
       "      <th>2021-10-08 12:40:00</th>\n",
       "      <td>8</td>\n",
       "      <td>3.00458</td>\n",
       "      <td>3.03001</td>\n",
       "      <td>2.92000</td>\n",
       "      <td>2.98730</td>\n",
       "    </tr>\n",
       "    <tr>\n",
       "      <th>2021-10-08 12:45:00</th>\n",
       "      <td>9</td>\n",
       "      <td>2.98730</td>\n",
       "      <td>2.99487</td>\n",
       "      <td>2.85010</td>\n",
       "      <td>2.93487</td>\n",
       "    </tr>\n",
       "    <tr>\n",
       "      <th>2021-10-08 12:50:00</th>\n",
       "      <td>10</td>\n",
       "      <td>2.93633</td>\n",
       "      <td>3.17432</td>\n",
       "      <td>2.93487</td>\n",
       "      <td>3.01316</td>\n",
       "    </tr>\n",
       "    <tr>\n",
       "      <th>2021-10-08 12:55:00</th>\n",
       "      <td>11</td>\n",
       "      <td>3.00313</td>\n",
       "      <td>3.04997</td>\n",
       "      <td>2.93510</td>\n",
       "      <td>2.94413</td>\n",
       "    </tr>\n",
       "    <tr>\n",
       "      <th>2021-10-08 13:00:00</th>\n",
       "      <td>12</td>\n",
       "      <td>2.93840</td>\n",
       "      <td>2.99980</td>\n",
       "      <td>2.90000</td>\n",
       "      <td>2.97808</td>\n",
       "    </tr>\n",
       "    <tr>\n",
       "      <th>2021-10-08 13:05:00</th>\n",
       "      <td>13</td>\n",
       "      <td>2.97927</td>\n",
       "      <td>3.02801</td>\n",
       "      <td>2.95001</td>\n",
       "      <td>3.02674</td>\n",
       "    </tr>\n",
       "    <tr>\n",
       "      <th>2021-10-08 13:10:00</th>\n",
       "      <td>14</td>\n",
       "      <td>3.02347</td>\n",
       "      <td>3.03000</td>\n",
       "      <td>2.99119</td>\n",
       "      <td>2.99928</td>\n",
       "    </tr>\n",
       "  </tbody>\n",
       "</table>\n",
       "</div>"
      ],
      "text/plain": [
       "                     Entry     open     high      low    close\n",
       "date                                                          \n",
       "2021-10-08 12:00:00      0  0.06001  4.00000  0.06001  3.37548\n",
       "2021-10-08 12:05:00      1  3.37548  3.37886  3.01824  3.33905\n",
       "2021-10-08 12:10:00      2  3.34244  3.34586  3.02395  3.10163\n",
       "2021-10-08 12:15:00      3  3.10163  3.11402  2.59641  2.68108\n",
       "2021-10-08 12:20:00      4  2.68108  3.04027  2.68049  3.04026\n",
       "2021-10-08 12:25:00      5  3.03506  3.19000  2.93805  3.05895\n",
       "2021-10-08 12:30:00      6  3.06576  3.09000  2.81000  2.93800\n",
       "2021-10-08 12:35:00      7  2.93805  3.05000  2.91059  3.00457\n",
       "2021-10-08 12:40:00      8  3.00458  3.03001  2.92000  2.98730\n",
       "2021-10-08 12:45:00      9  2.98730  2.99487  2.85010  2.93487\n",
       "2021-10-08 12:50:00     10  2.93633  3.17432  2.93487  3.01316\n",
       "2021-10-08 12:55:00     11  3.00313  3.04997  2.93510  2.94413\n",
       "2021-10-08 13:00:00     12  2.93840  2.99980  2.90000  2.97808\n",
       "2021-10-08 13:05:00     13  2.97927  3.02801  2.95001  3.02674\n",
       "2021-10-08 13:10:00     14  3.02347  3.03000  2.99119  2.99928"
      ]
     },
     "execution_count": 28,
     "metadata": {},
     "output_type": "execute_result"
    }
   ],
   "source": [
    "df"
   ]
  },
  {
   "cell_type": "code",
   "execution_count": 29,
   "id": "4bb243f1",
   "metadata": {},
   "outputs": [],
   "source": [
    "from mpl_finance import candlestick_ohlc\n",
    "def plot_chart(df):\n",
    "  fig, ax = plt.subplots()\n",
    "  candlestick_ohlc(ax,df.values,width=0.6, \\\n",
    "                   colorup='green', colordown='red', alpha=0.8) #Sell function at colordown\n",
    "  fig.tight_layout()"
   ]
  },
  {
   "cell_type": "code",
   "execution_count": 30,
   "id": "309b1f47",
   "metadata": {},
   "outputs": [
    {
     "data": {
      "image/png": "[encoded data removed]",
      "text/plain": [
       "<Figure size 864x504 with 1 Axes>"
      ]
     },
     "metadata": {
      "needs_background": "light"
     },
     "output_type": "display_data"
    }
   ],
   "source": [
    "import os\n",
    "from binance.client import Client\n",
    "import matplotlib.pyplot as plt\n",
    "plt.rcParams['figure.figsize'] = [12, 7]\n",
    "plt.rc('font', size=14)\n",
    "plot_chart(df)"
   ]
  },
  {
   "cell_type": "code",
   "execution_count": 31,
   "id": "38979133",
   "metadata": {},
   "outputs": [],
   "source": [
    "df_ha = df.copy()\n",
    "for i in range(df_ha.shape[0]):\n",
    "    if i > 0:\n",
    "        df_ha.loc[df_ha.index[i],'open'] = (df['open'][i-1] + df['close'][i-1])/2\n",
    "df_ha.loc[df_ha.index[i],'close'] = (df['open'][i] + df['close'][i] + df['low'][i] +  df['high'][i])/4\n",
    "df_ha = df_ha.iloc[1:,:]"
   ]
  },
  {
   "cell_type": "code",
   "execution_count": 32,
   "id": "715183ad",
   "metadata": {},
   "outputs": [
    {
     "data": {
      "image/png": "[encoded data removed]",
      "text/plain": [
       "<Figure size 864x504 with 1 Axes>"
      ]
     },
     "metadata": {
      "needs_background": "light"
     },
     "output_type": "display_data"
    }
   ],
   "source": [
    "plot_chart(df_ha)"
   ]
  },
  {
   "cell_type": "code",
   "execution_count": null,
   "id": "21cc9f0b",
   "metadata": {},
   "outputs": [],
   "source": [
    "\n",
    "prev_date=datetime.datetime.utcnow().date()-datetime.timedelta(days=1)\n",
    "df = pd.DataFrame(self.binance_client.futures_historical_klines(\n",
    "     symbol=self.symbol,\n",
    "     interval=interval,\n",
    "     start_str=str(prev_date)\n",
    "))\n",
    "df = df.iloc[:, :6]\n",
    "# ascribe names to columns\n",
    "df.columns = ['timestamp', 'open', 'high', 'low', 'close', 'volume']\n",
    "# convert timestamp to date format and ensure ohlcv are all numeric\n",
    "df['timestamp'] = pd.to_datetime(df['timestamp'], unit='ms')\n",
    "for col in df.columns[1:]:\n",
    "    df[col] = pd.to_numeric(df[col])\n",
    "\n",
    "df_ha=heikinashi.HeikinAshi(japanese_data=df)\n",
    "return df_ha"
   ]
  }
 ],
 "metadata": {
  "kernelspec": {
   "display_name": "Python 3",
   "language": "python",
   "name": "python3"
  },
  "language_info": {
   "codemirror_mode": {
    "name": "ipython",
    "version": 3
   },
   "file_extension": ".py",
   "mimetype": "text/x-python",
   "name": "python",
   "nbconvert_exporter": "python",
   "pygments_lexer": "ipython3",
   "version": "3.8.8"
  }
 },
 "nbformat": 4,
 "nbformat_minor": 5
}
