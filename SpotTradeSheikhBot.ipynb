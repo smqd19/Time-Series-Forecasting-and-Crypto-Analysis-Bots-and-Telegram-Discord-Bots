{
  "nbformat": 4,
  "nbformat_minor": 0,
  "metadata": {
    "kernelspec": {
      "display_name": "Python 3",
      "language": "python",
      "name": "python3"
    },
    "language_info": {
      "codemirror_mode": {
        "name": "ipython",
        "version": 3
      },
      "file_extension": ".py",
      "mimetype": "text/x-python",
      "name": "python",
      "nbconvert_exporter": "python",
      "pygments_lexer": "ipython3",
      "version": "3.7.3"
    },
    "colab": {
      "name": "SpotTradeSheikhBot.ipynb",
      "provenance": [],
      "collapsed_sections": []
    }
  },
  "cells": [
    {
      "cell_type": "code",
      "metadata": {
        "id": "FIVST1CTaa_i"
      },
      "source": [
        "import os\n",
        "import pandas as pd\n",
        "#from binance.client import Client\n",
        "import math\n",
        "#from pyalgotrading.utils.candlesticks import heikinashi\n",
        "from IPython.display import clear_output\n",
        "import time\n",
        "import sys\n",
        "import datetime"
      ],
      "execution_count": 8,
      "outputs": []
    },
    {
      "cell_type": "code",
      "metadata": {
        "id": "99wiOXBfaa_n"
      },
      "source": [
        "class TradeBot:\n",
        "    def __init__(self,user_key,secret_key,symbol):\n",
        "        self.user_key=user_key\n",
        "        self.secret_key=secret_key\n",
        "        self.binance_client=Client(user_key, secret_key)\n",
        "        self.symbol=symbol\n",
        "\n",
        "    def UP_BUY(self,Quantity):\n",
        "        self.binance_client.create_order(\n",
        "        symbol=self.symbol,\n",
        "        type='MARKET',\n",
        "        side='BUY',\n",
        "        quantity=Quantity\n",
        "        )\n",
        "    def UP_SELL(self,Quantity):\n",
        "        self.binance_client.create_order(\n",
        "        symbol=self.symbol,\n",
        "        type='MARKET',\n",
        "        side='SELL',\n",
        "        quantity=Quantity\n",
        "        )\n",
        "    def CurrentCoinPrice(self):\n",
        "        return float(self.binance_client.get_symbol_ticker(symbol=self.symbol)['price'])\n",
        "        \n",
        "    def Quantity(self):\n",
        "        account_balance=float(self.binance_client.get_asset_balance(asset='USDT')['free'])\n",
        "        coin_price=float(self.binance_client.get_symbol_ticker(symbol=self.symbol)['price'])\n",
        "        quantity_to_be_purchased=math.floor(account_balance/coin_price)\n",
        "        \n",
        "        return quantity_to_be_purchased,coin_price\n",
        "\n",
        "    def compute_HA(self,interval):\n",
        "        prev_date=datetime.datetime.utcnow().date()-datetime.timedelta(days=1)\n",
        "        df=pd.DataFrame(self.binance_client.get_historical_klines(self.symbol, interval,str(prev_date)))\n",
        "        df = df.iloc[:, :6]\n",
        "        # ascribe names to columns\n",
        "        df.columns = ['timestamp', 'open', 'high', 'low', 'close', 'volume']\n",
        "        # convert timestamp to date format and ensure ohlcv are all numeric\n",
        "        df['timestamp'] = pd.to_datetime(df['timestamp'], unit='ms')\n",
        "        for col in df.columns[1:]:\n",
        "            df[col] = pd.to_numeric(df[col])\n",
        "        df_ha=heikinashi.HeikinAshi(japanese_data=df)\n",
        "        return df_ha\n",
        "    def isUP(self,interval='1h'):\n",
        "        df=self.compute_HA(interval)\n",
        "        open_price=df.iloc[-1]['open']\n",
        "        close_price=df.iloc[-1]['close']\n",
        "        if close_price>=open_price:\n",
        "            return True\n",
        "        return False\n",
        "    \n",
        "    def CandleStickMean(self,interval='15m'):\n",
        "        df=self.compute_HA(interval)\n",
        "        df['CandleLength']=df['close']-df['open']\n",
        "        positive=df[df['CandleLength']>=0]\n",
        "        negative=df[df['CandleLength']<0]\n",
        "        pos=positive['CandleLength'].mean()\n",
        "        neg=-negative['CandleLength'].mean()\n",
        "        return pos,neg\n",
        "    \n",
        "    def CurrentCandleStick(self,interval='15m'):\n",
        "        df=self.compute_HA(interval)\n",
        "        open_price=df.iloc[-1]['open']\n",
        "        close_price=df.iloc[-1]['close']\n",
        "        difference=close_price-open_price\n",
        "        if difference<0:\n",
        "            difference=-difference\n",
        "        return difference\n",
        "    \n",
        "    def DownOrUp(self,interval='15m'):\n",
        "        df=self.compute_HA(interval)\n",
        "        open_price=df.iloc[-1]['open']\n",
        "        close_price=df.iloc[-1]['close']\n",
        "        return open_price ,close_price\n",
        "    \n",
        "    def ShiekhBot(self):\n",
        "        while(1):\n",
        "            open_price,close_price=self.DownOrUp()\n",
        "            if self.isUP('15m'):\n",
        "                pos,neg=self.CandleStickMean()\n",
        "                pos=pos/5\n",
        "                if self.CurrentCandleStick()>pos:\n",
        "                    order_quantity,coin_price=self.Quantity()\n",
        "                    self.UP_BUY(order_quantity)\n",
        "                    while(1):\n",
        "                        if self.isUP('15m'):\n",
        "                            print(\"Bought\")\n",
        "                            clear_output(wait=True)\n",
        "                        else:\n",
        "                            print(\"Sold\")\n",
        "                            clear_output(wait=True)\n",
        "                else:\n",
        "                    print(\"Consolidating\")\n",
        "                    clear_output(wait=True)\n",
        "            else:\n",
        "                print(\"DownState\")\n",
        "                clear_output(wait=True)\n",
        "                \n",
        "\n",
        "    def RunBot(self):\n",
        "        while(1):\n",
        "            open_price,close_price=self.DownOrUp()\n",
        "            if ((open_price<close_price) & ((self.isUP()==self.isUP('15m')) & (self.isUP()==self.isUP('1m'))) ):\n",
        "                pos,neg=self.CandleStickMean()\n",
        "                pos1m,neg1m=self.CandleStickMean('1m')\n",
        "                \n",
        "                if (self.CurrentCandleStick()>pos) &(self.CurrentCandleStick('1m')>pos1m):\n",
        "                    order_quantity,coin_price=self.Quantity()\n",
        "                    self.UP_BUY(order_quantity)\n",
        "                    while(1):\n",
        "                        if ((open_price<close_price) & ((self.isUP()==self.isUP('15m')) & (self.isUP()==self.isUP('1m'))) ) :\n",
        "                            currentcoinprice=self.CurrentCoinPrice()\n",
        "                            if currentcoinprice>=coin_price:\n",
        "                                profit=(currentcoinprice*order_quantity)-(coin_price*order_quantity)\n",
        "                                print('Profit = ',profit)\n",
        "                            else:\n",
        "                                loss=(currentcoinprice*order_quantity)-(coin_price*order_quantity)\n",
        "                                print('Loss = ',loss)\n",
        "                            clear_output(wait=True)\n",
        "                        else:\n",
        "                            self.UP_SELL(order_quantity)\n",
        "                            break\n",
        "                else:\n",
        "                    print('Consolidating')\n",
        "                    clear_output(wait=True)\n",
        "            elif ((open_price>close_price) & ((self.isUP()==self.isUP('15m')) & (self.isUP()==self.isUP('1m')))):\n",
        "                pos,neg=self.CandleStickMean()\n",
        "                pos1m,neg1m=self.CandleStickMean('1m')\n",
        "                \n",
        "                if (self.CurrentCandleStick()>neg) & (self.CurrentCandleStick('1m')>neg1m):\n",
        "                    order_quantity,coin_price=self.Quantity()\n",
        "                    self.DOWN_BUY(order_quantity)\n",
        "                    while(1):\n",
        "                        if ((open_price>close_price) & ((self.isUP()==self.isUP('15m')) & (self.isUP()==self.isUP('1m')))):\n",
        "                            currentcoinprice=self.CurrentCoinPrice()\n",
        "                            if currentcoinprice<=coin_price:\n",
        "                                profit=(coin_price*order_quantity)-(currentcoinprice*order_quantity)\n",
        "                                print('Profit = ',profit)\n",
        "                            else:\n",
        "                                loss=(coin_price*order_quantity)-(currentcoinprice*order_quantity)\n",
        "                                print('Loss = ',loss)\n",
        "                            clear_output(wait=True)\n",
        "                        else:\n",
        "                            self.DOWN_SELL(order_quantity)\n",
        "                            break\n",
        "                else:\n",
        "                    print('Consolidating')\n",
        "                    clear_output(wait=True)\n",
        "                    \n",
        "            else:\n",
        "                print('Consolidating')\n",
        "                clear_output(wait=True)\n",
        "                \n",
        "\n"
      ],
      "execution_count": null,
      "outputs": []
    },
    {
      "cell_type": "code",
      "metadata": {
        "id": "tyA1Vdneaa_r"
      },
      "source": [
        "symbol='BETAUSDT'\n",
        "user_key= 1# Enter you user key \n",
        "\n",
        "secret_key=1 #Enter Secret Key"
      ],
      "execution_count": null,
      "outputs": []
    },
    {
      "cell_type": "code",
      "metadata": {
        "id": "01hYvPbxaa_t"
      },
      "source": [
        "TB=TradeBot(user_key,secret_key,symbol)"
      ],
      "execution_count": null,
      "outputs": []
    },
    {
      "cell_type": "code",
      "metadata": {
        "id": "TVAdViLOaa_t",
        "outputId": "febbd474-8004-4b5d-d518-2b2b3a090267"
      },
      "source": [
        "TB.ShiekhBot()"
      ],
      "execution_count": null,
      "outputs": [
        {
          "name": "stdout",
          "output_type": "stream",
          "text": [
            "Consolidating\n"
          ]
        }
      ]
    },
    {
      "cell_type": "code",
      "metadata": {
        "scrolled": true,
        "id": "DKZd4F-1aa_u",
        "outputId": "7c264837-7a3a-4f5d-adc8-e8f6043a0bf3"
      },
      "source": [
        "TB.Quantity()"
      ],
      "execution_count": null,
      "outputs": [
        {
          "data": {
            "text/plain": [
              "(0, 3.8696)"
            ]
          },
          "execution_count": 29,
          "metadata": {},
          "output_type": "execute_result"
        }
      ]
    }
  ]
}