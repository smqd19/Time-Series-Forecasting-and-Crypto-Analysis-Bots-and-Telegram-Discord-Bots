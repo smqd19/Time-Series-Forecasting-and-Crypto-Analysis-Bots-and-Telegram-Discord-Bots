{
 "cells": [
  {
   "cell_type": "code",
   "execution_count": 1,
   "id": "757ee2cf",
   "metadata": {},
   "outputs": [],
   "source": [
    "from telethon.sync import TelegramClient\n",
    "from telethon.tl.functions.messages import GetDialogsRequest\n",
    "from telethon.tl.types import InputPeerEmpty, InputPeerChannel, InputPeerUser\n",
    "from telethon.errors.rpcerrorlist import PeerFloodError, UserPrivacyRestrictedError\n",
    "from telethon.tl.functions.channels import InviteToChannelRequest\n",
    "import sys\n",
    "import csv\n",
    "import traceback\n",
    "import time\n",
    "import random\n",
    "import datetime\n",
    "import time\n",
    "import asyncio\n",
    "import telethon\n",
    "from telethon.sessions import StringSession\n",
    "from telethon.sync import TelegramClient, events\n",
    "import nest_asyncio as nta\n",
    "from os import system\n",
    "import random\n",
    "import os\n",
    "import pandas as pd"
   ]
  },
  {
   "cell_type": "code",
   "execution_count": 2,
   "id": "884c8cea",
   "metadata": {},
   "outputs": [],
   "source": [
    "apis = list()"
   ]
  },
  {
   "cell_type": "code",
   "execution_count": 3,
   "id": "79f96d5d",
   "metadata": {},
   "outputs": [],
   "source": [
    "client1 = TelegramClient('+923054129775', 12234459, '55e3da6f149bf094b5949b458eb4483c')\n",
    "await client1.connect()"
   ]
  },
  {
   "cell_type": "code",
   "execution_count": 4,
   "id": "2a05a94d",
   "metadata": {},
   "outputs": [
    {
     "name": "stdout",
     "output_type": "stream",
     "text": [
      "Please enter your phone (or bot token): +923054129775\n",
      "Please enter the code you received: 41814\n",
      "Signed in successfully as Sheikh Muhammad Qasim\n"
     ]
    }
   ],
   "source": [
    "#Qasim\n",
    "api_id1 = 12234459\n",
    "api_hash1 = '55e3da6f149bf094b5949b458eb4483c'\n",
    "phone1 = '+923054129775'\n",
    "string_session=''\n",
    "async with TelegramClient(StringSession(), api_id1, api_hash1) as client1:\n",
    "    string_session=client1.session.save()\n",
    "    apis.append([api_id1,api_hash1,phone1,string_session])"
   ]
  },
  {
   "cell_type": "code",
   "execution_count": 5,
   "id": "fca34665",
   "metadata": {},
   "outputs": [
    {
     "name": "stdout",
     "output_type": "stream",
     "text": [
      "Please enter your phone (or bot token): +923051193900\n",
      "Please enter the code you received: 27325\n",
      "Signed in successfully as Qasim Sheikh\n"
     ]
    }
   ],
   "source": [
    "#MyJazzNumber\n",
    "api_id2 = 11193976\n",
    "api_hash2 = 'eb4e970ebaab983e9028fd0eb976cf65'\n",
    "phone2 = '+923051193900'\n",
    "string_session=''\n",
    "async with TelegramClient(StringSession(), api_id2, api_hash2) as client2:\n",
    "    string_session=client2.session.save()\n",
    "    apis.append([api_id2,api_hash2,phone2,string_session])"
   ]
  },
  {
   "cell_type": "code",
   "execution_count": 6,
   "id": "06aaa449",
   "metadata": {},
   "outputs": [
    {
     "name": "stdout",
     "output_type": "stream",
     "text": [
      "Please enter your phone (or bot token): +923354887361\n",
      "Please enter the code you received: 25357\n",
      "Signed in successfully as Degen Trade Helper\n"
     ]
    }
   ],
   "source": [
    "#UfoneNumberFadiBhai\n",
    "api_id3 = 17185732\n",
    "api_hash3 = 'c04784edd8365d21a45e4790d3a6a8f2'\n",
    "phone3 = '+923354887361'\n",
    "string_session=''\n",
    "async with TelegramClient(StringSession(), api_id3, api_hash3) as client3:\n",
    "    string_session=client3.session.save()\n",
    "    apis.append([api_id3,api_hash3,phone3,string_session])"
   ]
  },
  {
   "cell_type": "code",
   "execution_count": 8,
   "id": "dfc217fe",
   "metadata": {},
   "outputs": [
    {
     "name": "stdout",
     "output_type": "stream",
     "text": [
      "Please enter your phone (or bot token): +923334454010\n",
      "Please enter the code you received: 63503\n",
      "Signed in successfully as Afifa Shaikh\n"
     ]
    }
   ],
   "source": [
    "#Nanna\n",
    "api_id4 = 12482314\n",
    "api_hash4 = '5ce14b20db65a8b5ab6b9df22e54f21e'\n",
    "phone4 = '+923334454010'\n",
    "string_session=''\n",
    "async with TelegramClient(StringSession(), api_id4, api_hash4) as client4:\n",
    "    string_session=client4.session.save()\n",
    "    apis.append([api_id4,api_hash4,phone4,string_session])"
   ]
  },
  {
   "cell_type": "code",
   "execution_count": 9,
   "id": "fe9c857e",
   "metadata": {},
   "outputs": [
    {
     "name": "stdout",
     "output_type": "stream",
     "text": [
      "Please enter your phone (or bot token): +923244727765\n",
      "Please enter the code you received: 21031\n",
      "Signed in successfully as Tamseela Dawood\n"
     ]
    }
   ],
   "source": [
    "#Mom\n",
    "api_id5 = 11568994\n",
    "api_hash5 = '70b00b5f0ac8fb32fa9c9076be7d5ced'\n",
    "phone5 = '+923244727765'\n",
    "string_session=''\n",
    "async with TelegramClient(StringSession(), api_id5, api_hash5) as client5:\n",
    "    string_session=client5.session.save()\n",
    "    apis.append([api_id5,api_hash5,phone5,string_session])"
   ]
  },
  {
   "cell_type": "code",
   "execution_count": 10,
   "id": "7c3d6037",
   "metadata": {},
   "outputs": [
    {
     "name": "stdout",
     "output_type": "stream",
     "text": [
      "Please enter your phone (or bot token): +923248443576\n",
      "Please enter the code you received: 81403\n",
      "Signed in successfully as Rehan Malik\n"
     ]
    }
   ],
   "source": [
    "#Rehan Malik 1\n",
    "api_id6 = 13488635\n",
    "api_hash6 = 'c7de1f05de911f86f20a4bc4ed0b1fd9'\n",
    "phone6 = '+923248443576'\n",
    "string_session=''\n",
    "async with TelegramClient(StringSession(), api_id6, api_hash6) as client6:\n",
    "    string_session=client6.session.save()\n",
    "    apis.append([api_id6,api_hash6,phone6,string_session])"
   ]
  },
  {
   "cell_type": "code",
   "execution_count": 11,
   "id": "8df883c1",
   "metadata": {},
   "outputs": [
    {
     "name": "stdout",
     "output_type": "stream",
     "text": [
      "Please enter your phone (or bot token): +923064604589\n",
      "Please enter the code you received: 91001\n",
      "Signed in successfully as Rehan Malik\n"
     ]
    }
   ],
   "source": [
    "#Rehan Malik 2\n",
    "api_id7 = 11222160\n",
    "api_hash7 = 'e7cea589feeebe381f6d1edacdeddc7a'\n",
    "phone7 = '+923064604589'\n",
    "string_session=''\n",
    "async with TelegramClient(StringSession(), api_id7, api_hash7) as client7:\n",
    "    string_session=client7.session.save()\n",
    "    apis.append([api_id7,api_hash7,phone7,string_session])"
   ]
  },
  {
   "cell_type": "code",
   "execution_count": 12,
   "id": "a69af4d9",
   "metadata": {},
   "outputs": [
    {
     "name": "stdout",
     "output_type": "stream",
     "text": [
      "Please enter your phone (or bot token): +923214778907\n",
      "Please enter the code you received: 54527\n",
      "Please enter your password: ········\n",
      "Signed in successfully as Saad Mir\n"
     ]
    }
   ],
   "source": [
    "##Saad Mir\n",
    "api_id8 = 18941092\n",
    "api_hash8 = 'd0a18fa6f72bf5ce724765ff2efaf8d3'\n",
    "phone8 = '+923214778907'\n",
    "string_session=''\n",
    "async with TelegramClient(StringSession(), api_id8, api_hash8) as client8:\n",
    "    string_session=client8.session.save()\n",
    "    apis.append([api_id8,api_hash8,phone8,string_session])"
   ]
  },
  {
   "cell_type": "code",
   "execution_count": 13,
   "id": "5599ccce",
   "metadata": {},
   "outputs": [
    {
     "name": "stdout",
     "output_type": "stream",
     "text": [
      "Please enter your phone (or bot token): +923241445069\n",
      "Please enter the code you received: 75379\n",
      "Signed in successfully as Hunter Mind\n"
     ]
    }
   ],
   "source": [
    "#Saad Mir 2\n",
    "api_id9 = 19353011\n",
    "api_hash9 = 'f4317b278f57d9ade86beeb04a756fc2'\n",
    "phone9 = '+923241445069'\n",
    "string_session=''\n",
    "async with TelegramClient(StringSession(), api_id9, api_hash9) as client9:\n",
    "    string_session=client9.session.save()\n",
    "    apis.append([api_id9,api_hash9,phone9,string_session])"
   ]
  },
  {
   "cell_type": "code",
   "execution_count": 14,
   "id": "25f193ee",
   "metadata": {},
   "outputs": [
    {
     "name": "stdout",
     "output_type": "stream",
     "text": [
      "Please enter your phone (or bot token): +923004279085\n",
      "Please enter the code you received: 63098\n",
      "Signed in successfully as Dawood Sheikh\n"
     ]
    }
   ],
   "source": [
    "#Dad\n",
    "api_id10 = 9698509\n",
    "api_hash10 = '1b87426580520a3b21073b52ba91c916'\n",
    "phone10 = '+923004279085'\n",
    "string_session=''\n",
    "async with TelegramClient(StringSession(), api_id10, api_hash10) as client10:\n",
    "    string_session=client10.session.save()\n",
    "    apis.append([api_id10,api_hash10,phone10,string_session])"
   ]
  },
  {
   "cell_type": "code",
   "execution_count": 15,
   "id": "6d2ea50d",
   "metadata": {},
   "outputs": [
    {
     "name": "stdout",
     "output_type": "stream",
     "text": [
      "Please enter your phone (or bot token): +923215154360\n",
      "Please enter the code you received: 27317\n",
      "Signed in successfully as Shumaila Shumaila\n"
     ]
    }
   ],
   "source": [
    "#Bhabi\n",
    "api_id11 = 12936152\n",
    "api_hash11 = 'fdb9f06dfa4f3e1890bcef78455bf8b0'\n",
    "phone11 = '+923215154360'\n",
    "string_session=''\n",
    "async with TelegramClient(StringSession(), api_id11, api_hash11) as client11:\n",
    "    string_session=client11.session.save()\n",
    "    apis.append([api_id11,api_hash11,phone11,string_session])"
   ]
  },
  {
   "cell_type": "code",
   "execution_count": 123,
   "id": "5053beb9",
   "metadata": {},
   "outputs": [
    {
     "name": "stdout",
     "output_type": "stream",
     "text": [
      "Please enter your phone (or bot token): +923160495794\n",
      "Please enter the code you received: 35519\n",
      "Signed in successfully as Degen Trader\n"
     ]
    }
   ],
   "source": [
    "#ZongNumber\n",
    "api_id11 = 11844702\n",
    "api_hash11 = '5d524bf56c9c53476d2a56de283542f1'\n",
    "phone11 = '+923160495794'\n",
    "string_session=''\n",
    "async with TelegramClient(StringSession(), api_id11, api_hash11) as client11:\n",
    "    string_session=client11.session.save()\n",
    "    apis.append([api_id11,api_hash11,phone11,string_session])"
   ]
  },
  {
   "cell_type": "code",
   "execution_count": 121,
   "id": "85049f78",
   "metadata": {},
   "outputs": [
    {
     "name": "stdout",
     "output_type": "stream",
     "text": [
      "Please enter your phone (or bot token): +923154195171\n",
      "Please enter the code you received: 63572\n",
      "Signed in successfully as Junaid Ejaz\n"
     ]
    }
   ],
   "source": [
    "#Junaid\n",
    "api_id13 = 10026132\n",
    "api_hash13 = '01c503ac975d16c512a989897831c7d0'\n",
    "phone13 = '+923154195171'\n",
    "string_session=''\n",
    "async with TelegramClient(StringSession(), api_id13, api_hash13) as client13:\n",
    "    string_session=client13.session.save()\n",
    "    apis.append([api_id13,api_hash13,phone13,string_session])"
   ]
  },
  {
   "cell_type": "code",
   "execution_count": 19,
   "id": "cd749c11",
   "metadata": {},
   "outputs": [
    {
     "name": "stdout",
     "output_type": "stream",
     "text": [
      "Please enter your phone (or bot token): +966531009131\n",
      "Please enter the code you received: 30877\n",
      "Signed in successfully as No name\n"
     ]
    }
   ],
   "source": [
    "#FadiBhaiKSA\n",
    "api_id14 = 14492955\n",
    "api_hash14 = '4bc85d9b3f2431fcbb3026b0fbb56ff4'\n",
    "phone14 = '+966531009131'\n",
    "string_session=''\n",
    "async with TelegramClient(StringSession(), api_id14, api_hash14) as client14:\n",
    "    string_session=client14.session.save()\n",
    "    apis.append([api_id14,api_hash14,phone14,string_session])"
   ]
  },
  {
   "cell_type": "code",
   "execution_count": 20,
   "id": "035f19aa",
   "metadata": {},
   "outputs": [
    {
     "name": "stdout",
     "output_type": "stream",
     "text": [
      "Please enter your phone (or bot token): +923234605838\n",
      "Please enter the code you received: 26075\n",
      "Signed in successfully as Muhammad Aghnus Jamil\n"
     ]
    }
   ],
   "source": [
    "#Akhnus\n",
    "api_id15 = 8334330\n",
    "api_hash15 = '8c659b1ba125cca04156f1bc31449051'\n",
    "phone15 = '+923234605838'\n",
    "string_session=''\n",
    "async with TelegramClient(StringSession(), api_id15, api_hash15) as client15:\n",
    "    string_session=client15.session.save()\n",
    "    apis.append([api_id15,api_hash15,phone15,string_session])"
   ]
  },
  {
   "cell_type": "code",
   "execution_count": 157,
   "id": "16224595",
   "metadata": {},
   "outputs": [],
   "source": [
    "a = list()"
   ]
  },
  {
   "cell_type": "code",
   "execution_count": 158,
   "id": "6499266f",
   "metadata": {},
   "outputs": [],
   "source": [
    "file1 = open('DegenProTraders2.txt', 'w')\n",
    "for i in range(len(apis)):\n",
    "    for j in range(4):\n",
    "        file1.writelines(str(apis[i][j]))\n",
    "        file1.writelines('\\n')\n",
    "file1.close()"
   ]
  },
  {
   "cell_type": "code",
   "execution_count": 159,
   "id": "1e3ec391",
   "metadata": {},
   "outputs": [
    {
     "data": {
      "text/html": [
       "<div>\n",
       "<style scoped>\n",
       "    .dataframe tbody tr th:only-of-type {\n",
       "        vertical-align: middle;\n",
       "    }\n",
       "\n",
       "    .dataframe tbody tr th {\n",
       "        vertical-align: top;\n",
       "    }\n",
       "\n",
       "    .dataframe thead th {\n",
       "        text-align: right;\n",
       "    }\n",
       "</style>\n",
       "<table border=\"1\" class=\"dataframe\">\n",
       "  <thead>\n",
       "    <tr style=\"text-align: right;\">\n",
       "      <th></th>\n",
       "      <th>Api_Id</th>\n",
       "      <th>Api_Hash</th>\n",
       "      <th>Number</th>\n",
       "      <th>Session_String</th>\n",
       "    </tr>\n",
       "  </thead>\n",
       "  <tbody>\n",
       "  </tbody>\n",
       "</table>\n",
       "</div>"
      ],
      "text/plain": [
       "Empty DataFrame\n",
       "Columns: [Api_Id, Api_Hash, Number, Session_String]\n",
       "Index: []"
      ]
     },
     "execution_count": 159,
     "metadata": {},
     "output_type": "execute_result"
    }
   ],
   "source": [
    "df = pd.DataFrame(columns = ['Api_Id','Api_Hash', 'Number','Session_String'])\n",
    "df"
   ]
  },
  {
   "cell_type": "code",
   "execution_count": 160,
   "id": "1e243aa7",
   "metadata": {},
   "outputs": [],
   "source": [
    "with open(\"DegenProTraders2.txt\", \"r\") as f:\n",
    "    while True:\n",
    "        file_eof = f.readline()\n",
    "        a.append(file_eof)\n",
    "        if file_eof == '':\n",
    "            break"
   ]
  },
  {
   "cell_type": "code",
   "execution_count": 161,
   "id": "3ccffb2d",
   "metadata": {},
   "outputs": [],
   "source": [
    "i = 0\n",
    "for j in a:\n",
    "    try:\n",
    "        df.loc[-1] = [int(a[i].strip()),a[i+1].strip(),a[i+2].strip(),a[i+3].strip()]\n",
    "        df.index = df.index + 1  # shifting index\n",
    "        df = df.sort_index()  # sorting by index\n",
    "        i = i+4\n",
    "    except:\n",
    "        break"
   ]
  },
  {
   "cell_type": "code",
   "execution_count": 162,
   "id": "908e2bb5",
   "metadata": {},
   "outputs": [
    {
     "data": {
      "text/html": [
       "<div>\n",
       "<style scoped>\n",
       "    .dataframe tbody tr th:only-of-type {\n",
       "        vertical-align: middle;\n",
       "    }\n",
       "\n",
       "    .dataframe tbody tr th {\n",
       "        vertical-align: top;\n",
       "    }\n",
       "\n",
       "    .dataframe thead th {\n",
       "        text-align: right;\n",
       "    }\n",
       "</style>\n",
       "<table border=\"1\" class=\"dataframe\">\n",
       "  <thead>\n",
       "    <tr style=\"text-align: right;\">\n",
       "      <th></th>\n",
       "      <th>Api_Id</th>\n",
       "      <th>Api_Hash</th>\n",
       "      <th>Number</th>\n",
       "      <th>Session_String</th>\n",
       "    </tr>\n",
       "  </thead>\n",
       "  <tbody>\n",
       "    <tr>\n",
       "      <th>10</th>\n",
       "      <td>11568994</td>\n",
       "      <td>70b00b5f0ac8fb32fa9c9076be7d5ced</td>\n",
       "      <td>+923244727765</td>\n",
       "      <td>1BJWap1sBu7qO3K4sQuKj7tgfsOisKNUu4-83jTCbGvk4Z...</td>\n",
       "    </tr>\n",
       "    <tr>\n",
       "      <th>11</th>\n",
       "      <td>12482314</td>\n",
       "      <td>5ce14b20db65a8b5ab6b9df22e54f21e</td>\n",
       "      <td>+923334454010</td>\n",
       "      <td>1BJWap1sBu0o_ImjpHAiooEI4TJ8oSneWajGNJyPlkSlgF...</td>\n",
       "    </tr>\n",
       "    <tr>\n",
       "      <th>12</th>\n",
       "      <td>17185732</td>\n",
       "      <td>c04784edd8365d21a45e4790d3a6a8f2</td>\n",
       "      <td>+923354887361</td>\n",
       "      <td>1BJWap1sBuyBWUuD8SMUrrnMZlt9jWi1V-PoHbZ_9KQB42...</td>\n",
       "    </tr>\n",
       "    <tr>\n",
       "      <th>13</th>\n",
       "      <td>11193976</td>\n",
       "      <td>eb4e970ebaab983e9028fd0eb976cf65</td>\n",
       "      <td>+923051193900</td>\n",
       "      <td>1BJWap1sBu0pUxytIYNl_ZLjc3-L-fBfRJLx_t1Wp7fF_3...</td>\n",
       "    </tr>\n",
       "    <tr>\n",
       "      <th>14</th>\n",
       "      <td>12234459</td>\n",
       "      <td>55e3da6f149bf094b5949b458eb4483c</td>\n",
       "      <td>+923054129775</td>\n",
       "      <td>1BJWap1sBux-c0XIEgWS6bwXMvRNzd6vr9TALPAgDuvJ_g...</td>\n",
       "    </tr>\n",
       "  </tbody>\n",
       "</table>\n",
       "</div>"
      ],
      "text/plain": [
       "      Api_Id                          Api_Hash         Number  \\\n",
       "10  11568994  70b00b5f0ac8fb32fa9c9076be7d5ced  +923244727765   \n",
       "11  12482314  5ce14b20db65a8b5ab6b9df22e54f21e  +923334454010   \n",
       "12  17185732  c04784edd8365d21a45e4790d3a6a8f2  +923354887361   \n",
       "13  11193976  eb4e970ebaab983e9028fd0eb976cf65  +923051193900   \n",
       "14  12234459  55e3da6f149bf094b5949b458eb4483c  +923054129775   \n",
       "\n",
       "                                       Session_String  \n",
       "10  1BJWap1sBu7qO3K4sQuKj7tgfsOisKNUu4-83jTCbGvk4Z...  \n",
       "11  1BJWap1sBu0o_ImjpHAiooEI4TJ8oSneWajGNJyPlkSlgF...  \n",
       "12  1BJWap1sBuyBWUuD8SMUrrnMZlt9jWi1V-PoHbZ_9KQB42...  \n",
       "13  1BJWap1sBu0pUxytIYNl_ZLjc3-L-fBfRJLx_t1Wp7fF_3...  \n",
       "14  1BJWap1sBux-c0XIEgWS6bwXMvRNzd6vr9TALPAgDuvJ_g...  "
      ]
     },
     "execution_count": 162,
     "metadata": {},
     "output_type": "execute_result"
    }
   ],
   "source": [
    "df.tail(5)"
   ]
  },
  {
   "cell_type": "code",
   "execution_count": null,
   "id": "adc440c7",
   "metadata": {},
   "outputs": [],
   "source": [
    "chats = []\n",
    "last_date = None\n",
    "chunk_size = 200\n",
    "groups=[]\n",
    " \n",
    "result = await client(GetDialogsRequest(\n",
    "             offset_date=last_date,\n",
    "             offset_id=0,\n",
    "             offset_peer=InputPeerEmpty(),\n",
    "             limit=chunk_size,\n",
    "             hash = 0\n",
    "         ))"
   ]
  },
  {
   "cell_type": "code",
   "execution_count": null,
   "id": "848c723a",
   "metadata": {},
   "outputs": [],
   "source": [
    "chats.extend(result.chats)"
   ]
  },
  {
   "cell_type": "code",
   "execution_count": null,
   "id": "c664535e",
   "metadata": {},
   "outputs": [],
   "source": [
    "for chat in chats:\n",
    "    try:\n",
    "        if chat.megagroup== True:\n",
    "            groups.append(chat)\n",
    "    except:\n",
    "        continue"
   ]
  },
  {
   "cell_type": "code",
   "execution_count": null,
   "id": "6d8d0465",
   "metadata": {},
   "outputs": [],
   "source": [
    "print('Choose a group to scrape members from:')\n",
    "i=0\n",
    "for g in groups:\n",
    "    print(str(i) + '- ' + g.title)\n",
    "    i+=1"
   ]
  },
  {
   "cell_type": "code",
   "execution_count": null,
   "id": "77ce70a2",
   "metadata": {},
   "outputs": [],
   "source": [
    "g_index = input(\"Enter a Number: \")\n",
    "target_group=groups[int(g_index)]\n",
    " \n",
    "print('Fetching Members...')\n",
    "all_participants = []\n",
    "all_participants = client.get_participants(target_group, aggressive=True)"
   ]
  },
  {
   "cell_type": "code",
   "execution_count": null,
   "id": "267da9f3",
   "metadata": {},
   "outputs": [],
   "source": [
    "print('Saving In file...')\n",
    "with open(\"members.csv\",\"w\",encoding='UTF-8') as f:\n",
    "    writer = csv.writer(f,delimiter=\",\",lineterminator=\"\\n\")\n",
    "    writer.writerow(['username','user id', 'access hash','name','group', 'group id'])\n",
    "    partic = await all_participants\n",
    "    for user in partic:\n",
    "        if user.username:\n",
    "            username= user.username\n",
    "        else:\n",
    "            username= \"\"\n",
    "        if user.first_name:\n",
    "            first_name= user.first_name\n",
    "        else:\n",
    "            first_name= \"\"\n",
    "        if user.last_name:\n",
    "            last_name= user.last_name\n",
    "        else:\n",
    "            last_name= \"\"\n",
    "        name= (first_name + ' ' + last_name).strip()\n",
    "        writer.writerow([username,user.id,user.access_hash,name,target_group.title, target_group.id])      \n",
    "print('Members scraped successfully.')"
   ]
  },
  {
   "cell_type": "code",
   "execution_count": null,
   "id": "f1084499",
   "metadata": {},
   "outputs": [],
   "source": [
    "input_file = 'members.csv'\n",
    "users = []\n",
    "with open(input_file, encoding='UTF-8') as f:\n",
    "    rows = csv.reader(f,delimiter=\",\",lineterminator=\"\\n\")\n",
    "    next(rows, None)\n",
    "    for row in rows:\n",
    "        user = {}\n",
    "        user['username'] = row[0]\n",
    "        user['id'] = int(row[1])\n",
    "        user['access_hash'] = int(row[2])\n",
    "        user['name'] = row[3]\n",
    "        users.append(user)"
   ]
  },
  {
   "cell_type": "code",
   "execution_count": null,
   "id": "f5dbabaa",
   "metadata": {},
   "outputs": [],
   "source": [
    "channel = 'https://t.me/membersadding007'"
   ]
  },
  {
   "cell_type": "code",
   "execution_count": null,
   "id": "3cc5185f",
   "metadata": {},
   "outputs": [],
   "source": [
    "nuser"
   ]
  },
  {
   "cell_type": "code",
   "execution_count": null,
   "id": "d731506c",
   "metadata": {},
   "outputs": [],
   "source": [
    "n=0\n",
    "mode=2\n",
    "for user in users:\n",
    "    n += 1\n",
    "    if n % 50 == 0:\n",
    "    \n",
    "        try:\n",
    "            print (\"Adding {}\".format(user['id']))\n",
    "            if mode == 1:\n",
    "                if user['username'] == \"\":\n",
    "                    continue\n",
    "                user_to_add = client.get_input_entity(user['username'])\n",
    "            elif mode == 2:\n",
    "                user_to_add = InputPeerUser(user['id'], user['access_hash'])\n",
    "            else:\n",
    "                sys.exit(\"Invalid Mode Selected. Please Try Again.\")\n",
    "            await client(InviteToChannelRequest(channel,[user_to_add]))\n",
    "            print(\"Waiting for 60-180 Seconds...\")\n",
    "            time.sleep(random.randrange(60, 180))\n",
    "        except PeerFloodError:\n",
    "            print(\"Getting Flood Error from telegram. Script is stopping now. Please try again after some time.\")\n",
    "        except UserPrivacyRestrictedError:\n",
    "            print(\"The user's privacy settings do not allow you to do this. Skipping.\")\n",
    "        except:\n",
    "            traceback.print_exc()\n",
    "            print(\"Unexpected Error\")\n",
    "            continue\n",
    "        time.sleep(900)"
   ]
  },
  {
   "cell_type": "code",
   "execution_count": null,
   "id": "8d299f3f",
   "metadata": {},
   "outputs": [],
   "source": [
    "users"
   ]
  },
  {
   "cell_type": "code",
   "execution_count": null,
   "id": "163c9167",
   "metadata": {},
   "outputs": [],
   "source": []
  },
  {
   "cell_type": "code",
   "execution_count": null,
   "id": "78f3c75b",
   "metadata": {
    "scrolled": true
   },
   "outputs": [],
   "source": [
    "await client(InviteToChannelRequest(channel,['ForwardOptimism']))"
   ]
  },
  {
   "cell_type": "code",
   "execution_count": null,
   "id": "c2394dae",
   "metadata": {},
   "outputs": [],
   "source": []
  },
  {
   "cell_type": "code",
   "execution_count": null,
   "id": "eefa6a8d",
   "metadata": {},
   "outputs": [],
   "source": []
  },
  {
   "cell_type": "code",
   "execution_count": null,
   "id": "f65ac294",
   "metadata": {},
   "outputs": [],
   "source": []
  },
  {
   "cell_type": "code",
   "execution_count": null,
   "id": "145d3de4",
   "metadata": {},
   "outputs": [],
   "source": []
  },
  {
   "cell_type": "code",
   "execution_count": null,
   "id": "666cf804",
   "metadata": {},
   "outputs": [],
   "source": []
  },
  {
   "cell_type": "code",
   "execution_count": null,
   "id": "fe6f3511",
   "metadata": {},
   "outputs": [],
   "source": [
    "from telethon.sync import TelegramClient\n",
    "from telethon.tl.functions.messages import GetDialogsRequest\n",
    "from telethon.tl.types import InputPeerEmpty, InputPeerChannel, InputPeerUser\n",
    "from telethon.errors.rpcerrorlist import PeerFloodError, UserPrivacyRestrictedError\n",
    "from telethon.tl.functions.channels import InviteToChannelRequest\n",
    "from telethon.sessions import StringSession\n",
    "\n",
    "import sys\n",
    "import csv\n",
    "import traceback\n",
    "import time\n",
    "import random"
   ]
  },
  {
   "cell_type": "code",
   "execution_count": null,
   "id": "e68ac85a",
   "metadata": {},
   "outputs": [],
   "source": [
    "id = 12234459\n",
    "hash = '55e3da6f149bf094b5949b458eb4483c'\n",
    "sessionstring=\"1AZWarzUBu3c6-VSh4eV_poctwSjHoJfPbc4h4el6XYx-01Lk697ZD6jBZgJkvNQvPmWSeG-Ph-3IupCvJXR_N3_0ODHYgZQNcy07SXH6AlQIXEkl6Z6-4TeHDBoNpaplPBCSzHlkjLoqYr_nK5HeEuwJG0ZZPjhovjq0S3IZW8mt1cPjbvqlLPM-uyd9puYdo5RHxS0CRgvxv8LYShDT2G9myRKYsjSJdknErQiEjDl1gqMu1rBCBgeN9XhBDB6eA7IECp1grPIyLiH7vjgXKZZ2UcK1Up9LWdHHuU5V6Zht54zYrN1VX8nLHQjrgg_Z5P7N9_hA5VxXWJHtUI7QBT37iFb5dl0=\"\n",
    "chatid = 'https://t.me/membersadding007'"
   ]
  },
  {
   "cell_type": "code",
   "execution_count": null,
   "id": "99a9656c",
   "metadata": {},
   "outputs": [],
   "source": [
    "input_file = 'members.csv'\n",
    "users = []\n",
    "with open(input_file, encoding='UTF-8') as f:\n",
    "    rows = csv.reader(f,delimiter=\",\",lineterminator=\"\\n\")\n",
    "    next(rows, None)\n",
    "    for row in rows:\n",
    "        user = {}\n",
    "        user['username'] = row[0]\n",
    "        user['id'] = int(row[1])\n",
    "        user['access_hash'] = int(row[2])\n",
    "        user['name'] = row[3]\n",
    "        users.append(user)"
   ]
  },
  {
   "cell_type": "code",
   "execution_count": null,
   "id": "bfa9ad16",
   "metadata": {},
   "outputs": [],
   "source": [
    "nuser=[]\n",
    "for user in users:\n",
    "    if user['username']!='':\n",
    "        nuser.append(user['username'])"
   ]
  },
  {
   "cell_type": "code",
   "execution_count": null,
   "id": "a5ce6c77",
   "metadata": {},
   "outputs": [],
   "source": [
    "def load_data():\n",
    "    users = open('users.txt', 'r')\n",
    "    Users = users.readlines()\n",
    "    userdata=[]\n",
    "    count=0\n",
    "    for user in Users:\n",
    "        if user[-1]=='\\n':\n",
    "            user=user[:-1]\n",
    "\n",
    "        if count%2==0:\n",
    "            pass\n",
    "        else:\n",
    "            userdata.append(user)\n",
    "        count=count+1\n",
    "    return userdata"
   ]
  },
  {
   "cell_type": "code",
   "execution_count": null,
   "id": "d5eea789",
   "metadata": {},
   "outputs": [],
   "source": [
    "userssessions=load_data()"
   ]
  },
  {
   "cell_type": "code",
   "execution_count": null,
   "id": "bcc6065e",
   "metadata": {},
   "outputs": [],
   "source": [
    "len(userssessions)"
   ]
  },
  {
   "cell_type": "code",
   "execution_count": null,
   "id": "03964a91",
   "metadata": {},
   "outputs": [],
   "source": [
    "async def add_user_to_chat(id,hash,sessionstring,chatid,uid):\n",
    "    async with TelegramClient(StringSession(sessionstring), id, hash) as client:\n",
    "        await client(InviteToChannelRequest(chatid,[uid]))"
   ]
  },
  {
   "cell_type": "code",
   "execution_count": null,
   "id": "d38b0ab6",
   "metadata": {},
   "outputs": [],
   "source": []
  },
  {
   "cell_type": "code",
   "execution_count": null,
   "id": "de72fda0",
   "metadata": {},
   "outputs": [],
   "source": []
  },
  {
   "cell_type": "code",
   "execution_count": null,
   "id": "2384013f",
   "metadata": {
    "scrolled": true
   },
   "outputs": [],
   "source": [
    "userssessions.pop(0)\n",
    "userssessions.pop(1)\n"
   ]
  },
  {
   "cell_type": "code",
   "execution_count": null,
   "id": "bd5b8efe",
   "metadata": {},
   "outputs": [],
   "source": [
    "len(userssessions)"
   ]
  },
  {
   "cell_type": "code",
   "execution_count": null,
   "id": "869c3926",
   "metadata": {},
   "outputs": [],
   "source": [
    "len(nuser)"
   ]
  },
  {
   "cell_type": "code",
   "execution_count": null,
   "id": "7e91bb39",
   "metadata": {
    "scrolled": false
   },
   "outputs": [],
   "source": [
    "count=0\n",
    "for sessionstring in userssessions:\n",
    "    while count<len(nuser):\n",
    "        try:\n",
    "            await add_user_to_chat(id,hash,sessionstring,chatid,nuser[count])\n",
    "            nuser.pop(count)\n",
    "            count=count+1\n",
    "            time.sleep(random.randint(1, 10))  \n",
    "            print(\"User Added\")\n",
    "        except PeerFloodError:\n",
    "            print('Peer Flood Error')\n",
    "            time.sleep(random.randint(1, 10))\n",
    "            break\n",
    "        except Exception as ex:\n",
    "            print(ex)\n",
    "            nuser.pop(count)\n",
    "            count=count+1\n",
    "            print(len(nuser))\n",
    "    "
   ]
  },
  {
   "cell_type": "code",
   "execution_count": null,
   "id": "173d48a5",
   "metadata": {},
   "outputs": [],
   "source": [
    "count"
   ]
  },
  {
   "cell_type": "code",
   "execution_count": null,
   "id": "00367e2d",
   "metadata": {},
   "outputs": [],
   "source": []
  },
  {
   "cell_type": "code",
   "execution_count": null,
   "id": "a339c8b0",
   "metadata": {},
   "outputs": [],
   "source": []
  },
  {
   "cell_type": "code",
   "execution_count": null,
   "id": "2b9b0e22",
   "metadata": {},
   "outputs": [],
   "source": []
  },
  {
   "cell_type": "code",
   "execution_count": null,
   "id": "750e5262",
   "metadata": {},
   "outputs": [],
   "source": [
    "import datetime\n",
    "import time\n",
    "import asyncio\n",
    "import telethon\n",
    "from telethon.sessions import StringSession\n",
    "from telethon.sync import TelegramClient, events\n",
    "import nest_asyncio as nta\n",
    "from os import system\n",
    "import random\n",
    "\n",
    "import os\n",
    "\n",
    "\n",
    "class TelegramBot():\n",
    "    def __init__(self):\n",
    "        self.id=8055482\n",
    "        self.hash='2f92ec1401f0a9d6ba10a7ccadcca439'\n",
    "        self.usernames=[]\n",
    "        self.users=[]\n",
    "        \n",
    "    async def create_new_user(self):\n",
    "        try:\n",
    "            if len(self.usernames)<1:\n",
    "                self.load_data()\n",
    "            while(1):\n",
    "                username=input(\"Enter Unique Username :\")\n",
    "                if username in self.usernames:\n",
    "                    print(\"This user already exists\")\n",
    "                else:\n",
    "                    break\n",
    "                    \n",
    "            string_session=''\n",
    "            async with TelegramClient(StringSession(), self.id, self.hash) as client:\n",
    "                string_session=client.session.save()\n",
    "\n",
    "            datacreation=[]\n",
    "            for i in range(len(self.users)):\n",
    "                datacreation.append(self.usernames[i])\n",
    "                datacreation.append(self.users[i])\n",
    "            \n",
    "            saveusers=datacreation+[username,string_session]\n",
    "            for x in range(len(saveusers)):\n",
    "                saveusers[x]=saveusers[x]+'\\n'\n",
    "            \n",
    "            file1 = open('users.txt', 'w')\n",
    "            file1.writelines(saveusers)\n",
    "            file1.close()\n",
    "            self.usernames.append(username)\n",
    "            self.users.append(string_session)\n",
    "            print(\"New User Added\")\n",
    "\n",
    "        except:\n",
    "            print(\"Exception Occurred while creating new user\")\n",
    "    \n",
    "\n",
    "    def index(self,username):\n",
    "        for i in range(len(self.usernames)):\n",
    "            if self.usernames[i]==username:\n",
    "                return i\n",
    "\n",
    "    def delete_user(self):\n",
    "        if len(self.usernames)<1:\n",
    "            self.load_data()\n",
    "            \n",
    "        username=input(\"Enter Username of user you want to delete \")\n",
    "        if username in self.usernames:\n",
    "            user_index=self.index(username)\n",
    "            self.usernames.pop(user_index)\n",
    "            self.users.pop(user_index)\n",
    "            \n",
    "            datacreation=[]\n",
    "            for i in range(len(self.users)):\n",
    "                datacreation.append(self.usernames[i])\n",
    "                datacreation.append(self.users[i])\n",
    "\n",
    "            saveusers=datacreation\n",
    "            for x in range(len(saveusers)):\n",
    "                saveusers[x]=saveusers[x]+'\\n'\n",
    "            file1 = open('users.txt', 'w')\n",
    "            file1.writelines(saveusers)\n",
    "            file1.close()\n",
    "        else:\n",
    "            print(\"User Do not Exists\")\n",
    "            \n",
    "    \n",
    "    async def add_user_to_chat(self,id,hash,sessionstring,chatid):\n",
    "        async with TelegramClient(StringSession(sessionstring), id, hash) as client:\n",
    "            await client.send_message(chatid,msg,parse_mode='html')\n",
    "            \n",
    "            \n",
    "    def load_data(self):\n",
    "        users = open('users.txt', 'r')\n",
    "        Users = users.readlines()\n",
    "        count=0\n",
    "        for user in Users:\n",
    "            if user[-1]=='\\n':\n",
    "                user=user[:-1]\n",
    "\n",
    "            if count%2==0:\n",
    "                self.usernames.append(user)\n",
    "            else:\n",
    "                self.users.append(user)\n",
    "            count=count+1\n",
    "        \n",
    "    \n",
    "    async def RunBot(self):\n",
    "        while True:\n",
    "            print(\"Enter 1 for Bulk Addition\")\n",
    "            print(\"Enter 2 to Enter a New Super User\")\n",
    "            print(\"Enter 3 to Delete an existing super user\")\n",
    "            print(\"Enter 4 to Exit\")\n",
    "            option=0\n",
    "            while True:\n",
    "                try:\n",
    "                    option=int(input(\"Enter your choice \"))\n",
    "                    if (option==1) | (option==2) | (option==3) | (option==4): \n",
    "                        break\n",
    "                    else:\n",
    "                        print(\"Select from above 4 options \")\n",
    "                except Exception as ex:\n",
    "                    print(ex)\n",
    "            if option==1:\n",
    "                pass\n",
    "            elif option==2:\n",
    "                await self.create_new_user()\n",
    "            elif option==3:\n",
    "                self.delete_user()\n",
    "            elif option ==4:\n",
    "                break\n",
    "    async def Run(self):\n",
    "        await self.RunBot()\n",
    "        \n",
    "TB=TelegramBot()\n",
    "await TB.Run()"
   ]
  },
  {
   "cell_type": "code",
   "execution_count": null,
   "id": "86526d4d",
   "metadata": {},
   "outputs": [],
   "source": []
  }
 ],
 "metadata": {
  "kernelspec": {
   "display_name": "Python 3",
   "language": "python",
   "name": "python3"
  },
  "language_info": {
   "codemirror_mode": {
    "name": "ipython",
    "version": 3
   },
   "file_extension": ".py",
   "mimetype": "text/x-python",
   "name": "python",
   "nbconvert_exporter": "python",
   "pygments_lexer": "ipython3",
   "version": "3.8.8"
  }
 },
 "nbformat": 4,
 "nbformat_minor": 5
}
